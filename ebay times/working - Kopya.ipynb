{
 "cells": [
  {
   "cell_type": "code",
   "execution_count": 1,
   "metadata": {},
   "outputs": [],
   "source": [
    "from bs4 import BeautifulSoup\n",
    "import requests\n",
    "from datetime import datetime\n",
    "import urllib.parse\n",
    "\n",
    "def urlParser(url):\n",
    "    url=urllib.parse.unquote(url)\n",
    "    itemID=url.split(\"https://www.ebay.com/itm/\")[1].split(\"?\")[0]\n",
    "    return itemID\n",
    "\n",
    "\n",
    "def get_date(date_str):\n",
    "    parsed_date = datetime.strptime(date_str, \"%Y-%m-%dT%H:%M:%S.%fZ\")\n",
    "    return parsed_date.strftime(\"%A, %d %b 20%y %H:%M:%S UTC\")\n",
    "\n",
    "\n",
    "\n",
    "# Define the XML request body\n",
    "def getDetails(listingID):    \n",
    "    xml_request = f\"\"\"<?xml version=\"1.0\" encoding=\"utf-8\"?>\n",
    "    <GetSingleItemRequest xmlns=\"urn:ebay:apis:eBLBaseComponents\">\n",
    "        <ItemID>{listingID}</ItemID>\n",
    "        <IncludeSelector>Details</IncludeSelector>\n",
    "    </GetSingleItemRequest>\"\"\"\n",
    "\n",
    "    headers = {\n",
    "        \"X-EBAY-API-IAF-TOKEN\": \"Bearer v^1.1#i^1#f^0#p^1#I^3#r^0#t^H4sIAAAAAAAAAOVYbWwURRi+a68FAhQNjWADSdmCQvH29uu+1t6l12trT1uu7RUCyEdnd2ePbfd2rztztldC0vQHCQGMJAWjRKj8QNEoCQpRf2BQDIkYMESIAZGAXyRIAgRCREV3r0e5VgJIL7GJ9+cy77zzzvM8874zs0P1FU+qXN+w/uZU+4SCwT6qr8BupydTk4qLFpYUFpQV2agcB/tg39w+R3/hxSoEEmqSb4UoqWsIlvckVA3xGWOASBkarwOkIF4DCYh4LPKxUFMjz5AUnzR0rIu6SpRHagME8ACJZmjJLXslr9tPm1btTsw23ez3Aq+bkt2yB3g5EXjNfoRSMKIhDDQcIBiK4ZwU66T8bTTLsx6ec5MeH7ucKF8CDaTomulCUkQwA5fPjDVysN4fKkAIGtgMQgQjofpYNBSprVvUVuXKiRXM6hDDAKfQyFZYl2D5EqCm4P2nQRlvPpYSRYgQ4QoOzTAyKB+6A+YR4Gek9tCC4JNNGRng8bJuf16krNeNBMD3x2FZFMkpZ1x5qGEFpx+kqKmG0AFFnG0tMkNEasutv5YUUBVZgUaAqKsJLQs1NxPBGt0AIaQCp6ogrGhx7GxurXUyDENJfh8lOL0cJws+hs5ONBQtK/OomcK6JimWaKh8kY5roIkajtaGydHGdIpqUSMkYwtRrp/7joZe73JrUYdWMYXXaNa6woQpRHmm+eAVGB6NsaEIKQyHI4zuyEhklk0yqUjE6M5MLmbTpwcFiDUYJ3mXq7u7m+xmSd2IuxiKol1Lmxpj4hqYAITpa9X6kL/y4AFOJUNFhOZIpPA4nTSx9Ji5agLQ4kSQ89Mejzer+0hYwdHWfxhyOLtGVkS+KkTy0QInUR7gYVmOY7l8VEgwm6QuCwcUQNqZAEYnxEkViNApmnmWSkBDkXjWLTOsT4ZOyeOXnZxflp2CW/I4aRlCCkJBEP2+/1OhPGyqx6BoQJyXXM9bntcLvT0iEiPh5mRrY0eHVk/r9YzaEfd3RtKL4+7eaKegx4W61p5wJPCw1XBP8mFVMZVpM+fPhwBWredPhAYdYSiNiV5M1JOwWVcVMT2+Fpg1pGZg4HQMqqppGBPJUDIZyc9enTd6/3KbeDTe+Tuj/qPz6Z6skJWy44uVNR6ZAUBSIa0TiBT1hMuqdR2Y1w/LvDqDeky8FfPmOq5YmySH2CrS0JWTzNAl0UsiaUCkpwzztk1GrRtYm94JNfM8w4auqtBYMra8tuo5kUhhIKhwvBV2HhJcAePssKW9lN/vpznKPSZeYuYoXT3etqR8bMWO5x7xWu0a+ZEftGV+dL/9M6rffrDAbqeqqHl0BTWnuHCxo3BKGVIwJBUgk0iJa+a3qwHJTphOAsUomG67tmtrQ7isLrqtcm1b+uvtR2xTct4YBldSM4dfGSYV0pNznhyoWXd7iuhpM6YyHMVSfpplPZx7OVVxt9dBP+EojTJdVU9O2fFVO9e3/fFV6pbiTcJ1auqwk91eZHP0223xby/Ne7Xp1idvEAe+ey9csbs6yuLup86gBdXhGTO3aspm2wSjq/RaJRhYGzi88ccVHx47fO7ArjMXXn7t5PkVg0v5lmVdX+xpb990YsP7x1ZOm3Pl1OkVV/m3yQt/VM9ST948n35T2nu7YuHmiTuXXk0fP73x+j47URUdLCmt+6X3xmOV2yaWvJKo/rhy/47q3z764YTtXNWNOT831XywaffFdavsLxwuOVZ29uhO7/5ntt/a8unlgZPHZ7+4bnrxwXdqj+75ctmlp1Xt2bOHqqqPvE7/1DC/2+fu+uav9JWje+f/3tJ5Yfp5x4LvK56f29hS1H7qLfHdfU3XLhdPrnMESvf/OfvXz29riQ0DvVsODa3l3w8MceT9EQAA\",\n",
    "        \"X-EBAY-API-SITE-ID\": \"0\",\n",
    "        \"X-EBAY-API-CALL-NAME\": \"GetSingleItem\",\n",
    "        \"X-EBAY-API-VERSION\": \"863\",\n",
    "        \"X-EBAY-API-REQUEST-ENCODING\": \"xml\"\n",
    "    }\n",
    "\n",
    "    # Define the endpoint\n",
    "    url = 'https://open.api.ebay.com/shopping'\n",
    "\n",
    "    # Send the request\n",
    "    response = requests.post(url, headers=headers, data=xml_request)\n",
    "    soup=BeautifulSoup(response.text, 'xml')\n",
    "    name=soup.find('Title').text\n",
    "    url=\"https://www.ebay.com/itm/\"+str(listingID)\n",
    "    start=soup.find('StartTime').text\n",
    "    print(\"Name of product:\",name)\n",
    "    print(\"URL of listing:\",url)\n",
    "    print(\"ID of listing:\",listingID)\n",
    "    print(\"Start time of listing:\",get_date(start))\n",
    "\n",
    "\n"
   ]
  },
  {
   "cell_type": "code",
   "execution_count": 2,
   "metadata": {},
   "outputs": [],
   "source": [
    "import requests\n",
    "from datetime import datetime\n",
    "\n",
    "def get_date(date_str):\n",
    "    parsed_date = datetime.strptime(date_str, \"%Y-%m-%dT%H:%M:%S.%fZ\")\n",
    "    return parsed_date.strftime(\"%A, %d %b 20%y %H:%M:%S UTC\")\n",
    "\n",
    "itemID=196160072952\n",
    "# Define the XML request body\n",
    "xml_request = f\"\"\"<?xml version=\"1.0\" encoding=\"utf-8\"?>\n",
    "<GetSingleItemRequest xmlns=\"urn:ebay:apis:eBLBaseComponents\">\n",
    "    <ItemID>{itemID}</ItemID>\n",
    "    <IncludeSelector>Details</IncludeSelector>\n",
    "</GetSingleItemRequest>\"\"\"\n",
    "\n",
    "headers = {\n",
    "    \"X-EBAY-API-IAF-TOKEN\": \"Bearer v^1.1#i^1#f^0#p^1#I^3#r^0#t^H4sIAAAAAAAAAOVYbWwURRi+a68FAhQNjWADSdmCQvH29uu+1t6l12trT1uu7RUCyEdnd2ePbfd2rztztldC0vQHCQGMJAWjRKj8QNEoCQpRf2BQDIkYMESIAZGAXyRIAgRCREV3r0e5VgJIL7GJ9+cy77zzzvM8874zs0P1FU+qXN+w/uZU+4SCwT6qr8BupydTk4qLFpYUFpQV2agcB/tg39w+R3/hxSoEEmqSb4UoqWsIlvckVA3xGWOASBkarwOkIF4DCYh4LPKxUFMjz5AUnzR0rIu6SpRHagME8ACJZmjJLXslr9tPm1btTsw23ez3Aq+bkt2yB3g5EXjNfoRSMKIhDDQcIBiK4ZwU66T8bTTLsx6ec5MeH7ucKF8CDaTomulCUkQwA5fPjDVysN4fKkAIGtgMQgQjofpYNBSprVvUVuXKiRXM6hDDAKfQyFZYl2D5EqCm4P2nQRlvPpYSRYgQ4QoOzTAyKB+6A+YR4Gek9tCC4JNNGRng8bJuf16krNeNBMD3x2FZFMkpZ1x5qGEFpx+kqKmG0AFFnG0tMkNEasutv5YUUBVZgUaAqKsJLQs1NxPBGt0AIaQCp6ogrGhx7GxurXUyDENJfh8lOL0cJws+hs5ONBQtK/OomcK6JimWaKh8kY5roIkajtaGydHGdIpqUSMkYwtRrp/7joZe73JrUYdWMYXXaNa6woQpRHmm+eAVGB6NsaEIKQyHI4zuyEhklk0yqUjE6M5MLmbTpwcFiDUYJ3mXq7u7m+xmSd2IuxiKol1Lmxpj4hqYAITpa9X6kL/y4AFOJUNFhOZIpPA4nTSx9Ji5agLQ4kSQ89Mejzer+0hYwdHWfxhyOLtGVkS+KkTy0QInUR7gYVmOY7l8VEgwm6QuCwcUQNqZAEYnxEkViNApmnmWSkBDkXjWLTOsT4ZOyeOXnZxflp2CW/I4aRlCCkJBEP2+/1OhPGyqx6BoQJyXXM9bntcLvT0iEiPh5mRrY0eHVk/r9YzaEfd3RtKL4+7eaKegx4W61p5wJPCw1XBP8mFVMZVpM+fPhwBWredPhAYdYSiNiV5M1JOwWVcVMT2+Fpg1pGZg4HQMqqppGBPJUDIZyc9enTd6/3KbeDTe+Tuj/qPz6Z6skJWy44uVNR6ZAUBSIa0TiBT1hMuqdR2Y1w/LvDqDeky8FfPmOq5YmySH2CrS0JWTzNAl0UsiaUCkpwzztk1GrRtYm94JNfM8w4auqtBYMra8tuo5kUhhIKhwvBV2HhJcAePssKW9lN/vpznKPSZeYuYoXT3etqR8bMWO5x7xWu0a+ZEftGV+dL/9M6rffrDAbqeqqHl0BTWnuHCxo3BKGVIwJBUgk0iJa+a3qwHJTphOAsUomG67tmtrQ7isLrqtcm1b+uvtR2xTct4YBldSM4dfGSYV0pNznhyoWXd7iuhpM6YyHMVSfpplPZx7OVVxt9dBP+EojTJdVU9O2fFVO9e3/fFV6pbiTcJ1auqwk91eZHP0223xby/Ne7Xp1idvEAe+ey9csbs6yuLup86gBdXhGTO3aspm2wSjq/RaJRhYGzi88ccVHx47fO7ArjMXXn7t5PkVg0v5lmVdX+xpb990YsP7x1ZOm3Pl1OkVV/m3yQt/VM9ST948n35T2nu7YuHmiTuXXk0fP73x+j47URUdLCmt+6X3xmOV2yaWvJKo/rhy/47q3z764YTtXNWNOT831XywaffFdavsLxwuOVZ29uhO7/5ntt/a8unlgZPHZ7+4bnrxwXdqj+75ctmlp1Xt2bOHqqqPvE7/1DC/2+fu+uav9JWje+f/3tJ5Yfp5x4LvK56f29hS1H7qLfHdfU3XLhdPrnMESvf/OfvXz29riQ0DvVsODa3l3w8MceT9EQAA\",\n",
    "    \"X-EBAY-API-SITE-ID\": \"0\",\n",
    "    \"X-EBAY-API-CALL-NAME\": \"GetSingleItem\",\n",
    "    \"X-EBAY-API-VERSION\": \"863\",\n",
    "    \"X-EBAY-API-REQUEST-ENCODING\": \"xml\"\n",
    "}\n",
    "\n",
    "# Define the endpoint\n",
    "url = 'https://open.api.ebay.com/shopping'\n",
    "\n",
    "# Send the request\n",
    "response = requests.post(url, headers=headers, data=xml_request)\n",
    "print(response.text)\n",
    "# Print the response\n",
    "#print(response.text)\n",
    "from bs4 import BeautifulSoup\n",
    "soup=BeautifulSoup(response.text, 'xml')\n"
   ]
  },
  {
   "cell_type": "code",
   "execution_count": 3,
   "metadata": {},
   "outputs": [
    {
     "ename": "AttributeError",
     "evalue": "'NoneType' object has no attribute 'text'",
     "output_type": "error",
     "traceback": [
      "\u001b[1;31m---------------------------------------------------------------------------\u001b[0m",
      "\u001b[1;31mAttributeError\u001b[0m                            Traceback (most recent call last)",
      "Cell \u001b[1;32mIn[3], line 2\u001b[0m\n\u001b[0;32m      1\u001b[0m url\u001b[38;5;241m=\u001b[39m\u001b[38;5;124m\"\u001b[39m\u001b[38;5;124mhttps://www.ebay.com/itm/186312828253?_trkparms=amclksrc\u001b[39m\u001b[38;5;124m%\u001b[39m\u001b[38;5;124m3DITM\u001b[39m\u001b[38;5;132;01m%26a\u001b[39;00m\u001b[38;5;124mid\u001b[39m\u001b[38;5;124m%\u001b[39m\u001b[38;5;124m3D777008\u001b[39m\u001b[38;5;132;01m%26a\u001b[39;00m\u001b[38;5;124mlgo\u001b[39m\u001b[38;5;124m%\u001b[39m\u001b[38;5;124m3DPERSONAL.TOPIC\u001b[39m\u001b[38;5;132;01m%26a\u001b[39;00m\u001b[38;5;124mo\u001b[39m\u001b[38;5;124m%\u001b[39m\u001b[38;5;124m3D1\u001b[39m\u001b[38;5;132;01m%26a\u001b[39;00m\u001b[38;5;124msc\u001b[39m\u001b[38;5;124m%\u001b[39m\u001b[38;5;124m3D20230811172246\u001b[39m\u001b[38;5;124m%\u001b[39m\u001b[38;5;124m26meid\u001b[39m\u001b[38;5;124m%\u001b[39m\u001b[38;5;124m3D9eef7ceb962b42968b0b29059af35ced\u001b[39m\u001b[38;5;124m%\u001b[39m\u001b[38;5;124m26pid\u001b[39m\u001b[38;5;124m%\u001b[39m\u001b[38;5;124m3D101783\u001b[39m\u001b[38;5;132;01m%26r\u001b[39;00m\u001b[38;5;124mk\u001b[39m\u001b[38;5;124m%\u001b[39m\u001b[38;5;124m3D1\u001b[39m\u001b[38;5;132;01m%26r\u001b[39;00m\u001b[38;5;124mkt\u001b[39m\u001b[38;5;124m%\u001b[39m\u001b[38;5;124m3D1\u001b[39m\u001b[38;5;132;01m%26i\u001b[39;00m\u001b[38;5;124mtm\u001b[39m\u001b[38;5;124m%\u001b[39m\u001b[38;5;124m3D186312828253\u001b[39m\u001b[38;5;124m%\u001b[39m\u001b[38;5;124m26pmt\u001b[39m\u001b[38;5;124m%\u001b[39m\u001b[38;5;124m3D0\u001b[39m\u001b[38;5;124m%\u001b[39m\u001b[38;5;124m26noa\u001b[39m\u001b[38;5;124m%\u001b[39m\u001b[38;5;124m3D1\u001b[39m\u001b[38;5;124m%\u001b[39m\u001b[38;5;124m26pg\u001b[39m\u001b[38;5;124m%\u001b[39m\u001b[38;5;124m3D4375194\u001b[39m\u001b[38;5;132;01m%26a\u001b[39;00m\u001b[38;5;124mlgv\u001b[39m\u001b[38;5;124m%\u001b[39m\u001b[38;5;124m3DFeaturedDealsV2&_trksid=p\u001b[39m\u001b[38;5;124m\"\u001b[39m\n\u001b[1;32m----> 2\u001b[0m \u001b[43mgetDetails\u001b[49m\u001b[43m(\u001b[49m\u001b[43murlParser\u001b[49m\u001b[43m(\u001b[49m\u001b[43murl\u001b[49m\u001b[43m)\u001b[49m\u001b[43m)\u001b[49m\n",
      "Cell \u001b[1;32mIn[1], line 40\u001b[0m, in \u001b[0;36mgetDetails\u001b[1;34m(listingID)\u001b[0m\n\u001b[0;32m     38\u001b[0m response \u001b[38;5;241m=\u001b[39m requests\u001b[38;5;241m.\u001b[39mpost(url, headers\u001b[38;5;241m=\u001b[39mheaders, data\u001b[38;5;241m=\u001b[39mxml_request)\n\u001b[0;32m     39\u001b[0m soup\u001b[38;5;241m=\u001b[39mBeautifulSoup(response\u001b[38;5;241m.\u001b[39mtext, \u001b[38;5;124m'\u001b[39m\u001b[38;5;124mxml\u001b[39m\u001b[38;5;124m'\u001b[39m)\n\u001b[1;32m---> 40\u001b[0m name\u001b[38;5;241m=\u001b[39m\u001b[43msoup\u001b[49m\u001b[38;5;241;43m.\u001b[39;49m\u001b[43mfind\u001b[49m\u001b[43m(\u001b[49m\u001b[38;5;124;43m'\u001b[39;49m\u001b[38;5;124;43mTitle\u001b[39;49m\u001b[38;5;124;43m'\u001b[39;49m\u001b[43m)\u001b[49m\u001b[38;5;241;43m.\u001b[39;49m\u001b[43mtext\u001b[49m\n\u001b[0;32m     41\u001b[0m url\u001b[38;5;241m=\u001b[39m\u001b[38;5;124m\"\u001b[39m\u001b[38;5;124mhttps://www.ebay.com/itm/\u001b[39m\u001b[38;5;124m\"\u001b[39m\u001b[38;5;241m+\u001b[39m\u001b[38;5;28mstr\u001b[39m(listingID)\n\u001b[0;32m     42\u001b[0m start\u001b[38;5;241m=\u001b[39msoup\u001b[38;5;241m.\u001b[39mfind(\u001b[38;5;124m'\u001b[39m\u001b[38;5;124mStartTime\u001b[39m\u001b[38;5;124m'\u001b[39m)\u001b[38;5;241m.\u001b[39mtext\n",
      "\u001b[1;31mAttributeError\u001b[0m: 'NoneType' object has no attribute 'text'"
     ]
    }
   ],
   "source": [
    "url=\"https://www.ebay.com/itm/186312828253?_trkparms=amclksrc%3DITM%26aid%3D777008%26algo%3DPERSONAL.TOPIC%26ao%3D1%26asc%3D20230811172246%26meid%3D9eef7ceb962b42968b0b29059af35ced%26pid%3D101783%26rk%3D1%26rkt%3D1%26itm%3D186312828253%26pmt%3D0%26noa%3D1%26pg%3D4375194%26algv%3DFeaturedDealsV2&_trksid=p\"\n",
    "getDetails(urlParser(url))\n"
   ]
  },
  {
   "cell_type": "code",
   "execution_count": null,
   "metadata": {},
   "outputs": [],
   "source": [
    "name=soup.find('Title').text\n",
    "url=\"https://www.ebay.com/itm/\"+str(itemID)\n",
    "start=soup.find('StartTime').text\n",
    "print(\"Name of product:\",name)\n",
    "print(\"URL of listing:\",url)\n",
    "print(\"ID of listing:\",itemID)\n",
    "print(\"Start time of listing:\",get_date(start))"
   ]
  }
 ],
 "metadata": {
  "kernelspec": {
   "display_name": "Python 3",
   "language": "python",
   "name": "python3"
  },
  "language_info": {
   "codemirror_mode": {
    "name": "ipython",
    "version": 3
   },
   "file_extension": ".py",
   "mimetype": "text/x-python",
   "name": "python",
   "nbconvert_exporter": "python",
   "pygments_lexer": "ipython3",
   "version": "3.11.4"
  }
 },
 "nbformat": 4,
 "nbformat_minor": 2
}
