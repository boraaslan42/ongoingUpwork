{
 "cells": [
  {
   "cell_type": "code",
   "execution_count": 4,
   "metadata": {},
   "outputs": [
    {
     "ename": "Exception",
     "evalue": "('Token refresh failed', '{\"error\":\"invalid_grant\",\"error_description\":\"the provided authorization refresh token is invalid or was issued to another client\"}')",
     "output_type": "error",
     "traceback": [
      "\u001b[1;31m---------------------------------------------------------------------------\u001b[0m",
      "\u001b[1;31mException\u001b[0m                                 Traceback (most recent call last)",
      "Cell \u001b[1;32mIn[4], line 24\u001b[0m\n\u001b[0;32m     21\u001b[0m         \u001b[38;5;28;01mraise\u001b[39;00m \u001b[38;5;167;01mException\u001b[39;00m(\u001b[38;5;124m\"\u001b[39m\u001b[38;5;124mToken refresh failed\u001b[39m\u001b[38;5;124m\"\u001b[39m,response\u001b[38;5;241m.\u001b[39mtext)\n\u001b[0;32m     23\u001b[0m \u001b[38;5;66;03m# Usage example\u001b[39;00m\n\u001b[1;32m---> 24\u001b[0m access_token, refresh_token \u001b[38;5;241m=\u001b[39m \u001b[43mrefresh_token\u001b[49m\u001b[43m(\u001b[49m\u001b[38;5;124;43m'\u001b[39;49m\u001b[38;5;124;43mYOUR_REFRESH_TOKEN\u001b[39;49m\u001b[38;5;124;43m'\u001b[39;49m\u001b[43m)\u001b[49m\n\u001b[0;32m     25\u001b[0m \u001b[38;5;28mprint\u001b[39m(\u001b[38;5;124m\"\u001b[39m\u001b[38;5;124mAccess token:\u001b[39m\u001b[38;5;124m\"\u001b[39m, access_token)\n",
      "Cell \u001b[1;32mIn[4], line 21\u001b[0m, in \u001b[0;36mrefresh_token\u001b[1;34m(refresh_token)\u001b[0m\n\u001b[0;32m     19\u001b[0m     \u001b[38;5;28;01mreturn\u001b[39;00m access_token, new_refresh_token\n\u001b[0;32m     20\u001b[0m \u001b[38;5;28;01melse\u001b[39;00m:\n\u001b[1;32m---> 21\u001b[0m     \u001b[38;5;28;01mraise\u001b[39;00m \u001b[38;5;167;01mException\u001b[39;00m(\u001b[38;5;124m\"\u001b[39m\u001b[38;5;124mToken refresh failed\u001b[39m\u001b[38;5;124m\"\u001b[39m,response\u001b[38;5;241m.\u001b[39mtext)\n",
      "\u001b[1;31mException\u001b[0m: ('Token refresh failed', '{\"error\":\"invalid_grant\",\"error_description\":\"the provided authorization refresh token is invalid or was issued to another client\"}')"
     ]
    }
   ],
   "source": [
    "import requests\n",
    "\n",
    "def refresh_token(refresh_token):\n",
    "    token_url = 'https://api.ebay.com/identity/v1/oauth2/token'\n",
    "    client_id = 'BoraAsla-listingt-PRD-2220d980b-744fb821'\n",
    "    client_secret = 'PRD-220d980b757e-e525-44f0-ab5c-6d5a'\n",
    "    \n",
    "    data = {\n",
    "        'grant_type': 'refresh_token',\n",
    "        'refresh_token': refresh_token\n",
    "    }\n",
    "\n",
    "    response = requests.post(token_url, data=data, auth=(client_id, client_secret))\n",
    "\n",
    "    if response.status_code == 200:\n",
    "        token_data = response.json()\n",
    "        access_token = token_data['access_token']\n",
    "        new_refresh_token = token_data['refresh_token']  # Optional: eBay might issue a new refresh token\n",
    "        return access_token, new_refresh_token\n",
    "    else:\n",
    "        raise Exception(\"Token refresh failed\",response.text)\n",
    "\n",
    "# Usage example\n",
    "access_token, refresh_token = refresh_token('YOUR_REFRESH_TOKEN')\n",
    "print(\"Access token:\", access_token)\n"
   ]
  },
  {
   "cell_type": "code",
   "execution_count": null,
   "metadata": {},
   "outputs": [],
   "source": [
    "import requests\n",
    "from urllib.parse import urlencode\n",
    "\n",
    "def refresh_token(client_id, client_secret, refresh_token):\n",
    "    token_url = 'https://api.sandbox.ebay.com/identity/v1/oauth2/token'\n",
    "    \n",
    "    headers = {\n",
    "        'Content-Type': 'application/x-www-form-urlencoded',\n",
    "        'Authorization': 'Basic <B64-encoded-oauth-credentials>'\n",
    "    }\n",
    "\n",
    "    data = {\n",
    "        'grant_type': 'refresh_token',\n",
    "        'refresh_token': refresh_token,\n",
    "        'scope': '<scopeList>'\n",
    "    }\n",
    "\n",
    "    response = requests.post(token_url, headers=headers, data=urlencode(data), auth=(client_id, client_secret))\n",
    "\n",
    "    if response.status_code == 200:\n",
    "        token_data = response.json()\n",
    "        access_token = token_data['access_token']\n",
    "        new_refresh_token = token_data.get('refresh_token', None)  # eBay might issue a new refresh token\n",
    "        return access_token, new_refresh_token\n",
    "    else:\n",
    "        raise Exception(\"Token refresh failed\")\n",
    "\n",
    "# Usage example\n",
    "client_id = 'YOUR_CLIENT_ID'\n",
    "client_secret = 'YOUR_CLIENT_SECRET'\n",
    "refresh_token_value = 'YOUR_REFRESH_TOKEN'\n",
    "\n",
    "access_token, new_refresh_token = refresh_token(client_id, client_secret, refresh_token_value)\n",
    "print(\"Access token:\", access_token)\n",
    "if new_refresh_token:\n",
    "    print(\"New Refresh token:\", new_refresh_token)\n"
   ]
  },
  {
   "cell_type": "code",
   "execution_count": 13,
   "metadata": {},
   "outputs": [
    {
     "data": {
      "text/plain": [
       "'<?xml version=\"1.0\" encoding=\"UTF-8\" ?><GeteBayOfficialTimeResponse xmlns=\"urn:ebay:apis:eBLBaseComponents\"><Timestamp>2024-03-14 14:02:51</Timestamp><Ack>Failure</Ack><Errors><ShortMessage>Unsupported API call.</ShortMessage><LongMessage>The API call \"GeteBayOfficialTime\" is invalid or not supported in this release.</LongMessage><ErrorCode>2</ErrorCode><SeverityCode>Error</SeverityCode><ErrorClassification>RequestError</ErrorClassification></Errors><Version>967</Version><Build>19110890</Build></GeteBayOfficialTimeResponse>'"
      ]
     },
     "execution_count": 13,
     "metadata": {},
     "output_type": "execute_result"
    }
   ],
   "source": [
    "import requests\n",
    "\n",
    "# eBay API endpoint\n",
    "url = \"https://api.ebay.com/ws/api.dll\"\n",
    "\n",
    "# eBay API headers\n",
    "ebay_api_site_id = \"0\"\n",
    "ebay_api_compat_level = \"967\"\n",
    "headers = {\n",
    "    \"X-EBAY-API-SITEID\": ebay_api_site_id,\n",
    "    \"X-EBAY-API-COMPATIBILITY-LEVEL\": ebay_api_compat_level,\n",
    "    \"Content-Type\": \"text/xml\"\n",
    "}\n",
    "\n",
    "# eBay API request body\n",
    "ebay_user_id = \"BoraAsla-listingt-PRD-2220d980b-744fb821\"\n",
    "ebay_auth_token = \"v^1.1#i^1#p^3#f^0#I^3#r^0#t^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\"\n",
    "body = f\"\"\"<?xml version=\"1.0\" encoding=\"utf-8\"?>\n",
    "<GetUserRequest xmlns=\"urn:ebay:apis:eBLBaseComponents\"> \n",
    "  <RequesterCredentials>\n",
    "    <eBayAuthToken>{ebay_auth_token}</eBayAuthToken>\n",
    "  </RequesterCredentials>\n",
    "  <ErrorLanguage>en_US</ErrorLanguage>\n",
    "  <WarningLevel>High</WarningLevel>\n",
    "  <UserID>{ebay_user_id}</UserID>\n",
    "</GetUserRequest>\"\"\"\n",
    "\n",
    "# Send the request\n",
    "response = requests.post(url, headers=headers, data=body)\n",
    "\n",
    "response.text"
   ]
  }
 ],
 "metadata": {
  "kernelspec": {
   "display_name": "Python 3",
   "language": "python",
   "name": "python3"
  },
  "language_info": {
   "codemirror_mode": {
    "name": "ipython",
    "version": 3
   },
   "file_extension": ".py",
   "mimetype": "text/x-python",
   "name": "python",
   "nbconvert_exporter": "python",
   "pygments_lexer": "ipython3",
   "version": "3.11.4"
  }
 },
 "nbformat": 4,
 "nbformat_minor": 2
}
