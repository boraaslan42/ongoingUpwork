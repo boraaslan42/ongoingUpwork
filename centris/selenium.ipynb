{
 "cells": [
  {
   "cell_type": "code",
   "execution_count": 3,
   "metadata": {},
   "outputs": [
    {
     "name": "stdout",
     "output_type": "stream",
     "text": [
      "ll-visitor-id=72e1d39b-910e-4a18-bf8b-6903e1c70ba2; didomi_token=eyJ1c2VyX2lkIjoiMThlNDM5MTEtMDUxYi02MTdjLTg5OTMtMDY2ZWU1YTYwNzE0IiwiY3JlYXRlZCI6IjIwMjQtMDMtMTVUMTk6MjI6NDQuMTc3WiIsInVwZGF0ZWQiOiIyMDI0LTAzLTE1VDE5OjIyOjQ0LjE3N1oiLCJ2ZXJzaW9uIjpudWxsfQ==; .AspNetCore.Session=CfDJ8K4bVR7RO11Hm8yVKoXBt3jN1o67bmdmRtYxHvG3RTQLKEd5x9jEnPr6IWFm48wgfFjQ4ybefX5kSdmvrXDmrp%2FlgUKFP7PL84glPa7ZsmTkMgbydD0sLsq7I9YkgcKqmm0Hm%2FeEnUbVuhcqK%2BBDPNbQqx8jovuOlsdOvA36Nc2C; ll-search-selection=; AnonymousId=ffe52987e58b463fa5bb9b96851f6761\n"
     ]
    }
   ],
   "source": [
    "from selenium import webdriver\n",
    "from selenium.webdriver.chrome.options import Options\n",
    "from selenium.webdriver.chrome.service import Service\n",
    "from selenium_stealth import stealth\n",
    "import requests\n",
    "import json\n",
    "\n",
    "\n",
    "options = Options()\n",
    "options.add_argument(\"start-maximized\")\n",
    "options.add_experimental_option(\"excludeSwitches\", [\"enable-automation\"])\n",
    "options.add_experimental_option('useAutomationExtension', False)\n",
    "s = Service()\n",
    "driver = webdriver.Chrome(service=s, options=options)\n",
    "\n",
    "# Selenium Stealth settings\n",
    "stealth(driver,\n",
    "        languages=[\"en-US\", \"en\"],\n",
    "        vendor=\"Google Inc.\",\n",
    "        platform=\"Win32\",\n",
    "        webgl_vendor=\"Intel Inc.\",\n",
    "        renderer=\"Intel Iris OpenGL Engine\",\n",
    "        fix_hairline=True,\n",
    "        )\n",
    "driver.get(\"https://www.centris.ca/en/properties~for-sale?view=Thumbnail&uc=1\")\n",
    "\n",
    "\n",
    "# Print the page source\n",
    "#print(driver.page_source)\n",
    "\n",
    "# Close the browser\n",
    "#https://nl.indeed.com/jobs?q=software+developer&l=Amsterdam&radius=50&start=0&vjk=2428722a909ac970\n",
    "#https://nl.indeed.com/vacatures?q=software+developer&l=Amsterdam&sc=0bf%3Aexrec%28%29%3B&vjk=2428722a909ac970\n",
    "#print(selenium_url)\n",
    "cookies = driver.get_cookies()\n",
    "cookie_str = '; '.join([f\"{cookie['name']}={cookie['value']}\" for cookie in cookies])\n",
    "print(cookie_str)\n",
    "workingC=\"AnonymousId=795a3f18c98c486b99a1a86d17e294e1; ll-search-selection=; .AspNetCore.Session=CfDJ8K4bVR7RO11Hm8yVKoXBt3jz+GpEVtYA/K6M7woicwSvCIjJdoPkdQBieUfKNI1Mf09V/hAo6Zt30yp2T02RwHpqyH3E4W5YK2ERZwlEeKjpQAyWVJQUXyFvqzBo0THjgMqMPIOC3xXHW+sDATI3X3YLaAT0eZRm52aCPZ46JU7u; didomi_token=eyJ1c2VyX2lkIjoiMThlNDJmZGMtZWU5NS02Y2ExLWI2NGUtOTU3ZGM1MDc4NWQwIiwiY3JlYXRlZCI6IjIwMjQtMDMtMTVUMTY6NDE6NTMuNjQxWiIsInVwZGF0ZWQiOiIyMDI0LTAzLTE1VDE2OjQyOjE0LjMwNloiLCJ2ZW5kb3JzIjp7ImVuYWJsZWQiOlsiZ29vZ2xlIiwiYzpwaW50ZXJlc3QiLCJjOmhvdGphciIsImM6Z29vZ2xlYW5hLTRUWG5KaWdSIiwiYzpsb2NhbGxvZ2ktalBEcHRSVWUiLCJjOmdvb2dsZW1hcC1SSGVpRHJFbiIsImM6cHJvc3BlY3RvLXhpVUUybmpFIiwiYzpkaWRvbWktODk0bkdUQkgiXX0sInZlbmRvcnNfbGkiOnsiZW5hYmxlZCI6WyJnb29nbGUiXX0sInZlcnNpb24iOjIsImFjIjoiQUZtQUNBRmsuQUZtQUNBRmsifQ==; euconsent-v2=CP7g5sAP7g5sAAHABBENArEgAP_AAELAAAAAF5wAgAmgLzAvOACAvMAA.f_gACFgAAAAA; _gcl_au=1.1.16334783.1710520934; _ga=GA1.1.1694716223.1710520914; _pin_unauth=dWlkPU1UaGxOVEl5TmpFdE1UQmxZeTAwTW1abExUazNNMlV0TlRjMllXWm1ZamN6WW1Saw; _hjSession_3464907=eyJpZCI6IjAzZWZiZGRkLWYwOWEtNDBiZC1hYzYxLWQxYzI4M2NlZTczNyIsImMiOjE3MTA1MjA5MzQ2NzcsInMiOjAsInIiOjAsInNiIjowLCJzciI6MCwic2UiOjAsImZzIjoxLCJzcCI6MX0=; _hjSessionUser_3464907=eyJpZCI6IjA1NDdkMzVkLTg5MzktNWQ5Zi1hNDczLWM0YmY2YTU0MzM3ZiIsImNyZWF0ZWQiOjE3MTA1MjA5MzQ2NzYsImV4aXN0aW5nIjp0cnVlfQ==; ll-visitor-id=583b5a83-dd9a-4a4c-9298-9712be07b31f; _ga_2BZHP07X6B=GS1.1.1710520913.1.1.1710523676.59.0.0; _derived_epik=dj0yJnU9VFAyU3VCUjAyRkZfdGREUmJwTy16V01SSDhTLWxKbFombj1BbmctMDJwbkg4cGlPVzBiOEZmSnBBJm09MSZ0PUFBQUFBR1gwaFJ3JnJtPTEmcnQ9QUFBQUFHWDBoUncmc3A9Mg\""
   ]
  },
  {
   "cell_type": "code",
   "execution_count": 20,
   "metadata": {},
   "outputs": [
    {
     "name": "stdout",
     "output_type": "stream",
     "text": [
      "ll-visitor-id=72e1d39b-910e-4a18-bf8b-6903e1c70ba2; didomi_token=eyJ1c2VyX2lkIjoiMThlNDM5MTEtMDUxYi02MTdjLTg5OTMtMDY2ZWU1YTYwNzE0IiwiY3JlYXRlZCI6IjIwMjQtMDMtMTVUMTk6MjI6NDQuMTc3WiIsInVwZGF0ZWQiOiIyMDI0LTAzLTE1VDE5OjIyOjQ0LjE3N1oiLCJ2ZXJzaW9uIjpudWxsfQ==; .AspNetCore.Session=CfDJ8K4bVR7RO11Hm8yVKoXBt3jN1o67bmdmRtYxHvG3RTQLKEd5x9jEnPr6IWFm48wgfFjQ4ybefX5kSdmvrXDmrp%2FlgUKFP7PL84glPa7ZsmTkMgbydD0sLsq7I9YkgcKqmm0Hm%2FeEnUbVuhcqK%2BBDPNbQqx8jovuOlsdOvA36Nc2C; ll-search-selection=; AnonymousId=ffe52987e58b463fa5bb9b96851f6761\n",
      "\n"
     ]
    }
   ],
   "source": [
    "print(cookie_str)\n",
    "print()"
   ]
  },
  {
   "cell_type": "code",
   "execution_count": 18,
   "metadata": {},
   "outputs": [
    {
     "name": "stdout",
     "output_type": "stream",
     "text": [
      "ll-visitor-id=72e1d39b-910e-4a18-bf8b-6903e1c70ba2; didomi_token=eyJ1c2VyX2lkIjoiMThlNDM5MTEtMDUxYi02MTdjLTg5OTMtMDY2ZWU1YTYwNzE0IiwiY3JlYXRlZCI6IjIwMjQtMDMtMTVUMTk6MjI6NDQuMTc3WiIsInVwZGF0ZWQiOiIyMDI0LTAzLTE1VDE5OjIyOjQ0LjE3N1oiLCJ2ZXJzaW9uIjpudWxsfQ==; .AspNetCore.Session=CfDJ8K4bVR7RO11Hm8yVKoXBt3jN1o67bmdmRtYxHvG3RTQLKEd5x9jEnPr6IWFm48wgfFjQ4ybefX5kSdmvrXDmrp%2FlgUKFP7PL84glPa7ZsmTkMgbydD0sLsq7I9YkgcKqmm0Hm%2FeEnUbVuhcqK%2BBDPNbQqx8jovuOlsdOvA36Nc2C; ll-search-selection=; AnonymousId=ffe52987e58b463fa5bb9b96851f6761\n"
     ]
    }
   ],
   "source": [
    "data = [{'domain': 'www.centris.ca', 'expiry': 1742066565, 'httpOnly': False, 'name': 'll-visitor-id', 'path': '/', 'sameSite': 'Lax', 'secure': False, 'value': '72e1d39b-910e-4a18-bf8b-6903e1c70ba2'}, {'domain': '.centris.ca', 'expiry': 1742152964, 'httpOnly': False, 'name': 'didomi_token', 'path': '/', 'sameSite': 'Lax', 'secure': False, 'value': 'eyJ1c2VyX2lkIjoiMThlNDM5MTEtMDUxYi02MTdjLTg5OTMtMDY2ZWU1YTYwNzE0IiwiY3JlYXRlZCI6IjIwMjQtMDMtMTVUMTk6MjI6NDQuMTc3WiIsInVwZGF0ZWQiOiIyMDI0LTAzLTE1VDE5OjIyOjQ0LjE3N1oiLCJ2ZXJzaW9uIjpudWxsfQ=='}, {'domain': 'www.centris.ca', 'httpOnly': True, 'name': '.AspNetCore.Session', 'path': '/', 'sameSite': 'Lax', 'secure': True, 'value': 'CfDJ8K4bVR7RO11Hm8yVKoXBt3jN1o67bmdmRtYxHvG3RTQLKEd5x9jEnPr6IWFm48wgfFjQ4ybefX5kSdmvrXDmrp%2FlgUKFP7PL84glPa7ZsmTkMgbydD0sLsq7I9YkgcKqmm0Hm%2FeEnUbVuhcqK%2BBDPNbQqx8jovuOlsdOvA36Nc2C'}, {'domain': 'www.centris.ca', 'expiry': 1742066562, 'httpOnly': False, 'name': 'll-search-selection', 'path': '/', 'sameSite': 'Lax', 'secure': False, 'value': ''}, {'domain': '.centris.ca', 'expiry': 1718479362, 'httpOnly': False, 'name': 'AnonymousId', 'path': '/', 'sameSite': 'Lax', 'secure': False, 'value': 'ffe52987e58b463fa5bb9b96851f6761'}]\n",
    "\n",
    "# Convert list of dictionaries to string\n",
    "cookie_string = \"\"\n",
    "for item in data:\n",
    "    cookie_string += f\"{item['name']}={item['value']}; \"\n",
    "\n",
    "# Remove the trailing semicolon and space\n",
    "cookie_string = cookie_string[:-2]\n",
    "\n",
    "print(cookie_string)\n"
   ]
  }
 ],
 "metadata": {
  "kernelspec": {
   "display_name": "Python 3",
   "language": "python",
   "name": "python3"
  },
  "language_info": {
   "codemirror_mode": {
    "name": "ipython",
    "version": 3
   },
   "file_extension": ".py",
   "mimetype": "text/x-python",
   "name": "python",
   "nbconvert_exporter": "python",
   "pygments_lexer": "ipython3",
   "version": "3.11.4"
  }
 },
 "nbformat": 4,
 "nbformat_minor": 2
}
