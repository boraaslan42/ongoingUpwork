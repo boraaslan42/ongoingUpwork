{
 "cells": [
  {
   "cell_type": "code",
   "execution_count": 6,
   "metadata": {},
   "outputs": [
    {
     "name": "stdout",
     "output_type": "stream",
     "text": [
      "<html>\n",
      "<head>\n",
      "<META NAME=\"robots\" CONTENT=\"noindex,nofollow\">\n",
      "<script src=\"/_Incapsula_Resource?SWJIYLWA=5074a744e2e3d891814e9a2dace20bd4,719d34d31c8e3a6e6fffd425f7e032f3\">\n",
      "</script>\n",
      "<body>\n",
      "</body></html>\n",
      "\n"
     ]
    }
   ],
   "source": [
    "import requests\n",
    "\n",
    "url = \"https://www.goperspecta.com/VPD/HumanaMilitary/public/Providers/Detail/728163014\"\n",
    "\n",
    "payload = {}\n",
    "headers = {\n",
    "  'authority': 'www.goperspecta.com',\n",
    "  'accept': 'text/html,application/xhtml+xml,application/xml;q=0.9,image/avif,image/webp,image/apng,*/*;q=0.8,application/signed-exchange;v=b3;q=0.7',\n",
    "  'accept-language': 'tr-TR,tr;q=0.9,en-US;q=0.8,en;q=0.7',\n",
    "  'cache-control': 'max-age=0',\n",
    "  'cookie': 'common_web_guid=cfa46bac-71e0-be60-0de4-dbe3876d41a1; AspNetSession-PUBLICPUBLICHUMANAMILITARY=PUBLICPUBLICHUMANAMILITARY|9f35078cd5df4d7197b5253db53d7f17; visid_incap_1647968=rV/RvT1gSJa+bjQyFafXG5RQ52UAAAAAQUIPAAAAAACUB24qjma2QC1mz0cfhDFi; nlbi_1647968=rxrOBpdaeTBnav41eJOEXgAAAADngdSTxhpG2GdKwX1mCu2O; incap_ses_1196_1647968=j3vqJmRRZBkkFJnZzAyZEJVQ52UAAAAAFdFoiBjbkgnoUFZx7To8Ng==; __RequestVerificationToken_L1ZQRA2=lOZ6IKWnjcPjHNx4imWet5ZnSo0bzonK_2FMAlzn553hEivjqywr5XYeu1Lt3w2bslIUX4DPzG-qR_uagw8OzOTIFS169q_xMvfZ2BcIGG1J0fKjPhwOP30A6l-XLC3svarZdRVwWoOyBlem3dhbgg2; X-Perspecta-Tracking=3f30433a-13cb-451a-8169-51a61163fe10; _ga=GA1.1.-99; _ga_E63G5LCYJV=GS1.1.1709658268.1.1.1709658336.60.0.0; incap_ses_7225_1647968=7PvULfViYQ1Co700PVxEZBlR52UAAAAAgAOW5g3TPHaRJT1MUZUr0A==',\n",
    "  'sec-ch-ua': '\"Not A(Brand\";v=\"99\", \"Opera GX\";v=\"107\", \"Chromium\";v=\"121\"',\n",
    "  'sec-ch-ua-mobile': '?0',\n",
    "  'sec-ch-ua-platform': '\"Windows\"',\n",
    "  'sec-fetch-dest': 'document',\n",
    "  'sec-fetch-mode': 'navigate',\n",
    "  'sec-fetch-site': 'none',\n",
    "  'sec-fetch-user': '?1',\n",
    "  'upgrade-insecure-requests': '1',\n",
    "  'user-agent': 'Mozilla/5.0 (Windows NT 10.0; Win64; x64) AppleWebKit/537.36 (KHTML, like Gecko) Chrome/121.0.0.0 Safari/537.36 OPR/107.0.0.0'\n",
    "}\n",
    "\n",
    "response = requests.request(\"GET\", url, headers=headers, data=payload)\n",
    "\n",
    "print(response.text)\n"
   ]
  },
  {
   "cell_type": "code",
   "execution_count": 4,
   "metadata": {},
   "outputs": [
    {
     "data": {
      "text/plain": [
       "['https://www.goperspecta.com/VPD/HumanaMilitary/public/Providers/Detail/728164925',\n",
       " 'https://www.goperspecta.com/VPD/HumanaMilitary/public/Providers/Detail/728163217',\n",
       " 'https://www.goperspecta.com/VPD/HumanaMilitary/public/Providers/Detail/728164243',\n",
       " 'https://www.goperspecta.com/VPD/HumanaMilitary/public/Providers/Detail/728164656',\n",
       " 'https://www.goperspecta.com/VPD/HumanaMilitary/public/Providers/Detail/728163194',\n",
       " 'https://www.goperspecta.com/VPD/HumanaMilitary/public/Providers/Detail/728163291',\n",
       " 'https://www.goperspecta.com/VPD/HumanaMilitary/public/Providers/Detail/728164982',\n",
       " 'https://www.goperspecta.com/VPD/HumanaMilitary/public/Providers/Detail/728163603',\n",
       " 'https://www.goperspecta.com/VPD/HumanaMilitary/public/Providers/Detail/728163773',\n",
       " 'https://www.goperspecta.com/VPD/HumanaMilitary/public/Providers/Detail/728164695']"
      ]
     },
     "execution_count": 4,
     "metadata": {},
     "output_type": "execute_result"
    }
   ],
   "source": [
    "\n",
    "import random\n",
    "list1 = []\n",
    "for i in range(10):\n",
    "    list1.append(\"https://www.goperspecta.com/VPD/HumanaMilitary/public/Providers/Detail/\"+str(random.randrange(728163014,728165249)))\n",
    "list1"
   ]
  },
  {
   "cell_type": "code",
   "execution_count": 7,
   "metadata": {},
   "outputs": [
    {
     "name": "stdout",
     "output_type": "stream",
     "text": [
      "Received response from https://www.goperspecta.com/VPD/HumanaMilitary/public/Providers/Detail/728163217: <html>\n",
      "<head>\n",
      "<META NAME=\"robots\" CONTENT=\"noindex,nofollow\">\n",
      "<script src=\"/_Incapsula_Resource?SWJIYLWA=5074a744e2e3d891814e9a2dace20bd4,719d34d31c8e3a6e6fffd425f7e032f3\">\n",
      "</script>\n",
      "<body>\n",
      "</body></html>\n",
      "...\n",
      "Received response from https://www.goperspecta.com/VPD/HumanaMilitary/public/Providers/Detail/728164656: <html>\n",
      "<head>\n",
      "<META NAME=\"robots\" CONTENT=\"noindex,nofollow\">\n",
      "<script src=\"/_Incapsula_Resource?SWJIYLWA=5074a744e2e3d891814e9a2dace20bd4,719d34d31c8e3a6e6fffd425f7e032f3\">\n",
      "</script>\n",
      "<body>\n",
      "</body></html>\n",
      "...\n",
      "Received response from https://www.goperspecta.com/VPD/HumanaMilitary/public/Providers/Detail/728164925: <html>\n",
      "<head>\n",
      "<META NAME=\"robots\" CONTENT=\"noindex,nofollow\">\n",
      "<script src=\"/_Incapsula_Resource?SWJIYLWA=5074a744e2e3d891814e9a2dace20bd4,719d34d31c8e3a6e6fffd425f7e032f3\">\n",
      "</script>\n",
      "<body>\n",
      "</body></html>\n",
      "...\n",
      "Received response from https://www.goperspecta.com/VPD/HumanaMilitary/public/Providers/Detail/728163194: <html>\n",
      "<head>\n",
      "<META NAME=\"robots\" CONTENT=\"noindex,nofollow\">\n",
      "<script src=\"/_Incapsula_Resource?SWJIYLWA=5074a744e2e3d891814e9a2dace20bd4,719d34d31c8e3a6e6fffd425f7e032f3\">\n",
      "</script>\n",
      "<body>\n",
      "</body></html>\n",
      "...\n",
      "Received response from https://www.goperspecta.com/VPD/HumanaMilitary/public/Providers/Detail/728164243: <html>\n",
      "<head>\n",
      "<META NAME=\"robots\" CONTENT=\"noindex,nofollow\">\n",
      "<script src=\"/_Incapsula_Resource?SWJIYLWA=5074a744e2e3d891814e9a2dace20bd4,719d34d31c8e3a6e6fffd425f7e032f3\">\n",
      "</script>\n",
      "<body>\n",
      "</body></html>\n",
      "...\n",
      "Received response from https://www.goperspecta.com/VPD/HumanaMilitary/public/Providers/Detail/728163291: <html>\n",
      "<head>\n",
      "<META NAME=\"robots\" CONTENT=\"noindex,nofollow\">\n",
      "<script src=\"/_Incapsula_Resource?SWJIYLWA=5074a744e2e3d891814e9a2dace20bd4,719d34d31c8e3a6e6fffd425f7e032f3\">\n",
      "</script>\n",
      "<body>\n",
      "</body></html>\n",
      "...\n",
      "Received response from https://www.goperspecta.com/VPD/HumanaMilitary/public/Providers/Detail/728164695: <html>\n",
      "<head>\n",
      "<META NAME=\"robots\" CONTENT=\"noindex,nofollow\">\n",
      "<script src=\"/_Incapsula_Resource?SWJIYLWA=5074a744e2e3d891814e9a2dace20bd4,719d34d31c8e3a6e6fffd425f7e032f3\">\n",
      "</script>\n",
      "<body>\n",
      "</body></html>\n",
      "...\n",
      "Received response from https://www.goperspecta.com/VPD/HumanaMilitary/public/Providers/Detail/728163773: <html>\n",
      "<head>\n",
      "<META NAME=\"robots\" CONTENT=\"noindex,nofollow\">\n",
      "<script src=\"/_Incapsula_Resource?SWJIYLWA=5074a744e2e3d891814e9a2dace20bd4,719d34d31c8e3a6e6fffd425f7e032f3\">\n",
      "</script>\n",
      "<body>\n",
      "</body></html>\n",
      "...\n",
      "Received response from https://www.goperspecta.com/VPD/HumanaMilitary/public/Providers/Detail/728163603: <html>\n",
      "<head>\n",
      "<META NAME=\"robots\" CONTENT=\"noindex,nofollow\">\n",
      "<script src=\"/_Incapsula_Resource?SWJIYLWA=5074a744e2e3d891814e9a2dace20bd4,719d34d31c8e3a6e6fffd425f7e032f3\">\n",
      "</script>\n",
      "<body>\n",
      "</body></html>\n",
      "...\n",
      "Received response from https://www.goperspecta.com/VPD/HumanaMilitary/public/Providers/Detail/728164982: <html>\n",
      "<head>\n",
      "<META NAME=\"robots\" CONTENT=\"noindex,nofollow\">\n",
      "<script src=\"/_Incapsula_Resource?SWJIYLWA=5074a744e2e3d891814e9a2dace20bd4,719d34d31c8e3a6e6fffd425f7e032f3\">\n",
      "</script>\n",
      "<body>\n",
      "</body></html>\n",
      "...\n"
     ]
    }
   ],
   "source": [
    "import requests\n",
    "from concurrent.futures import ThreadPoolExecutor, as_completed\n",
    "\n",
    "def send_request(url, headers):\n",
    "    response = requests.get(url, headers=headers)\n",
    "    return response.text\n",
    "\n",
    "urls = [\"http://example.com\", \"http://example.org\", \"http://example.net\"]\n",
    "\n",
    "with ThreadPoolExecutor(max_workers=5) as executor:\n",
    "    # Submit the requests concurrently\n",
    "    future_to_url = {executor.submit(send_request, url, headers): url for url in list1}\n",
    "    \n",
    "    # Process the responses as they come in\n",
    "    for future in as_completed(future_to_url):\n",
    "        url = future_to_url[future]\n",
    "        try:\n",
    "            data = future.result()\n",
    "            print(f\"Received response from {url}: {data}\")\n",
    "        except Exception as e:\n",
    "            print(f\"Error fetching {url}: {e}\")\n",
    "        \n"
   ]
  },
  {
   "cell_type": "code",
   "execution_count": 11,
   "metadata": {},
   "outputs": [
    {
     "ename": "ModuleNotFoundError",
     "evalue": "No module named 'grequests'",
     "output_type": "error",
     "traceback": [
      "\u001b[1;31m---------------------------------------------------------------------------\u001b[0m",
      "\u001b[1;31mModuleNotFoundError\u001b[0m                       Traceback (most recent call last)",
      "Cell \u001b[1;32mIn[11], line 1\u001b[0m\n\u001b[1;32m----> 1\u001b[0m \u001b[38;5;28;01mimport\u001b[39;00m \u001b[38;5;21;01mgrequests\u001b[39;00m\n\u001b[0;32m      3\u001b[0m urls \u001b[38;5;241m=\u001b[39m [\n\u001b[0;32m      4\u001b[0m    \u001b[38;5;124m'\u001b[39m\u001b[38;5;124mhttp://www.heroku.com\u001b[39m\u001b[38;5;124m'\u001b[39m,\n\u001b[0;32m      5\u001b[0m    \u001b[38;5;124m'\u001b[39m\u001b[38;5;124mhttp://tablib.org\u001b[39m\u001b[38;5;124m'\u001b[39m,\n\u001b[1;32m   (...)\u001b[0m\n\u001b[0;32m      8\u001b[0m    \u001b[38;5;124m'\u001b[39m\u001b[38;5;124mhttp://kennethreitz.com\u001b[39m\u001b[38;5;124m'\u001b[39m\n\u001b[0;32m      9\u001b[0m ]\n\u001b[0;32m     12\u001b[0m rs \u001b[38;5;241m=\u001b[39m (grequests\u001b[38;5;241m.\u001b[39mget(u) \u001b[38;5;28;01mfor\u001b[39;00m u \u001b[38;5;129;01min\u001b[39;00m urls)\n",
      "\u001b[1;31mModuleNotFoundError\u001b[0m: No module named 'grequests'"
     ]
    }
   ],
   "source": [
    "import grequests\n",
    "\n",
    "urls = [\n",
    "   'http://www.heroku.com',\n",
    "   'http://tablib.org',\n",
    "   'http://httpbin.org',\n",
    "   'http://python-requests.org',\n",
    "   'http://kennethreitz.com'\n",
    "]\n",
    "\n",
    "\n",
    "rs = (grequests.get(u) for u in urls)"
   ]
  },
  {
   "cell_type": "code",
   "execution_count": 10,
   "metadata": {},
   "outputs": [
    {
     "name": "stdout",
     "output_type": "stream",
     "text": [
      "[403, 403, 403, 403, 403, 403, 403, 403, 403, 403]\n"
     ]
    }
   ],
   "source": [
    "print(out)"
   ]
  }
 ],
 "metadata": {
  "kernelspec": {
   "display_name": "Python 3",
   "language": "python",
   "name": "python3"
  },
  "language_info": {
   "codemirror_mode": {
    "name": "ipython",
    "version": 3
   },
   "file_extension": ".py",
   "mimetype": "text/x-python",
   "name": "python",
   "nbconvert_exporter": "python",
   "pygments_lexer": "ipython3",
   "version": "3.11.4"
  }
 },
 "nbformat": 4,
 "nbformat_minor": 2
}
