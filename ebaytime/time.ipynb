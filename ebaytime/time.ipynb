{
 "cells": [
  {
   "cell_type": "code",
   "execution_count": 24,
   "metadata": {},
   "outputs": [
    {
     "name": "stdout",
     "output_type": "stream",
     "text": [
      "Id of product: 276371327151\n",
      "Start Time: Friday, 08-Mar-24 12:08:59 UTC "
     ]
    }
   ],
   "source": [
    "import requests\n",
    "ID=276371327151\n",
    "url = f\"http://www.watchcount.com/mw2.php?bkw={ID}&bcat=0&bcts=&sfsb=Show+Me%21&csbin=all&bslr=&bnp=&bxp=\"\n",
    "\n",
    "payload = {}\n",
    "headers = {\n",
    "  'Accept': 'text/html,application/xhtml+xml,application/xml;q=0.9,image/avif,image/webp,image/apng,*/*;q=0.8,application/signed-exchange;v=b3;q=0.7',\n",
    "  'Accept-Language': 'tr-TR,tr;q=0.9,en-US;q=0.8,en;q=0.7',\n",
    "  'Cache-Control': 'max-age=0',\n",
    "  'Connection': 'keep-alive',\n",
    "  'Cookie': 'PHPSESSID=b15tduvs1kpb86tpgmh8u9j0e7; uid=b15tduvs1kpb; cc=US; _ga=GA1.1.1351098068.1709899817; LSFS=none; sc_is_visitor_unique=rx1998325.1709900203.5E433E0D1CC84F1E83FAE25A5BEBF098.1.1.1.1.1.1.1.1.1; _ga_BY9CK6LM7X=GS1.1.1709899817.1.1.1709900202.0.0.0',\n",
    "  'Referer': 'http://www.watchcount.com/mw2.php?bkw=276371314021&bcat=0&bcts=&sfsb=Show+Me%21&csbin=all&bslr=&bnp=&bxp=',\n",
    "  'Upgrade-Insecure-Requests': '1',\n",
    "  'User-Agent': 'Mozilla/5.0 (Windows NT 10.0; Win64; x64) AppleWebKit/537.36 (KHTML, like Gecko) Chrome/121.0.0.0 Safari/537.36 OPR/107.0.0.0'\n",
    "}\n",
    "\n",
    "response = requests.request(\"GET\", url, headers=headers, data=payload)\n",
    "\n",
    "from bs4 import BeautifulSoup\n",
    "soup=BeautifulSoup(response.text, 'html.parser')\n",
    "table=soup.find(\"td\", class_=\"ilu-data\").find_all(\"tr\")\n",
    "x=table[8].find_all(\"td\")\n",
    "print(\"Id of product:\",ID)\n",
    "for i in x:\n",
    "    print(i.text.strip(),end=\" \")\n",
    "\n",
    "\n"
   ]
  },
  {
   "cell_type": "code",
   "execution_count": 42,
   "metadata": {},
   "outputs": [
    {
     "name": "stdout",
     "output_type": "stream",
     "text": [
      "Name of product: Campingofen {\"Camping Stove\":\"Campingofen\"} Edelstahl Kupfer Propan Brandneu\n",
      "Url of product: https://www.ebay.com/itm/276371327151\n",
      "Id of product: 276371327151\n",
      "Start Time: Friday, 08-Mar-24 12:08:59 UTC \n",
      "\n",
      "Name of product: Anti-Kratzer Reflektierender Streifen Zur Sicherheit Wasserdichtes Nylon\n",
      "Url of product: https://www.ebay.com/itm/276371314021\n",
      "Id of product: 276371314021\n",
      "Start Time: Friday, 08-Mar-24 11:56:45 UTC \n",
      "\n",
      "Name of product: Vergaser Membransatz Dichtung für Walbro K11-WAT Stihl 021 023 026 MS FS Partner\n",
      "Url of product: https://www.ebay.com/itm/134927863552\n",
      "Id of product: 134927863552\n",
      "Start Time: Friday, 09-Feb-24 01:40:33 UTC \n",
      "\n",
      "Name of product: Apple iPhone 13 Pro Max, A2484, 256GB, Unlocked, Excellent Condition\n",
      "Url of product: https://www.ebay.com/itm/354593770099\n",
      "Id of product: 354593770099\n",
      "Start Time: Saturday, 18-Feb-23 00:12:35 UTC \n",
      "\n",
      "Name of product: Sony WH-1000XM4 Wireless Noise-Cancelling Over-the-Ear Headphones - Black\n",
      "Url of product: https://www.ebay.com/itm/274493598619\n",
      "Id of product: 274493598619\n",
      "Start Time: Sunday, 13-Sep-20 15:51:22 UTC \n",
      "\n"
     ]
    }
   ],
   "source": []
  },
  {
   "cell_type": "code",
   "execution_count": 40,
   "metadata": {},
   "outputs": [
    {
     "name": "stdout",
     "output_type": "stream",
     "text": [
      "https://www.ebay.com/itm/354593770099\n"
     ]
    },
    {
     "data": {
      "text/plain": [
       "'Campingofen {\"Camping Stove\":\"Campingofen\"} Edelstahl Kupfer Propan Brandneu'"
      ]
     },
     "execution_count": 40,
     "metadata": {},
     "output_type": "execute_result"
    }
   ],
   "source": [
    "soup=BeautifulSoup(response.text, 'html.parser')\n",
    "\n"
   ]
  }
 ],
 "metadata": {
  "kernelspec": {
   "display_name": "Python 3",
   "language": "python",
   "name": "python3"
  },
  "language_info": {
   "codemirror_mode": {
    "name": "ipython",
    "version": 3
   },
   "file_extension": ".py",
   "mimetype": "text/x-python",
   "name": "python",
   "nbconvert_exporter": "python",
   "pygments_lexer": "ipython3",
   "version": "3.11.4"
  }
 },
 "nbformat": 4,
 "nbformat_minor": 2
}
