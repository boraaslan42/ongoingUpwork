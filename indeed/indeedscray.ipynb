import requests

url = "https://www.indeed.com/jobs?q=software^%^20engineer&l=New^%^20York^%^2C^%^20NY"

payload = {}
headers = {
  'User-Agent': 'Mozilla/5.0 (Windows NT 10.0; Win64; x64; rv:124.0) Gecko/20100101 Firefox/124.0',
  'Accept': 'text/html,application/xhtml+xml,application/xml;q=0.9,image/avif,image/webp,*/*;q=0.8',
  'Accept-Language': 'en-US,en;q=0.5',
  'Accept-Encoding': 'gzip, deflate, br',
  'Referer': 'https://www.indeed.com/q-usa-jobs.html?vjk=d9add517c22e8d05',
  'DNT': '1',
  'Sec-GPC': '1',
  'Connection': 'keep-alive',
  'Cookie': 'CTK=1hpe4ctqojl25800; RF=TFTzyBUJoNr6YttPP3kyivpZ6-9J49o-Uk3iY6QNQqKE2fh7FyVgtYsXKysCK5n66xPmYC5CopU=; CSRF=rIfq9iBrBYN5hY9PGzSeHdeohx1AgHsA; __cf_bm=JyIB7h2tzS2GZTLxx1WQKBjkDUfs5G6p4PHeNDSzcbI-1710945105-1.0.1.1-COX9oVGeW4qe6x8FDBwlWUE3Iv3F4.WJYQ3gQ63THUYjvVnG1GD6.DJkFG_05hhik7NYTN0MzHPwE3kiq7s4HQ; _cfuvid=Qyb_B2dWhZxJoVapForhzp2L8ke99w8aJu_nVV6wg0M-1710945105939-0.0.1.1-604800000; OptanonConsent=isGpcEnabled=1&datestamp=Wed+Mar+20+2024+17^%^3A31^%^3A52+GMT^%^2B0300+(GMT^%^2B03^%^3A00)&version=202210.1.0&isIABGlobal=false&hosts=&consentId=560d5b31-4b7b-4f1d-984b-bcbde7c1681a&interactionCount=1&landingPath=NotLandingPage&groups=C0001^%^3A1^%^2CC0002^%^3A0^%^2CC0003^%^3A0^%^2CC0004^%^3A0^%^2CC0007^%^3A0&AwaitingReconsent=false; SURF=z2pduDJRqcmxowCy2ynAC06UWQbWH71O; INDEED_CSRF_TOKEN=iUwdCkLwnvhqJj0ImZxNkBi0xwtLVmHy; LV=LA=1710945111:CV=1710945111:TS=1710945111; RQ=q=usa&l=&ts=1710945111186; _gcl_au=1.1.2002071919.1710945113; JSESSIONID=8FD5C2AB98BC3A219E196397E887AD12; ac=^#mV2EoObGEe6EiZ3BYefe1g; PTK=tk=1hpe4d347ih2u81n&type=jobsearch&subtype=topsearch',
  'Upgrade-Insecure-Requests': '1',
  'Sec-Fetch-Dest': 'document',
  'Sec-Fetch-Mode': 'navigate',
  'Sec-Fetch-Site': 'same-origin',
  'Sec-Fetch-User': '?1',
  'TE': 'trailers'
}

response = requests.request("GET", url, headers=headers, data=payload)


