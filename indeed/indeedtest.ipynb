{
 "cells": [
  {
   "cell_type": "code",
   "execution_count": 3,
   "metadata": {},
   "outputs": [
    {
     "name": "stdout",
     "output_type": "stream",
     "text": [
      "\n",
      "INDEED_CSRF_TOKEN=hiIGUBlaKRxFfTglYPVgWMsgPKqtKASS; LV=\"LA=1710967803:CV=1710967803:TS=1710967803\"; PREF=\"TM=1710967803296:L=Amsterdam\"; RQ=\"q=software+developer&l=Amsterdam&ts=1710967803307\"; __cf_bm=hhPo3JvPL3apYR1X2CyZ6xahARrMa_.yIVG3TcRGav8-1710967803-1.0.1.1-e_k__5MlA7.Cq0QZLEPVDHNTwiaPaRul95mZR3wgXiIuyZ1yiESf288C_iDpEyODPdYBS8DMbUJvoS_42uEAyQ; _cfuvid=vVJv.6iqTeh28IKy7jrzsxffiUL5pD48pIsh7Rf5WYM-1710967803707-0.0.1.1-604800000; _gcl_au=1.1.515041909.1710967805; OptanonConsent=isGpcEnabled=0&datestamp=Wed+Mar+20+2024+23%3A50%3A04+GMT%2B0300+(GMT%2B03%3A00)&version=202210.1.0&isIABGlobal=false&hosts=&consentId=713e861a-4b57-4a0f-ae8e-4240059ab176&interactionCount=0&landingPath=https%3A%2F%2Fnl.indeed.com%2Fjobs%3Fq%3Dsoftware+developer%26l%3DAmsterdam%26radius%3D50%26start%3D10&groups=C0001%3A1%2CC0002%3A0%2CC0003%3A0%2CC0004%3A0%2CC0007%3A0; JSESSIONID=45AE738B66D379CB44A23838677BBDE8; CTK=1hpeq1jc5kjho800; LC=\"co=TR\"\n"
     ]
    }
   ],
   "source": [
    "from selenium import webdriver\n",
    "from selenium.webdriver.common.by import By\n",
    "from selenium.webdriver.common.keys import Keys\n",
    "from selenium.webdriver.firefox.options import Options\n",
    "from selenium.webdriver.support.ui import WebDriverWait\n",
    "from selenium.webdriver.support import expected_conditions as EC\n",
    "import time\n",
    "\n",
    "# Set up Firefox options\n",
    "options = Options()\n",
    "options.headless = True  # Run Firefox in headless mode\n",
    "\n",
    "# Initialize the Firefox webdriver with options\n",
    "driver = webdriver.Firefox(options=options)\n",
    "\n",
    "# Set the URL\n",
    "job=\"software+developer\"\n",
    "location=\"Amsterdam\"\n",
    "url = f'https://nl.indeed.com/jobs?q={job}&l={location}&radius=50&start=10'\n",
    "a=\"software developer\"\n",
    "#print(a.replace(\" \",\"+\"))\n",
    "# Open the URL in the browser\n",
    "driver.get(url)\n",
    "\n",
    "current_url = driver.current_url\n",
    "a=input(\"Press Enter to continue scraping.\")\n",
    "print(a)\n",
    "\n",
    "cookies = driver.get_cookies()\n",
    "cookie_str = '; '.join([f\"{cookie['name']}={cookie['value']}\" for cookie in cookies])\n",
    "print(cookie_str)\n",
    "\n"
   ]
  },
  {
   "cell_type": "code",
   "execution_count": 2,
   "metadata": {},
   "outputs": [],
   "source": [
    "from bs4 import BeautifulSoup\n",
    "def getDetails(response):    \n",
    "    soup=BeautifulSoup(response.text, 'html.parser')\n",
    "    jobs=soup.find_all(\"h2\", class_=lambda x: x and \"jobTitle\" in x.split())\n",
    "    comps=soup.find_all(\"span\",{\"data-testid\":\"company-name\"})\n",
    "    for job in zip(comps,jobs):\n",
    "        print(\"POSITION:\",job[1].text,\"_@_ COMPANY:\",job[0].text)\n",
    "        "
   ]
  },
  {
   "cell_type": "code",
   "execution_count": 3,
   "metadata": {},
   "outputs": [],
   "source": [
    "import requests\n",
    "def getOnePage(page):\n",
    "    #url = \"https://nl.indeed.com/jobs?q=software+developer&l=Amsterdam&sc=0bf%3Aexrec%28%29%3B&radius=50&start={}\".format((page-1)*10)\n",
    "    url=selenium_url+str((page-1)*10)\n",
    "    \n",
    "    payload = {}\n",
    "    headers = {\n",
    "    'User-Agent': 'Mozilla/5.0 (X11; Ubuntu; Linux x86_64; rv:123.0) Gecko/20100101 Firefox/123.0',\n",
    "    'Accept': 'text/html,application/xhtml+xml,application/xml;q=0.9,image/avif,image/webp,*/*;q=0.8',\n",
    "    'Accept-Language': 'en-US,en;q=0.5',\n",
    "    'Accept-Encoding': 'gzip, deflate, br',\n",
    "    'Referer': 'https://nl.indeed.com/vacatures?q=software+developer&l=Amsterdam&sc=0bf%3Aexrec%28%29%3B&vjk=ddc1a046741c3ad8',\n",
    "    'Connection': 'keep-alive',\n",
    "    #'Cookie': 'CTK=1hnigcjvng3ma800; indeed_rcc=\"LOCALE:PREF:LV:CTK:CO:RQ\"; LV=\"LA=1708974836:LV=1708969611:CV=1708974836:TS=1708944412\"; hpnode=1; OptanonConsent=isGpcEnabled=0&datestamp=Mon+Feb+26+2024+22%3A44%3A44+GMT%2B0300+(GMT%2B03%3A00)&version=202210.1.0&isIABGlobal=false&hosts=&consentId=cfb45f3a-fad3-457f-8431-3b92d70995b9&interactionCount=2&landingPath=NotLandingPage&groups=C0001%3A1%2CC0002%3A1%2CC0003%3A1%2CC0004%3A1%2CC0007%3A1&AwaitingReconsent=false&geolocation=%3B; CO=NL; temp_locale=nl_NL; IRF=7YXfKDzcx1JT-QT4QnjgSM-n6OpfGgKEgC5zCOzvRB8=; PREF=\"TM=1708944481774:L=Amsterdam\"; RQ=\"q=software+developer+%E2%82%AC40.000&l=Amsterdam&ts=1708976683432&sc=0bf%3Aexrec%28%29%3B:q=software+developer&l=Amsterdam&ts=1708976671607&pts=1708969862219:q=dads+asd+asd&l=Amsterdam&ts=1708967728290:q=&l=Amsterdam&ts=1708967363231:q=software+developer+%E2%82%AC30.000&l=Amsterdam&ts=1708967291797&rbl=Alkmaar&jlid=5a8a8a448ef53d4f:q=bijbaan&l=Amsterdam&ts=1708944481788\"; _gcl_au=1.1.1653126622.1708944483; LC=\"co=TR\"; OptanonAlertBoxClosed=2024-02-26T10:48:34.943Z; _ga=GA1.2.1544165628.1708944515; _gid=GA1.2.1896845247.1708944515; CO=NL; LOCALE=nl; RSJC=51a28701578dc922:b305a0a81027663e:fa8d1f4a14092e49:e3eacda83f0050ff:057a73e173f138cf; ROJC=f1fdbe385100cdd9:11b440f482b53288:b7237c43a28102bf:ac717de40c3d5933; g_state={\"i_p\":1708954337227,\"i_l\":1}; LOCALE=nl; CSRF=7fQm0NVBBEGOiZtiaPBdlNe7UcCJhtTS; INDEED_CSRF_TOKEN=O7SUrFduFI9xgVZAIVIkc9CXSPPnRAh6; _cfuvid=uT687d3pO6TjI3Cp0cjpv3qPXMWDGPq3iCuyqE775cM-1708944412774-0.0-604800000; JSESSIONID=709C8E580A5E4242CF41CD9688145E38; SURF=sV6yopiigibJk90jsaIlzz7UAuWCEHUv; MICRO_CONTENT_CSRF_TOKEN=caqxxzQ2ThHKql2HnKUi5H1BVzRBf7AB; SHARED_INDEED_CSRF_TOKEN=O7SUrFduFI9xgVZAIVIkc9CXSPPnRAh6; gonetap=1; RCLK=jk=576c7a7ffd2fcbc1&tk=1hnj8l921j9hu800&from=web&rd=VwIPTVJ1cTn5AN7Q-tSqGRXGNe2wB2UYx73qSczFnGU&qd=RnZhMybXSk4M3QtTVGXWocOPQVWDxnpQGNdlqHpJ25jVueaY74Y9DCrXFAZci_Pu94somqCwbUYTSNyArALxUdL-mF-METV4qSkO4i57-zKBL0Ffm6DI1PXzmRDWFv8S&ts=1708969862209&sal=0; RF=\"TFTzyBUJoNr6YttPP3kyivpZ6-9J49o-Uk3iY6QNQqKE2fh7FyVgtb2JiVMSfGjvX5V9er9ZTXg=\"; __cf_bm=eNInxxgv7kZFFrFhyEEXV9Lo_jP8Ttfri6BaAJKGeRg-1708976725-1.0-AUcSYowrIDyCyuODJGrk+C4Y1HCHNi6W5jIe18I74OyZZr9CuSW/CU4olHNSqoEhU4w6KwfxuZMVmKf0jrJp1TM=; _ga_5KTMMETCF4=GS1.1.1708974828.1.0.1708974830.0.0.0; SKIP_SPLASH=true; PPID=\"\"; _dd_s=rum=2&id=30d80105-108d-4846-8588-e1d5f95f4f94',\n",
    "    'Cookie' :cookie_str,   \n",
    "    'Upgrade-Insecure-Requests': '1',\n",
    "    'Sec-Fetch-Dest': 'document',\n",
    "    'Sec-Fetch-Mode': 'navigate',\n",
    "    'Sec-Fetch-Site': 'same-origin',\n",
    "    'Sec-Fetch-User': '?1',\n",
    "    'TE': 'trailers'\n",
    "    }\n",
    "\n",
    "    response = requests.request(\"GET\", url, headers=headers, data=payload)\n",
    "    \n",
    "    getDetails(response)\n"
   ]
  },
  {
   "cell_type": "code",
   "execution_count": 9,
   "metadata": {},
   "outputs": [
    {
     "data": {
      "text/plain": [
       "'�8\\x1b�����\\x10\\x00�������5���_^N�\\x10_\\x00��\\x05�9\\x17�D\\x12A\\r$Fߒj��fk\\x02�,���=��k�:\\r8\\x07��\\x00���w�\"$�aL\\x06i�[N��~��v�%����ZW�t\\x1d�A��\\\\�\\x0e���J�F8�F8�EX�2,ó����0\\x01m���i�m^u��\\x03*�\\x0f���p��C1���צ�\\x0cdVޛF\\x10�U�l�لq���ق�cXՈ.g��\\x02�\\x19m|u[��\\x0c\"�q�\\x0b���Cz�)�I��q\\x05\\x19�!�p�6#ȳ�\\x07�Y����\\x06_�0CK�l�\\x1fN����}�����H[W?�[+\"_\\x03\\x0b|��{L���WA\\x14Du���b�S�Q��\\x03�a�45�D\\x00~\\x1d�nY�EY��-\\x17�\\x01\\x13��L��7��\\x1c\\x0f�2C��\\x1e�U��Ԇ���6>��r.�\\x08b>,�\\\\\\x08%�\\x06eWD�\\x0f\\x19\\x075��+\\x0c3�!�0.,�C�\\x028�,3ĬIF*��I�᩷�n�_\\x08$��x�����8��V�k>�O\\x02_�1ʑ\\x16�*\\x1d�.$�o�2O���8F0\\x0f���~!A���En\\x18�/.-&WT}7Gh*\\x03��_\\x03��k�*z<��\\x055_�\"b\\x02|�\\x15$\\x059�|>g\\x0e\\x12�?\\x01��ȫP\\x10n��\\x04B ;(���/94\\x1cP��+�.e2���u 1\\x10\\x031����\\x1d��\\x1b�Gu]iDv\\x1d\\t�0BZSe�\\x01�P3��6���S�g�\\x0b��D��\\x1bG:�+�r�\\x1a\\x7f\\x00\\x18nށo��V\\x0e�We�W�~�_�Do��|\\x08r\\x1f[��<o��\\u07b5\\x06\\x1b[\\x11|�,�R\\x0c��5�؊�yV_\\x0c�/��9�V\\x14�Y\\x16��+2\\x00��zk\\x19�d\\x19�d%��\\x7fy\\x06p��ᱫ�����,�\\x1d\\x0f��W��}ulώ�\\x17��{��{��\\x0c3��zk\\x19�d\\x19�`\\x19�`\\x19zd���2tj\\'gj���y1;��;��[�0#��ۭg��av�av��G�Z�,C�����A��/�\\x00�W9<v�\\u07b5������A��*ݻ����f�}��aJ�D\\x17\\x1d\\x17\\x0c�$\\x15�ޡ�=K�zf�\\x18\\x07�2��\\x1e\"�2>\\x1a{�#�U$���mrP\\x1d\\x17���DmW\\x016\\x06�69��\\x17��A�meG:\\x0f�rt���g��c���\\x0f\\tU\\x15��F{�oVq�\\x12�]�\\x05��6O��[��\\x00��L�2�����w�:���L���ٍm��e��6�;�ܠ\\\\��9X\\x1f.�\\x1e��{l{f�\\x1b`����lY�ll�����Z�=�Z�\\x06sH��=чk�ol�V,�T�ɩs>��Y+�\\x03��Y+�����UDhX�3D\\x03�\\x01�]��\\x19��v\\x15`\\'A�MNR��IWi\\x1d�o�!R�ɡuze�\\x19i�\\x18��MR�Y뭵Vĝw�n�WwƁn\\x13[u�킮���j�MNb�\\x06��=�mb+;\\x174��*[���mu�\\x06�\\u038b�e�t�|�;�\\x17�m�*��\\x00�8�\\x13��\\x11�ᴐ-<{ڗ\\x7f���:��}g\\\\G��n\\x11f��YQ^䥾X丠]�\\x00\\\\c�{\\x01BA��f���\\x00\\x17\\x11_�[l��\\x18\\re%z�è�ۭ���Et�����L\\x00��\\x18��\\x07E ��&\\x0b��h\\x03A�%\\x10\\x14�F%(�N \\x15\\x08��&�Ћ��\\t�\\x01�f%\\x19�bʫ���Yv�^\\x1c�\\x06�^/\\x00����\\x1d��\\x11����su��\\x12$�}���N\\x15\\x18��NV��\\x1b\\x02�<��\\x0b2B\\x16��\\x1d\\x85A}� �=����ݍ\\x16���V/�\\x0f)��+%�\\x13���ɽ��<��\\x0c��M�\\x10�#�����\\x14h�%\\x0eK\\twWR1���\\x0c�5���VB\\x0eq�k�boڳ��*�3��d��N\\x11�Nm\\x02*��VK�B��\\x0f���؛�R*U(W���\\x0b7N�\\t��r�B�B\\n�o%�g�L%Pv�[�v\\x1dOI�)\\x15�\\x03\\r�a�A��.��\\x18\\x81%�`9���/��+��5�ڏmo0�Q��3?N�^C�Brr$�I�D\\x01�[wY�-�%�Q��}�\\x1ap\\x17bQ�آ�\\x03Ҥ�\\x01u\\x14��d>\\x15��23G\\x16���Q,��\\x1e�.��B|^G�\\x0b\\x00M�\\x17:�\\x1cI�@\\x15_HГ�x\\x0e���Gq\\x1c�n�\\r\\x15��\\x17�J\\\\&�+^�b��1Ŗ�\\x08\\tT�*�\\x04\\x00� �a ��\\x02\\x03-���]e��S$\\x18g���Z��\\n\\x0c��W�\\'\\x05���+%>��Y�R5S���\\x0b�\\x1e�T��\\x03�\"��\\x0bQ�W;�&��\\\\���I�\\x03�� ��@\\x15\\x0cpSk�,ʴ\\x08p�̄�\\x14e�S��ٚ \\x7fD3���[r��ah�\\x13��Nn�-TS�\\x058\\x01.���\\t��\\x14�AJS\\x10_`���t�j��T�4{gy\\x17|XR?�|Y���ZA裠5\\x1dot#�,�5\\x14`\\x08��V���\\n��U��\\x9e\\x1b�B��.��\\x17�\\x1f\\x17\\x14��c0�_J�\\'�����4���K���EV��\\x12!�\\x14\\x11t\\x0c����p�\\x0b�wش�Hޭ\\x0b�\\x14l\\x0e���o#C�\\nq�]?�蛑K�\\x10\\x1a/�7��C�ۮ2��0\\x02_滝5Iy�B\\x1a�`\\x01��<�\\n~݅\\x00è 5�>�\\x12b9p\\\\���,�IF�`����S\\\\-��$@��g��\\x02���ISaTq9)\\x08�(X�=\\x0c�@|\\x01sķ����ucm�\\r/\\x15�)ߒ*`����9f�B���Z\\x14\\x05\\x08(�\\x1a\\x0c\\x18<5�w��\\x1a*\\x16�\\x06\\x04�\\x02�\\n\\x0f�\"O�\\x1a��Af�nI\\x15�Yq��\\x14���Yv�8�\\x0c�-ԛR�֏>�\\x08�\\\\,����wK\\x170�\\x1bqɈ�.\\x16rp��4<�p����Dh\\x14S�F!w\\x0f�W\\x02\\x10�\\x1c8=#\\nR���\\x05��\\x05\\r\\x18U���\\x01NP9q��\"�\\x05��\\x1fW\\x13�{c�@8~\\x1e\\x15�Z\\x1c��܁*�n,�Yp��r��w��\\x14�\\x16⪦���F�n\\x1a\\x1f�\\x0c�\\x1a/(j�\\'�����\\x1e��k7�A��\\x14����\\x14��w!�f�+��_��y4!�r�\"\\x14R�\\x08FwJ��\"m�bt�Ka��\\x1a���k>�Q|��\\x19\\x15��\\x06}��hĹ,+H��^B/A�U\\x10�7��Ṣ�Ϻ+\\x14V��{ЬS��\\x0f\\x7f�t@R�B\\x05M�Jo#!�x`*�!s/�\\x14F��\\x16�\\x0f���\\x17�i���\\x13K\\x0f\\x7f�ay6�o��Y�K��\\x1d\\x1cA���\\'$Ũf(Ig\\x19.\\x1aԧ�?��XL�*��EN�\\x1d�]������~�}��.o��\\n4��Y�?�\\x02i�C�]���B������D\\x1aÞ���*`9�!M�#�a糹����\\x0e{�ag��DUe)��d2WD��7��5�\\rD��3�G @\"������\\r/\\u0558��\\x1d_�\\x0fiS��ߟeMB��\\n=\\x05�2R���)��I���\\x02\\x04\\x00��l��5EU\\x00��5�\\x15]���ߩ��-�.+�\\x17Q�\\x08��e\\x1d��\\x1bV�+>N\\x02���l�I�>��\\x02ނ�ɋS\\x11�\\x15E�\\x00\\x0f\\x04 ��ȋSe������Uc؈�|��9�k�aE\\x00\\x00����sd�\\x1a��S\\x15\\x00�r�Wf�\\x1a�r�Wf+�a����7�y��\\x1aSR�\\x14��\\x0ba�����M�\\x03�y���a�s���S<��ߏ�q����6��~1�f\\n��Pn�%���\\x7f��g���\\x1b��\\np�sHs\\uf012�-���c>�ah������G��L��\\x17\\'��\\x1f)��6M�K��eݏ�/ׯ\\x1d:�\\x02{j�b��0��@�g�\\x19���ٻ�s{l����=�z��0~��U��51\\x0f��\\x1d�~.���\\x11�r���}tܼ�~����pF������wٰ���هb���c�ef��H�_�|�\\x07��{j�=\\x14f��^}\\x1b��g�%g{�\\x0b���p4(��N:Y}?�\\x1d-��yi�Ed�e2�N+��{똗Fvq������y;�|\\x0c�Aԧ\\x17=��@\\x149�$��ga�[�4����\\x12����\\x10��\\x0b\\x02�ݯ�Nsmbe\\x16|:�\\x1fFۓJc�7�\\x1f_�\\x0e��jeEW+�j6{�(����.�U�\\x08�\\'V\"���?�\\x07�#\\x04�s7�j��<�/p?� A��p~�\\x018V\\x11�\\x15ɤ���J���M\\x06s��<�Y\\x1a��\\x02�}\\x0cs���\\t,f%�b#�Z�\\x0c5\\x19\\x13\\x17�\\x1aP��ph���ȄYED\\x0b#�ל�\\x12��r_��1\\x0eS�8$&\\x10�]\\x16�=}\\x06��t\\x10�\\x0eOaup\\x13��4��k��m�V~5��\\x10�O~����ᴯ�]�B\\\\WcRʸ�\\t���\\x1c�\\x0c��zS\\x16�ϱ�>\\x0f\\x1e\\x0e-\\x0b������]\\x13�-\\x14~�.�1��0)��B�\\x10�4M\\x0b\\x1eV)y�?�P��V#<��\\n\\x11��Ӯ���%���\\x07)�������\\x11d���B��)UsAG�A_]VU�����/�4��j�\\x1c��\\x1d����\\x1c���2Z�\\x1b�8@0�-�!���m�T���KmL�B�۠O{~�\\x04��!�w\\x08y>�њ\\x1b\\x04�\\x1c����u`oJ�\\ue7b4^��:�\\x0cy�\\t6\\r]�wd�n\\'��\\x1c�Ig�\\'\\x0e�h\\x06�\\x12�Ƣ2�A�8�\\x01�H�N�Gn����P�]����.ϝ��Ѝ\\x05���1\\x17mHRodw�)~��R���?O�Թ�\\t\\x7f��D�\"�\\r�L֥F]�h��-���f�\\x0bN���ϡ:|sz\\t�Ô��0t5�:���pHv������=���ك�YÎI7ßw��?�>\\x15Χ�\\x0ey�VH�X�U�\\x0f\\x10h�\\x07 L��0��F\\x1d\\x00�c���N��4Ý4�/hj;\\x110Y\\x05��\\\\���\\x1a���R-���ǤGqB&N\\x15]�1�\\x1fE���\\x14���\\x00��\\x18m�\\\\֠�9X�7_�p-p\\x14 5��\\x10+������=��O+-V{7��;\\x001�}&p����҉譗�Lg�x�D,\\x08y\\x05�hH2��(-ћr�>T�ۏƁ�w�5c+Au���\\rl2S�\\x0b~K�5B�\\x0c>Ʒ�}5����\\x04�S}H\\x19�\\x03\\x0eӘ��:�\\x1f.\\x1d\\x16^O݊]ffH�aq�cA�Eq5��\\x18\"\\x16��\\x12�b\\x1a\\x1e&9z\\x11&��\\x02t���A�S�\\x0b�ݸ�\\x13�\\\\d���\\\\����ʱ0�~�|b���w�Y�E����\\x04ɧ�!,\\x0f�� O\\x1az�\\x04��/uxt�\\x7f�7����GU��FR���ϋ� �|S�+���\\x19㜐��%�s[��I�����!�A턣�@\\x02�X�?V��/��Vȑ݅�53Ǎ\\x12�\\x7f��Xl�\\x7f����TI@��s\\x0e�1)�K������K���`���\\x1b\\x0c��w����H6�h��p\\x0b\\u05f5��b�ف!��<:v��qn�Y��K��\\x079�edM\\x03��=\\x01_��7uV�a�C`jg�uy\\x04���\\x04�)v���* G��Dͩ�����~���;�xk�$M�>=5�\\x03\\x1d,#����\\x1597%gk�\\x04��z5���\\x05p�3��d\\x1bz�6�4L�g�\\x15z\\n��Zb��/����B\\x1b��ot��|�*��wI�[�(.�6��\\x1f��,����gݡF��̢ĸQ�3T\\x12�\\x17�\\x0e�\\x05�X�8�\\x0b\\\\n�!5�ەz�\\x18nCq\\x08\\x11M����\\x1e�3������]�:j��M�`E�\\x0bW\\x04Qv@�%\\x07\\x12�\\x12UE\\x05\\x13/7\\x1a�!�\\u05cbپ�kM\\x0c\\x08%�Y$[�h^�1�T�<�:�RG\\x13\\x10�\\\\)�2���@=y�s\\x14D\\x12\"��\\x06p�O!����W��5�N��\\x01v,V��\\x07\\n�W�g\\n�����MX\\U00067fa6�(Cs���,\\x1c��I��J�B���V��\\x00ܯN��z\\x0b\\x16��ן�9�$�\\x1c\\x19n �нB�8\\x1e��j\\x15@i\"dw��FB�\\x15��|��]xoX�\\x06��o\\x03�@_��-+��u�qi\\x12�@��(�����U�1��\\U0001516bf|\\x11�R��H�����j\\x08{\\x05tĝs@%�X����3e@��]�����\\x03\"\\t1��\\x0b��zO��h�q�g\\'H�\\x1f{��C���)\\x07.jo��>F�\\x17i�^\\x16|��\\x05u{Ty\\x17c�z\\x04�Gv���\\x1dLzg���Ep\"��\\n\\x15�?�$�r\"8pwO^�~S\\x02���,FE,(�q�J�X{�3�/\\t%�Op/���g��5�f���\\x04SleT�wQli\\x86n>&\\x03<�[���s� @���/�e�h\\x1f�\\x1fO\\'\\n7G�ʄ\\x1eo@���y駽ڂ��\\x1e�i�\\x14���\\x1dڲ�j�;�#ǪU\\x19\\x10}��\\x19��\\x10�\\x18U5��#��<J���!6Q��\\x18\\t�a�\\x00ذ\\x17��\\x18�P�c�[\\x02���:�\\x0b�\\x06Y+��\\x15�t\\t�\\x06��D���\\x15\\x1a�o�/X�\\x07���\\x183,�<|��EB�^D�X�?2�b\\x1c������g�\\x15b�f1j��߂>$d,sW��\\x1c��y��A�����y���8�G����\\x1fA\\'A>�œ�\\x07\\x05O��\\x19.\\x1c�먤^�\\x0cVؚ]q��O\\x04s�\\x03�\\x7f?`\\x0f8a(�;�[M��A�\\x11Wn�\\x1c�\\x01�KQ\\r�s,����@�}d@���M�Mk�SC��H�S\\x00\\x1f�\\x1a\\'�\\x1e|�1\\x7f7}�U�hI�\\x10�\\x06\\x04��jR���\\x7f�m�E�xFkb�1���\\tCؕh��v\\x0b�>���@\\\\:���&�H��\\x0fX��;�\\x0eA\\x0c�� Ԡs�\\x1aqy�ٳ\\x1f?g�\\t��\\x1d��T\\x0f~YJ\\x0f4b�W!�+,��FO�R�#V��\\n\\x03�؛0\\x7f%���N-=B`,|yG\\x14����\\x02 �����\\x02�)�nAw�\\x7fc�i)kh���%XW�9�F]\\x14��_�!P���\\'\\x12\\x19���M�k��.~6��cp%\\'���@��#�۩�R=�]bg�+\\x1f���]�G�\\x7fE��:X\\x0f��\\x19�\\x07Y�H\\x1a��`J�=y�&gs�V�Hz����\\x02g\\x1eaʦ��K\\t+զf!]\\x17\\x1f� �E�\\x7f��N�=�uұh�\\x0b��/c�3ر��uճo\\x06YJ\\\\�i�j&�*A���T\\x1b0\\x00�}s�5\\x12�qW-�_0ECvl\\'\\x08TP���1ݏ�a�w(�ц���(�A�#@\\x0e$�R=��L�=B��\\x1a\\r\"A\\x00\\x1f�+j嘋���,�z�m�U\\x16�\\x1c�CUg���\\x01�N\\x06\\x05h}9�\\x1e�|�\\r�;}Z\\x07y�?�sQ��\\x08\\x02�S�Hj`;r]��h�\\x1b#&\\x0c����Sm�up�Np�\\x01N�~�h\\x00��F\\x1d�>�\\x16\\x0f}g�Aw\\t�\\x14\\x15�GIOe\\x0b�\\x12��8ဃ\\'�5\\x03b_�U�\"�>��&~\"�\\x051\\x01ba�]f\\x7f5����n\\x0c5O\\x01\\x04�\\x00cϑ�����>\\rw\\n���#u�/L[*�,���/F\\\\�M\\x141�\\x19(+˴�үu2*��{�\\x04\\x17��n,\\x0b��(�%�&�}\\x10�\\\\im�UD*@�7\\n�\\x17�_�\"+��a�>Ѫ�p\\x18�)N�?�uT��^�\\x17�9\\x16Zru��B�\\x1f28iЗ^��LMC��\\x15d�]�G��\\'J���a6\\x1c܋��\\x15\\x11��ndb�J�jt�~�@i ;�;\\x05�ӶvY������+\\x15��l�\\x12�,հ`����~\\x1a��*`�����ẈP]�^m\\x1eO��k\\x01֪����Ŷ(.�%9��,�\\x03p��\\x05FZ\\x0e�y�\\\\�-�D�Ea\\x1c\\x1a�8�~��k�H�I�\\x18�ƪ�a��nѮP�\\x11�����H��|�@��^Q�\\x1f\\x1b\\x1f�\\x18\\n�у�5&4Z���\\x1fC��Qm�^ٽ`Sl��E�������Ӣ\\x7f�h�a\\t���\\x18Tg��L���ŕ=dV�&і���\\x0f\\x088�L�I\\'\\x10�MH\\x13\\x04Z�\\x01�J��\\x1a\\x10柣�\\x08�\\x19����S�1{�r�1��W9��}�u��\\'\\x11\\rt\\x16@\\x07{e�\\x019?�\\x18�c�#�\\\\�뷟�x㢑�٦^D�$\\x08��GR�\\x04+]�Og?8J}�U8�eN��^\\x7fE�\\x06ܮ����\\x0e��\\x13w�\\x7f����bՇ5 ���DW^�\\x13h\\x11����\\x01�ӂN\\x01�bIX2�͏w\\x10���K�:d��\\x1d_LML��]�x]�6k�y����؍\\x1f�vy���C���;��\\x0bO4LR[%ID�l\\t�\\x0b\\x10?�<;�}\\x02�=W\\x0f�Yv�S����\\x030s�\\x05�/΅R\\x0f�O3�6��M\\x0eO\\t�[\\x00��s��T�E|�W?B�葺���\\x0f\\nq�S�7!�\\x1c��\\x1556�\\x117�4A\\x06��]etRк\\'[���UqM\\x02j��\\x0b�#.�]�\\n*BΗ&��T�>�+\\x18��\\x02\\x1d%Ԩ�Lr\\x086�\\x15B\\x1b�t\\x11�c�c\\x04�x���.����\\x1a��\\x03��t�8���w�#���Uo\\x16��r��\\x12�\\x14E\\x0b6��-Z\\x0c�\"z���x��\\x7f˝�?�����\\x1f\\x7f�c*9`.��Rg�bK6:C\\x12�g\\x0cS��$M\\x0c\\x0b`\\x11)C�Q�\\x15\\x19W29H\\x1c)�\\n;C1\\x06{�0C���Ƀ�Ƀ��\\u03a2���c�AL\\x16\\x19`\\x12)}\\x1c�c�8M>ٔN��\\x7f��o[�\\x1f\\x7f��\\x17Rx\\x1a>{쒐�ѵ*ԏ��u\\x10*P69��2z\\x1abP�2��%��ل,)�������2R\\x12\\x1a[��������2b\\x1a)C2R������\\x1f�����?:`���o�\\x7f��*�����Y�]�m���|�v�20�\\x01\\x13�  �zŶ��K��\\\\�2�v��Q)J�c\\x17����\\x1eOu=\\x0f6�W�?Zǟ\\x13��\\x19�({\"�\\x0fa|\\x0f��\\x02���y:\\x0eH것\\n�?T\\x1cI�K\\x08S\\n./��{�n��hpDj�=�_�����i�*��v��\\x106�\\x17�U:��3��_�\\x16�\\n~�n����U��\\t;RhS\\x0cV�e��P\"��\\x13ӷ��&O�B[�\"�|~\\x12�둇E��q`����AC� �\\x0c���λk@h�;�Y�X~�2ɶ姗\\x03˼\\x1e�\\x06��x��\\x17��|:��O��r�e�.k���\\x06E�)��\\x1e�%�٩./��GC�\\x1d駽�q�0C�����\\'�kO�?��\\x04L��;���d��@?~wvq�\\x7fn��y�F�c���??\\r��Ӽm�Bϙ����?}\\x12\\x7fNE���\\x0c�`��1������C�<ܑ�D;���8��WAw��Bٌ���M7\\x15�z;\\x1b�YP�Y4���^�n���~�fX�xڙ�~\\\\\\x1b?6T�/���\\x0co��i\\x10�*�#f/]S\\x08\\u06dd�u�L����.�,G5��=���\\x148���kE�=��\\r}�r��16��\\x10f�T�\\x06�H(H�8bƌ\\x08\\x00\\x18q�ư�3�\\x07z�3��g�ۺϮ�O�\\x053i�N�dZ%�l@+|����尨1lh�^�4M�U�N��p|�Y�h�d9,i\\x0c�vBv�%��\\x0bIV�U���S�/�,7�\\x1a�Ji�T�S�\\x7f:(\\x17�[\\\\�d���F�\\x19\\x0c.�Z#\\x11}R��\\x16�%�5�ưS)&��\"�f<���C�\\\\�j����\\x11�w��������ފ�,\\x17�\\x1a��;1\\x13��JZ��\\x0b.M�[=M6�ڌ��8lw���\\x144���d��}q�\\x15㗄Y2\\x01�\\x1c\\x15T�+\\x04)23���>��_ᒲ��_\\x12��|fɰc?(x?�c?��h<Q��?��јT~�jZA��~�}�0B��o\\x05�ecS\\x17�ƭ�.���c\\x03�Y2��G�f�\\\\.\\x19�e~��ˮP����t����\\x1d1��\\\\2���˰���\\x06�*��\\x0e\\r��G����\\x0e�\\x19��#�䮍\\'�g\\x12F\\x0e}��G�7�\\x18��\\x05\\x0e����%2\\x17���͘:KU>�K!E#�v�\\x15C�����KH�\\x02�yb2���J7��\\x17a�|,�,㘿ޥ��\\uf8a2��H\\x1cVt\\u07b7���b�[�7\\x15�>F��}�+s��\\x1bdc\\x04\\x03v�?��f�؎_����8��c��\\x0b\\t��\\x7f�1ͳ�'"
      ]
     },
     "execution_count": 9,
     "metadata": {},
     "output_type": "execute_result"
    }
   ],
   "source": [
    "import requests\n",
    "\n",
    "#url = \"https://nl.indeed.com/jobs?q=software+developer&l=Amsterdam&sc=0bf%3Aexrec%28%29%3B&radius=50&start={}\".format((page-1)*10)\n",
    "url=selenium_url+str((1-1)*10)\n",
    "\n",
    "payload = {}\n",
    "headers = {\n",
    "\n",
    "}\n",
    "\n",
    "response = requests.request(\"GET\", url, headers=headers, data=payload)\n",
    "\n",
    "response.text\n"
   ]
  },
  {
   "cell_type": "code",
   "execution_count": 4,
   "metadata": {},
   "outputs": [
    {
     "name": "stdout",
     "output_type": "stream",
     "text": [
      "Scraping Page  1\n",
      "\n",
      "Scraping Page  2\n",
      "\n",
      "Scraping Page  3\n",
      "\n",
      "Scraping Page  4\n",
      "\n"
     ]
    },
    {
     "ename": "KeyboardInterrupt",
     "evalue": "",
     "output_type": "error",
     "traceback": [
      "\u001b[1;31m---------------------------------------------------------------------------\u001b[0m",
      "\u001b[1;31mKeyboardInterrupt\u001b[0m                         Traceback (most recent call last)",
      "Cell \u001b[1;32mIn[4], line 8\u001b[0m\n\u001b[0;32m      6\u001b[0m getOnePage(i)\n\u001b[0;32m      7\u001b[0m \u001b[38;5;28mprint\u001b[39m()\n\u001b[1;32m----> 8\u001b[0m \u001b[43mtime\u001b[49m\u001b[38;5;241;43m.\u001b[39;49m\u001b[43msleep\u001b[49m\u001b[43m(\u001b[49m\u001b[43mrandomt\u001b[49m\u001b[43m)\u001b[49m\n\u001b[0;32m     10\u001b[0m \u001b[38;5;66;03m# :) I hope we can work together.\u001b[39;00m\n",
      "\u001b[1;31mKeyboardInterrupt\u001b[0m: "
     ]
    }
   ],
   "source": [
    "import random\n",
    "import time\n",
    "for i in range(1,10):\n",
    "    randomt=round(random.randint(1, 100)/33,2)\n",
    "    print(\"Scraping Page \",i)\n",
    "    getOnePage(i)\n",
    "    print()\n",
    "    time.sleep(randomt)\n",
    "\n",
    "    # :) I hope we can work together.\n",
    "    "
   ]
  }
 ],
 "metadata": {
  "kernelspec": {
   "display_name": "Python 3",
   "language": "python",
   "name": "python3"
  },
  "language_info": {
   "codemirror_mode": {
    "name": "ipython",
    "version": 3
   },
   "file_extension": ".py",
   "mimetype": "text/x-python",
   "name": "python",
   "nbconvert_exporter": "python",
   "pygments_lexer": "ipython3",
   "version": "3.11.4"
  },
  "orig_nbformat": 4
 },
 "nbformat": 4,
 "nbformat_minor": 2
}
