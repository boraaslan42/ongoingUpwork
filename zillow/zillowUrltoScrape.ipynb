{
 "cells": [
  {
   "cell_type": "code",
   "execution_count": 6,
   "metadata": {},
   "outputs": [],
   "source": [
    "url='https://www.zillow.com/ny/?searchQueryState=%7B\"pagination\"%3A%7B%7D%2C\"isMapVisible\"%3Afalse%2C\"mapBounds\"%3A%7B\"west\"%3A-79.76259%2C\"east\"%3A-71.777491%2C\"south\"%3A40.477399%2C\"north\"%3A45.015865%7D%2C\"usersSearchTerm\"%3A\"NY\"%2C\"regionSelection\"%3A%5B%7B\"regionId\"%3A43%2C\"regionType\"%3A2%7D%5D%2C\"filterState\"%3A%7B\"sort\"%3A%7B\"value\"%3A\"days\"%7D%2C\"ah\"%3A%7B\"value\"%3Atrue%7D%7D%2C\"isListVisible\"%3Atrue%7D'"
   ]
  },
  {
   "cell_type": "code",
   "execution_count": 7,
   "metadata": {},
   "outputs": [],
   "source": [
    "headers = {\n",
    "    \"authority\": \"www.zillow.com\",\n",
    "    \"accept\": \"*/*\",\n",
    "    \"accept-language\": \"tr-TR,tr;q=0.9,en-US;q=0.8,en;q=0.7\",\n",
    "    \"content-type\": \"application/json\",\n",
    "    \"cookie\": 'zguid=24|%24abac79bb-72ad-4d9e-9dde-b1751e59deae; _ga=GA1.2.680147625.1692801387; zjs_anonymous_id=%22abac79bb-72ad-4d9e-9dde-b1751e59deae%22; zjs_user_id=null; zg_anonymous_id=%22a2ea7840-c28b-4f1b-8a00-69913b909e63%22; _hp2_id.1215457233=%7B%22userId%22%3A%222522749834967336%22%2C%22pageviewId%22%3A%226913396349729521%22%2C%22sessionId%22%3A%22503083603946677%22%2C%22identity%22%3Anull%2C%22trackerVersion%22%3A%224.0%22%7D; __pdst=c1df509b570446c28d6bf779e3e32721; _pxvid=729a779c-41c2-11ee-a58d-0dbd2da9169f; _pin_unauth=dWlkPU56azFOalJqWVRBdE5tUmtNaTAwWldZd0xXRXhOVEV0TjJRM01HWTJNbVUxTkdJeQ; JSESSIONID=D50653869FEDC01AC352F4F8369937DF; zgsession=1|ec6c4446-4ae0-4492-98df-e3b878930d6f; _gid=GA1.2.1968072043.1706285815; AWSALB=xRKyk0l88mL8RY57Yel+w3B/nab1GWQNxoht/Mu2hxABpTULFbnTG3SAsw+oma1ba/yjo2+mvN/f96CESJFJM7uP5WDeuOKAkI6KgJ/O0pAWu7PEUfVWN4GArDD5; AWSALBCORS=xRKyk0l88mL8RY57Yel+w3B/nab1GWQNxoht/Mu2hxABpTULFbnTG3SAsw+oma1ba/yjo2+mvN/f96CESJFJM7uP5WDeuOKAkI6KgJ/O0pAWu7PEUfVWN4GArDD5; g_state={\"i_p\":1706372217990,\"i_l\":2}; _gcl_au=1.1.217113811.1706285818; DoubleClickSession=true; _uetsid=54e2c690bc6611ee80e08bb598d45fbc; _uetvid=736f3ff041c211ee80bd31235bff95e5; _clck=1a2goaf%7C2%7Cfiq%7C0%7C1330; _gat=1; search=6|1708877940455%7Crect%3D44.28919455063632%2C-106.45264509375001%2C29.855816427991694%2C-132.16065290625%26rid%3D9%26disp%3Dmap%26mdm%3Dauto%26p%3D1%26z%3D1%26listPriceActive%3D1%26price%3D2500000-%26mp%3D12488-%26fs%3D1%26fr%3D0%26mmm%3D0%26rs%3D0%26ah%3D0%26singlestory%3D0%26housing-connector%3D0%26abo%3D0%26garage%3D0%26pool%3D0%26ac%3D0%26waterfront%3D0%26finished%3D0%26unfinished%3D0%26cityview%3D0%26mountainview%3D0%26parkview%3D0%26waterview%3D0%26hoadata%3D1%26zillow-owned%3D0%263dhome%3D0%26featuredMultiFamilyBuilding%3D0%26student-housing%3D0%26income-restricted-housing%3D0%26military-housing%3D0%26disabled-housing%3D0%26senior-housing%3D0%26commuteMode%3Ddriving%26commuteTimeOfDay%3Dnow%09%099%09%7B%22isList%22%3Atrue%2C%22isMap%22%3Afalse%7D%09%09%09%09%09; _clsk=s4ie5e%7C1706285940967%7C8%7C0%7Cu.clarity.ms%2Fcollect; search=6|1708878079065%7Crect%3D44.28919455063632%2C-106.45264509375001%2C29.855816427991694%2C-132.16065290625%26rid%3D9%26disp%3Dmap%26mdm%3Dauto%26p%3D2%26z%3D1%26listPriceActive%3D1%26price%3D2500000-%26mp%3D12488-%26fs%3D1%26fr%3D0%26mmm%3D0%26rs%3D0%26ah%3D0%26singlestory%3D0%26housing-connector%3D0%26abo%3D0%26garage%3D0%26pool%3D0%26ac%3D0%26waterfront%3D0%26finished%3D0%26unfinished%3D0%26cityview%3D0%26mountainview%3D0%26parkview%3D0%26waterview%3D0%26hoadata%3D1%26zillow-owned%3D0%263dhome%3D0%26featuredMultiFamilyBuilding%3D0%26student-housing%3D0%26income-restricted-housing%3D0%26military-housing%3D0%26disabled-housing%3D0%26senior-housing%3D0%26commuteMode%3Ddriving%26commuteTimeOfDay%3Dnow%09%099%09%7B%22isList%22%3Atrue%2C%22isMap%22%3Afalse%7D%09%09%09%09%09; x-amz-continuous-deployment-state=AYABeA+m5kqw1F2aYT7PqxaVvGsAPgACAAFEAB1kM2Jsa2Q0azB3azlvai5jbG91ZGZyb250Lm5ldAABRwAVRzA3MjU1NjcyMVRZRFY4RDcyVlpWAAEAAkNEABpDb29raWUAAACAAAAADFT6ITIB595nsyjWgAAwJ8Gb9978%2FXPm59tRlUQuYcNI3OEGGKWI+NuXrBhEgj3xfrb4XMoW37XSx0Fu79FGAgAAAAAMAAQAAAAAAAAAAAAAAAAAAJ2PhuYpbN2WZs9Kcsl0pez%2F%2F%2F%2F%2FAAAAAQAAAAAAAAAAAAAAAQAAAAwyMKdAzfZUh%2F+Vml+zi6CWm5YE84qyzaP4MfID',\n",
    "    \"origin\": \"https://www.zillow.com\",\n",
    "    \"referer\": \"https://www.zillow.com/ca/?searchQueryState=%7B%22isMapVisible%22%3Afalse%2C%22mapBounds%22%3A%7B%22north%22%3A44.28919455063632%2C%22south%22%3A29.855816427991694%2C%22east%22%3A-106.45264509375001%2C%22west%22%3A-132.16065290625%7D%2C%22filterState%22%3A%7B%22sort%22%3A%7B%22value%22%3A%22globalrelevanceex%22%7D%2C%22ah%22%3A%7B%22value%22%3Atrue%7D%2C%22price%22%3A%7B%22min%22%3A2500000%7D%2C%22mp%22%3A%7B%22min%22%3A12488%7D%7D%2C%22isListVisible%22%3Atrue%2C%22mapZoom%22%3A6%2C%22regionSelection%22%3A%5B%7B%22regionId%22%3A9%2C%22regionType%22%3A2%7D%5D%2C%22pagination%22%3A%7B%7D%7D\",\n",
    "    \"sec-ch-ua\": '\"Not_A Brand\";v=\"8\", \"Chromium\";v=\"120\", \"Google Chrome\";v=\"120\"',\n",
    "    \"sec-ch-ua-mobile\": \"?0\",\n",
    "    \"sec-ch-ua-platform\": '\"Windows\"',\n",
    "    \"sec-fetch-dest\": \"empty\",\n",
    "    \"sec-fetch-mode\": \"cors\",\n",
    "    \"sec-fetch-site\": \"same-origin\",\n",
    "    \"user-agent\": \"Mozilla/5.0 (Windows NT 10.0; Win64; x64) AppleWebKit/537.36 (KHTML, like Gecko) Chrome/120.0.0.0 Safari/537.36\",\n",
    "}"
   ]
  },
  {
   "cell_type": "code",
   "execution_count": 8,
   "metadata": {},
   "outputs": [],
   "source": [
    "import requests\n",
    "import json\n",
    "def processSeleniumUrl(originalUrl):\n",
    "    url=requests.utils.unquote(originalUrl).split(\"?\")[-1]\n",
    "    if \"wants\" not in url:\n",
    "        processedUrl='{\"searchQueryState\"'+\":\"+url[17:]+',\"wants\": {\"cat1\": [\"listResults\"], \"cat2\": [\"total\"]},\"requestId\": 2,\"isDebugRequest\": false}'\n",
    "    return processedUrl"
   ]
  },
  {
   "cell_type": "code",
   "execution_count": 9,
   "metadata": {},
   "outputs": [],
   "source": [
    "def getTotalPageNumber(payload=processSeleniumUrl(url)):\n",
    "    url = \"https://www.zillow.com/async-create-search-page-state\"\n",
    "    response = requests.request(\"PUT\", url, headers=headers, data=payload)\n",
    "    json_data = json.loads(response.text)\n",
    "    return json_data[\"cat1\"][\"searchList\"][\"totalPages\"]\n",
    "\n",
    "def getHousesPerPage(pagination, payload=processSeleniumUrl(url), headers=headers):\n",
    "    url = \"https://www.zillow.com/async-create-search-page-state\"\n",
    "    json_data = json.loads(payload)\n",
    "    json_data[\"searchQueryState\"][\"pagination\"][\"currentPage\"] = pagination\n",
    "    payload = json.dumps(json_data)\n",
    "    response = requests.request(\"PUT\", url, headers=headers, data=payload)\n",
    "    json_data = json.loads(response.text)\n",
    "    return json_data[\"cat1\"][\"searchResults\"][\"listResults\"]"
   ]
  },
  {
   "cell_type": "code",
   "execution_count": 38,
   "metadata": {},
   "outputs": [
    {
     "name": "stdout",
     "output_type": "stream",
     "text": [
      "Scraping page: 1 / 30\n",
      "Scraping page: 2 / 30\n",
      "Scraping page: 3 / 30\n",
      "Scraping page: 4 / 30\n",
      "Scraping page: 5 / 30\n",
      "Scraping page: 6 / 30\n",
      "Scraping page: 7 / 30\n",
      "Scraping page: 8 / 30\n",
      "Scraping page: 9 / 30\n",
      "Scraping page: 10 / 30\n",
      "Scraping page: 11 / 30\n",
      "Scraping page: 12 / 30\n",
      "Scraping page: 13 / 30\n",
      "Scraping page: 14 / 30\n",
      "Scraping page: 15 / 30\n",
      "Scraping page: 16 / 30\n",
      "Scraping page: 17 / 30\n",
      "Scraping page: 18 / 30\n",
      "Scraping page: 19 / 30\n",
      "Scraping page: 20 / 30\n",
      "Scraping page: 21 / 30\n",
      "Scraping page: 22 / 30\n",
      "Scraping page: 23 / 30\n",
      "Scraping page: 24 / 30\n",
      "Scraping page: 25 / 30\n",
      "Scraping page: 26 / 30\n",
      "Scraping page: 27 / 30\n",
      "Scraping page: 28 / 30\n",
      "Scraping page: 29 / 30\n",
      "Scraping page: 30 / 30\n"
     ]
    }
   ],
   "source": [
    "excelList=[]\n",
    "\n",
    "totalPageNumber = 30\n",
    "\n",
    "for i in range(1, totalPageNumber + 1):\n",
    "    print(\"Scraping page:\", i, \"/\", totalPageNumber)    \n",
    "    houseList = getHousesPerPage(i)\n",
    "    for house in houseList:\n",
    "        data = {}\n",
    "        testWords = [\n",
    "            \"address\",\n",
    "            \"brokerName\",\n",
    "            \"detailUrl\",\n",
    "            \"imgSrc\",\n",
    "            \"price\",\n",
    "            \"marketingStatusSimplifiedCd\",\n",
    "            \"address\",\n",
    "            \"addressZipcode\",\n",
    "            \"beds\",\n",
    "            \"baths\",\n",
    "            \"area\",\n",
    "        ]\n",
    "        DictWords = [\n",
    "            \"Address\",\n",
    "            \"Agent\",\n",
    "            \"Listing Url\",\n",
    "            \"Main Image Url\",\n",
    "            \"Price\",\n",
    "            \"Marketing Status\",\n",
    "            \"Address\",\n",
    "            \"Address Zipcode\",\n",
    "            \"Beds\",\n",
    "            \"Baths\",\n",
    "            \"Sqft Area\",\n",
    "        ]\n",
    "        for dictWord, testWord in zip(DictWords, testWords):\n",
    "            try:\n",
    "                if dictWord == \"Baths\":\n",
    "                    data[dictWord] = int(house[testWord])\n",
    "\n",
    "                else:\n",
    "                    data[dictWord] = house[testWord]\n",
    "            except:\n",
    "                data[dictWord] = \"NA\"\n",
    "        testWords2 = [\"homeType\", \"zestimate\", \"rentZestimate\"]\n",
    "        dictWords2 = [\"Home Type\",\"zestimate\", \"Rent Zestimate\"]\n",
    "        for dictWord, testWord in zip(dictWords2, testWords2):\n",
    "            \n",
    "            try:\n",
    "                if testWord==\"zestimate\" or testWord==\"rentZestimate\":\n",
    "                    data[dictWord] = \"$\"+str(house[\"hdpData\"][\"homeInfo\"][testWord])\n",
    "                else:\n",
    "                    data[dictWord] = house[\"hdpData\"][\"homeInfo\"][testWord]\n",
    "            except:\n",
    "                \n",
    "                data[dictWord]=\"NA\"\n",
    "        try:            \n",
    "            cp=house[\"carouselPhotos\"]\n",
    "            listt=[]\n",
    "            for url in cp:\n",
    "                listt.append(url[\"url\"])\n",
    "            data[\"House Photos\"]=listt\n",
    "        except:\n",
    "            data[\"House Photos\"] = \"NA\"\n",
    "        excelList.append(data)"
   ]
  },
  {
   "cell_type": "code",
   "execution_count": 39,
   "metadata": {},
   "outputs": [
    {
     "name": "stdout",
     "output_type": "stream",
     "text": [
      "File does not exist creating file: newyork.xlsx\n",
      "Data is appended to newyork.xlsx\n"
     ]
    }
   ],
   "source": [
    "# given data MUST be a LIST that has DICTS with same key names as ELEMENTS\n",
    "\n",
    "#appends data to xlsx file, does not deletes the existing data\n",
    "import pandas as pd\n",
    "#creates a new file if the file does not exist in cd\n",
    "\n",
    "def append_toXlsx(dictionaryList, fileName):\n",
    "    try:\n",
    "        df_existing = pd.read_excel(fileName)\n",
    "        print(fileName + \" exists\")\n",
    "    except:\n",
    "        print(\"File does not exist creating file: \" + fileName)\n",
    "        df_existing = None\n",
    "    df_new = pd.DataFrame(dictionaryList)\n",
    "    df_combined = pd.concat([df_existing, df_new], ignore_index=True)\n",
    "    with pd.ExcelWriter(fileName, engine=\"openpyxl\") as writer:\n",
    "        df_combined.to_excel(writer, index=False, sheet_name=\"Sheet\")\n",
    "    print(\"Data is appended to\", fileName)\n",
    "\n",
    "\n",
    "append_toXlsx(excelList, \"newyork.xlsx\")"
   ]
  }
 ],
 "metadata": {
  "kernelspec": {
   "display_name": "Python 3",
   "language": "python",
   "name": "python3"
  },
  "language_info": {
   "codemirror_mode": {
    "name": "ipython",
    "version": 3
   },
   "file_extension": ".py",
   "mimetype": "text/x-python",
   "name": "python",
   "nbconvert_exporter": "python",
   "pygments_lexer": "ipython3",
   "version": "3.11.4"
  }
 },
 "nbformat": 4,
 "nbformat_minor": 2
}
