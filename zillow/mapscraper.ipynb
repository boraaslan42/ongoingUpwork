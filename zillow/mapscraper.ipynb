{
 "cells": [
  {
   "cell_type": "code",
   "execution_count": 1,
   "metadata": {},
   "outputs": [],
   "source": [
    "import requests\n",
    "import json\n",
    "\n",
    "url = \"https://www.zillow.com/async-create-search-page-state\"\n",
    "\n",
    "payload = json.dumps({\n",
    "  \"searchQueryState\": {\n",
    "    \"pagination\": {},\n",
    "    \"isMapVisible\": True,\n",
    "    \"mapBounds\": {\n",
    "      \"west\": -86.67490064208059,\n",
    "      \"east\": -86.67033015791921,\n",
    "      \"south\": 36.243847427016235,\n",
    "      \"north\": 36.24674176617933\n",
    "    },\n",
    "    \"mapZoom\": 18,\n",
    "    \"filterState\": {\n",
    "      \"sortSelection\": {\n",
    "        \"value\": \"days\"\n",
    "      },\n",
    "      \"isAllHomes\": {\n",
    "        \"value\": True\n",
    "      }\n",
    "    },\n",
    "    \"isListVisible\": True\n",
    "  },\n",
    "  \"wants\": {\n",
    "    \"cat1\": [\n",
    "      \"listResults\",\n",
    "      \"mapResults\"\n",
    "    ],\n",
    "    \"cat2\": [\n",
    "      \"total\"\n",
    "    ]\n",
    "  },\n",
    "  \"requestId\": 4,\n",
    "  \"isDebugRequest\": False\n",
    "})\n",
    "headers = {\n",
    "  'authority': 'www.zillow.com',\n",
    "  'accept': '*/*',\n",
    "  'accept-language': 'tr-TR,tr;q=0.9,en-US;q=0.8,en;q=0.7',\n",
    "  'content-type': 'application/json',\n",
    "  'cookie': 'zguid=24|%243882675e-a8cf-47fa-901e-a17fc4ad28a5; _ga=GA1.2.503817444.1704390763; zjs_anonymous_id=%223882675e-a8cf-47fa-901e-a17fc4ad28a5%22; zjs_user_id=null; zg_anonymous_id=%22266cdf20-1bf3-438b-b745-ed951cd5ef03%22; _gcl_au=1.1.222472829.1704390767; __pdst=44b14fd34b3442408f84fa5ee1a6a6b7; _pin_unauth=dWlkPU1UaGxOVEl5TmpFdE1UQmxZeTAwTW1abExUazNNMlV0TlRjMllXWm1ZamN6WW1Saw; g_state={\"i_p\":1704397979067,\"i_l\":1}; _pxvid=1dc8adab-ab2a-11ee-9083-220b0e6544cf; _cs_c=0; _cs_id=e62cb76b-12ba-a85b-d859-2298dfa2e680.1706464967.1.1706466205.1706464967.1.1740628967883.1; zgsession=1|17dfc841-cf16-4535-98e7-ce1ea6647c23; pxcts=8e67a416-d609-11ee-a28b-4144f7c0d32d; DoubleClickSession=true; _hp2_id.1215457233=%7B%22userId%22%3A%224884671301086620%22%2C%22pageviewId%22%3A%223199683513061121%22%2C%22sessionId%22%3A%226903122911978002%22%2C%22identity%22%3Anull%2C%22trackerVersion%22%3A%224.0%22%7D; JSESSIONID=B31B181243338C37436A79083B8D26FB; _gid=GA1.2.1321812990.1710187132; _pxff_tm=1; _clck=bfk8u%7C2%7Cfjz%7C0%7C1464; _pxff_cc=U2FtZVNpdGU9TGF4Ow==; _pxff_cfp=1; _pxff_bsco=1; _gat=1; _px3=6482198f1b9f1aed1869a4475b4da566c70c3198025a42d102115ba4aabd6a79:p8ol7kksRokVH42jd+GMbCC9Rlps0+Ij8Fc3HbyFVu81diOMo13amfwXPeAlmynkfM8izA2DJgBUAO3nErlyMw==:1000:cEgc4vsSYLUp9hHjVWVJgRIzVRxx/+jbNtFO52SMgEE8JK8r1kpwJfimrLZHiiF34LC/Zvo7Sf7uY8uzrOjYBm+7KkeFLAV4wLPxv1bNSQZrydnBZH2uXz5cwLVkyKGdsfG0fSSAFdWEM8RKkYp0Er8WHBxgG3qdphQa8dVDfPYZbSG9hUaXxVt4wDnIyQZXCiBHWw4PxnqykuA90MwS9tqqYr182MQhwn8F3L9NiOU=; AWSALB=YLmObgqQpcT9TnYT5FR+u+lhrT3Gcp0Sf/swxj23EaGvjBHrcSN5FxjVQdWyb6Wi5eTnojebT2sxt7QBqvOwdyp7r56dqyM3I1n4US2pxSG8YEV7/dgR26XGMkV/; AWSALBCORS=YLmObgqQpcT9TnYT5FR+u+lhrT3Gcp0Sf/swxj23EaGvjBHrcSN5FxjVQdWyb6Wi5eTnojebT2sxt7QBqvOwdyp7r56dqyM3I1n4US2pxSG8YEV7/dgR26XGMkV/; _uetsid=ce496460dfe111eebda74f7ca0acfe76; _uetvid=12787740ab2a11eebd8e6d5dba74ed73; _derived_epik=dj0yJnU9a0FlM0UzUlFjMjJzc1lyVXlCSFhYS1YtQ29lUlVpcGUmbj1NVlc3NTVNOGNDUEFZaXdGY3g0NjBBJm09MSZ0PUFBQUFBR1h2WkRFJnJtPTEmcnQ9QUFBQUFHWHZaREUmc3A9Mg; search=6|1712779576309%7Crect%3D36.24674176617933%2C-86.67033015791921%2C36.243847427016235%2C-86.67490064208059%26disp%3Dmap%26mdm%3Dauto%26p%3D1%26sort%3Ddays%26z%3D1%26listPriceActive%3D1%26fs%3D0%26fr%3D1%26mmm%3D0%26rs%3D0%26ah%3D0%26singlestory%3D0%26housing-connector%3D0%26abo%3D0%26garage%3D0%26pool%3D0%26ac%3D0%26waterfront%3D0%26finished%3D0%26unfinished%3D0%26cityview%3D0%26mountainview%3D0%26parkview%3D0%26waterview%3D0%26hoadata%3D1%26zillow-owned%3D0%263dhome%3D0%26featuredMultiFamilyBuilding%3D0%26student-housing%3D0%26income-restricted-housing%3D0%26military-housing%3D0%26disabled-housing%3D0%26senior-housing%3D0%26excludeNullAvailabilityDates%3D0%26isRoomForRent%3D0%26isEntirePlaceForRent%3D1%26commuteMode%3Ddriving%26commuteTimeOfDay%3Dnow%09%09%09%7B%22isList%22%3Atrue%2C%22isMap%22%3Atrue%7D%09%09%09%09%09; _clsk=eunr9y%7C1710187577987%7C24%7C0%7Cp.clarity.ms%2Fcollect; search=6|1712779661409%7Crect%3D36.24674176617933%2C-86.67033015791921%2C36.243847427016235%2C-86.67490064208059%26disp%3Dmap%26mdm%3Dauto%26p%3D1%26sort%3Ddays%26z%3D1%26listPriceActive%3D1%26fs%3D1%26fr%3D0%26mmm%3D0%26rs%3D0%26ah%3D0%26singlestory%3D0%26housing-connector%3D0%26abo%3D0%26garage%3D0%26pool%3D0%26ac%3D0%26waterfront%3D0%26finished%3D0%26unfinished%3D0%26cityview%3D0%26mountainview%3D0%26parkview%3D0%26waterview%3D0%26hoadata%3D1%26zillow-owned%3D0%263dhome%3D0%26featuredMultiFamilyBuilding%3D0%26student-housing%3D0%26income-restricted-housing%3D0%26military-housing%3D0%26disabled-housing%3D0%26senior-housing%3D0%26commuteMode%3Ddriving%26commuteTimeOfDay%3Dnow%09%09%09%7B%22isList%22%3Atrue%2C%22isMap%22%3Atrue%7D%09%09%09%09%09; x-amz-continuous-deployment-state=AYABeJS49oIviyMMkdfdwyEBtFYAPgACAAFEAB1kM2Jsa2Q0azB3azlvai5jbG91ZGZyb250Lm5ldAABRwAVRzA3MjU1NjcyMVRZRFY4RDcyVlpWAAEAAkNEABpDb29raWUAAACAAAAADJPOItQvHg7ettyYEQAw0chPxy2sW%2FNndkHTz8V3Ah3F7SWGf6Tki8VfssG6SR1rYkqVyFOHLweRyKwFPW6zAgAAAAAMAAQAAAAAAAAAAAAAAAAAAI2hdHvwZDboVQ1wpjMv67b%2F%2F%2F%2F%2FAAAAAQAAAAAAAAAAAAAAAQAAAAycAYyb152sVmhM8FzhFyyV11d7wtgBgk6QZPrT',\n",
    "  'origin': 'https://www.zillow.com',\n",
    "  'referer': 'https://www.zillow.com/homes/for_rent/?searchQueryState=%7B%22pagination%22%3A%7B%7D%2C%22isMapVisible%22%3Atrue%2C%22mapBounds%22%3A%7B%22west%22%3A-86.67490064208059%2C%22east%22%3A-86.67033015791921%2C%22south%22%3A36.243847427016235%2C%22north%22%3A36.24674176617933%7D%2C%22mapZoom%22%3A18%2C%22filterState%22%3A%7B%22sort%22%3A%7B%22value%22%3A%22days%22%7D%2C%22ah%22%3A%7B%22value%22%3Atrue%7D%2C%22fr%22%3A%7B%22value%22%3Atrue%7D%2C%22fsba%22%3A%7B%22value%22%3Afalse%7D%2C%22fsbo%22%3A%7B%22value%22%3Afalse%7D%2C%22nc%22%3A%7B%22value%22%3Afalse%7D%2C%22cmsn%22%3A%7B%22value%22%3Afalse%7D%2C%22auc%22%3A%7B%22value%22%3Afalse%7D%2C%22fore%22%3A%7B%22value%22%3Afalse%7D%7D%2C%22isListVisible%22%3Atrue%7D',\n",
    "  'sec-ch-ua': '\"Not A(Brand\";v=\"99\", \"Opera GX\";v=\"107\", \"Chromium\";v=\"121\"',\n",
    "  'sec-ch-ua-mobile': '?0',\n",
    "  'sec-ch-ua-platform': '\"Windows\"',\n",
    "  'sec-fetch-dest': 'empty',\n",
    "  'sec-fetch-mode': 'cors',\n",
    "  'sec-fetch-site': 'same-origin',\n",
    "  'user-agent': 'Mozilla/5.0 (Windows NT 10.0; Win64; x64) AppleWebKit/537.36 (KHTML, like Gecko) Chrome/121.0.0.0 Safari/537.36 OPR/107.0.0.0'\n",
    "}\n",
    "\n",
    "response = requests.request(\"PUT\", url, headers=headers, data=payload)\n",
    "\n",
    "\n"
   ]
  },
  {
   "cell_type": "code",
   "execution_count": 31,
   "metadata": {},
   "outputs": [
    {
     "name": "stdout",
     "output_type": "stream",
     "text": [
      "File does not exist creating file: Scraping Grey Areas.xlsx\n",
      "Data is appended to Scraping Grey Areas.xlsx\n"
     ]
    }
   ],
   "source": [
    "# given data MUST be a LIST that has DICTS with same key names as ELEMENTS\n",
    "\n",
    "#appends data to xlsx file, does not deletes the existing data\n",
    "\n",
    "#creates a new file if the file does not exist in cd\n",
    "import pandas as pd\n",
    "def append_toXlsx(dictionaryList, fileName):\n",
    "    try:\n",
    "        df_existing = pd.read_excel(fileName)\n",
    "        print(fileName + \" exists\")\n",
    "    except:\n",
    "        print(\"File does not exist creating file: \" + fileName)\n",
    "        df_existing = None\n",
    "    df_new = pd.DataFrame(dictionaryList)\n",
    "    df_combined = pd.concat([df_existing, df_new], ignore_index=True)\n",
    "    with pd.ExcelWriter(fileName, engine=\"openpyxl\") as writer:\n",
    "        df_combined.to_excel(writer, index=False, sheet_name=\"Sheet\")\n",
    "    print(\"Data is appended to\", fileName)\n",
    "\n",
    "\n",
    "append_toXlsx(excelList, \"Scraping Grey Areas.xlsx\")"
   ]
  },
  {
   "cell_type": "code",
   "execution_count": 32,
   "metadata": {},
   "outputs": [
    {
     "name": "stdout",
     "output_type": "stream",
     "text": [
      "{'zpid': '108744500', 'rawHomeStatusCd': 'Zestimate', 'marketingStatusSimplifiedCd': 'RecentChange', 'imgSrc': 'https://photos.zillowstatic.com/fp/691ca4a9c0bbfb5e9862834da2fc022a-p_e.jpg', 'hasImage': True, 'detailUrl': '/homedetails/1206-Apache-Ln-Madison-TN-37115/108744500_zpid/', 'statusType': 'OTHER', 'statusText': 'Off market: Zestimate', 'price': '$626,700', 'priceLabel': '$627K', 'address': '1206 Apache Ln, Madison, TN 37115', 'beds': 3, 'baths': 4.0, 'area': 2311, 'latLong': {'latitude': 36.24565, 'longitude': -86.673996}, 'hdpData': {'homeInfo': {'zpid': 108744500, 'streetAddress': '1206 Apache Ln', 'zipcode': '37115', 'city': 'Madison', 'state': 'TN', 'latitude': 36.24565, 'longitude': -86.673996, 'price': 626700.0, 'dateSold': 1688022000000, 'bathrooms': 4.0, 'bedrooms': 3.0, 'livingArea': 2311.0, 'homeType': 'SINGLE_FAMILY', 'homeStatus': 'OTHER', 'daysOnZillow': -1, 'isFeatured': False, 'shouldHighlight': False, 'zestimate': 626700, 'rentZestimate': 2605, 'listing_sub_type': {}, 'isUnmappable': False, 'isPreforeclosureAuction': False, 'homeStatusForHDP': 'RECENTLY_SOLD', 'priceForHDP': 605000.0, 'timeOnZillow': 22190876000, 'isNonOwnerOccupied': True, 'isPremierBuilder': False, 'isZillowOwned': False, 'currency': 'USD', 'country': 'USA', 'taxAssessedValue': 235000.0, 'lotAreaValue': 0.3, 'lotAreaUnit': 'acres', 'isShowcaseListing': False}}, 'isUserClaimingOwner': False, 'isUserConfirmedClaim': False, 'pgapt': 'Zestimate', 'sgapt': 'Unknown Listed By', 'shouldShowZestimateAsPrice': False, 'has3DModel': False, 'hasVideo': False, 'isHomeRec': False, 'hasAdditionalAttributions': False, 'isFeaturedListing': False, 'isShowcaseListing': False, 'listingType': '', 'isFavorite': False, 'visited': False, 'timeOnZillow': 22190876000}\n"
     ]
    }
   ],
   "source": [
    "data=json.loads(response.text)\n",
    "excelList=[]    \n",
    "results=data[\"cat1\"][\"searchResults\"][\"mapResults\"]\n",
    "result=results[0]\n",
    "\n",
    "for result in results:\n",
    "    data={}\n",
    "    priceLabel=result[\"priceLabel\"]\n",
    "    url=\"https://www.zillow.com\"+result[\"detailUrl\"]\n",
    "    address=result[\"address\"]\n",
    "    data[\"Price Label\"]=priceLabel\n",
    "    data[\"URL\"]=url\n",
    "    data[\"Address\"]=address\n",
    "    print(result)\n",
    "    break\n",
    "    excelList.append(data)\n",
    "\n"
   ]
  },
  {
   "cell_type": "code",
   "execution_count": 58,
   "metadata": {},
   "outputs": [],
   "source": [
    "import requests\n",
    "\n",
    "url = \"https://discord.com/api/v9/channels/1008149320786251888/messages?limit=50\"\n",
    "\n",
    "payload = {}\n",
    "headers = {\n",
    "  'authority': 'discord.com',\n",
    "  'accept': '*/*',\n",
    "  'accept-language': 'tr-TR,tr;q=0.9,en-US;q=0.8,en;q=0.7',\n",
    "  'authorization': 'MzQxMTY1NTk4NjA2MzYwNTc3.GtYzYu.OV45tYnAEW3cybPVZp7rzn2AJ3iD6Uja4GYZYI',\n",
    "  'cookie': '__dcfduid=b767a82084a811ee9d179118d98b379f; __sdcfduid=b767a82184a811ee9d179118d98b379ff325e840820981ed3166b2282ab34af270ecd8c7df673488424e3a3de3c723d1; __cfruid=da2e96a835b592b3f9ad7aceb327d0984d304de3-1710249481; _cfuvid=XTW9s48QxHU_obEqKG923uN9l7GVfKOeFcer.2q8ASg-1710249481392-0.0.1.1-604800000; _gcl_au=1.1.1820746067.1710249484; OptanonConsent=isIABGlobal=false&datestamp=Tue+Mar+12+2024+16%3A18%3A03+GMT%2B0300+(GMT%2B03%3A00)&version=6.33.0&hosts=&landingPath=https%3A%2F%2Fdiscord.com%2F&groups=C0001%3A1%2CC0002%3A1%2CC0003%3A1; _ga=GA1.1.1526806074.1710249484; _ga_Q149DFWHT7=GS1.1.1710249484.1.0.1710249486.0.0.0; locale=en-GB; cf_clearance=jhazxEvgfL6c_7W4xCasWTX_pELLThg6etUaidNIvcY-1710249486-1.0.1.1-mo.WWoCYpA50CJAJQ_KmuJJdhVBh.5VPko8eI2bwONSfpo5D2ftirKWh5zbdtI07GWwIjpHTPvUV49owyvgWbg',\n",
    "  'referer': 'https://discord.com/channels/1045652348510425128/1045652349550608418',\n",
    "  'sec-fetch-dest': 'empty',\n",
    "  'sec-fetch-mode': 'cors',\n",
    "  'sec-fetch-site': 'same-origin',\n",
    "  'user-agent': 'Mozilla/5.0 (Windows NT 10.0; Win64; x64) AppleWebKit/537.36 (KHTML, like Gecko) Chrome/121.0.6167.186 Safari/537.36',\n",
    "  'x-debug-options': 'bugReporterEnabled',\n",
    "  'x-discord-locale': 'en-GB',\n",
    "  'x-discord-timezone': 'Europe/Istanbul',\n",
    "  'x-super-properties': 'eyJvcyI6IldpbmRvd3MiLCJicm93c2VyIjoiQ2hyb21lIiwiZGV2aWNlIjoiIiwic3lzdGVtX2xvY2FsZSI6InRyLVRSIiwiYnJvd3Nlcl91c2VyX2FnZW50IjoiTW96aWxsYS81LjAgKFdpbmRvd3MgTlQgMTAuMDsgV2luNjQ7IHg2NCkgQXBwbGVXZWJLaXQvNTM3LjM2IChLSFRNTCwgbGlrZSBHZWNrbykgQ2hyb21lLzEyMS4wLjYxNjcuMTg2IFNhZmFyaS81MzcuMzYiLCJicm93c2VyX3ZlcnNpb24iOiIxMjEuMC42MTY3LjE4NiIsIm9zX3ZlcnNpb24iOiIxMCIsInJlZmVycmVyIjoiaHR0cHM6Ly93d3cuZ29vZ2xlLmNvbS8iLCJyZWZlcnJpbmdfZG9tYWluIjoid3d3Lmdvb2dsZS5jb20iLCJzZWFyY2hfZW5naW5lIjoiZ29vZ2xlIiwicmVmZXJyZXJfY3VycmVudCI6Imh0dHBzOi8vd3d3Lmdvb2dsZS5jb20vIiwicmVmZXJyaW5nX2RvbWFpbl9jdXJyZW50Ijoid3d3Lmdvb2dsZS5jb20iLCJzZWFyY2hfZW5naW5lX2N1cnJlbnQiOiJnb29nbGUiLCJyZWxlYXNlX2NoYW5uZWwiOiJzdGFibGUiLCJjbGllbnRfYnVpbGRfbnVtYmVyIjoyNzM4NTAsImNsaWVudF9ldmVudF9zb3VyY2UiOm51bGx9'\n",
    "}\n",
    "\n",
    "response = requests.request(\"GET\", url, headers=headers, data=payload)\n",
    "\n",
    "\n"
   ]
  },
  {
   "cell_type": "code",
   "execution_count": 52,
   "metadata": {},
   "outputs": [
    {
     "data": {
      "text/plain": [
       "'[{\"id\":\"1217105059033252011\",\"type\":0,\"content\":\"sefdsvwefs\",\"channel_id\":\"1008149320786251888\",\"author\":{\"id\":\"341165598606360577\",\"username\":\"bogac42\",\"avatar\":\"f8d6823978bfee9fb17e9a1e5127bd53\",\"discriminator\":\"0\",\"public_flags\":0,\"premium_type\":0,\"flags\":0,\"banner\":null,\"accent_color\":null,\"global_name\":\"bogac42\",\"avatar_decoration_data\":null,\"banner_color\":null},\"attachments\":[],\"embeds\":[],\"mentions\":[],\"mention_roles\":[],\"pinned\":false,\"mention_everyone\":false,\"tts\":false,\"timestamp\":\"2024-03-12T13:40:58.792000+00:00\",\"edited_timestamp\":null,\"flags\":0,\"components\":[]},{\"id\":\"1217105050913210489\",\"type\":0,\"content\":\"sdfsdfs\",\"channel_id\":\"1008149320786251888\",\"author\":{\"id\":\"341165598606360577\",\"username\":\"bogac42\",\"avatar\":\"f8d6823978bfee9fb17e9a1e5127bd53\",\"discriminator\":\"0\",\"public_flags\":0,\"premium_type\":0,\"flags\":0,\"banner\":null,\"accent_color\":null,\"global_name\":\"bogac42\",\"avatar_decoration_data\":null,\"banner_color\":null},\"attachments\":[],\"embeds\":[],\"mentions\":[],\"mention_roles\":[],\"pinned\":false,\"mention_everyone\":false,\"tts\":false,\"timestamp\":\"2024-03-12T13:40:56.856000+00:00\",\"edited_timestamp\":null,\"flags\":0,\"components\":[]},{\"id\":\"1217105044915097732\",\"type\":0,\"content\":\"vsrdsef\",\"channel_id\":\"1008149320786251888\",\"author\":{\"id\":\"341165598606360577\",\"username\":\"bogac42\",\"avatar\":\"f8d6823978bfee9fb17e9a1e5127bd53\",\"discriminator\":\"0\",\"public_flags\":0,\"premium_type\":0,\"flags\":0,\"banner\":null,\"accent_color\":null,\"global_name\":\"bogac42\",\"avatar_decoration_data\":null,\"banner_color\":null},\"attachments\":[],\"embeds\":[],\"mentions\":[],\"mention_roles\":[],\"pinned\":false,\"mention_everyone\":false,\"tts\":false,\"timestamp\":\"2024-03-12T13:40:55.426000+00:00\",\"edited_timestamp\":null,\"flags\":0,\"components\":[]},{\"id\":\"1217105037155631105\",\"type\":0,\"content\":\"rvsdfs\",\"channel_id\":\"1008149320786251888\",\"author\":{\"id\":\"341165598606360577\",\"username\":\"bogac42\",\"avatar\":\"f8d6823978bfee9fb17e9a1e5127bd53\",\"discriminator\":\"0\",\"public_flags\":0,\"premium_type\":0,\"flags\":0,\"banner\":null,\"accent_color\":null,\"global_name\":\"bogac42\",\"avatar_decoration_data\":null,\"banner_color\":null},\"attachments\":[],\"embeds\":[],\"mentions\":[],\"mention_roles\":[],\"pinned\":false,\"mention_everyone\":false,\"tts\":false,\"timestamp\":\"2024-03-12T13:40:53.576000+00:00\",\"edited_timestamp\":null,\"flags\":0,\"components\":[]},{\"id\":\"1217105032055492700\",\"type\":0,\"content\":\"asdarfasd\",\"channel_id\":\"1008149320786251888\",\"author\":{\"id\":\"341165598606360577\",\"username\":\"bogac42\",\"avatar\":\"f8d6823978bfee9fb17e9a1e5127bd53\",\"discriminator\":\"0\",\"public_flags\":0,\"premium_type\":0,\"flags\":0,\"banner\":null,\"accent_color\":null,\"global_name\":\"bogac42\",\"avatar_decoration_data\":null,\"banner_color\":null},\"attachments\":[],\"embeds\":[],\"mentions\":[],\"mention_roles\":[],\"pinned\":false,\"mention_everyone\":false,\"tts\":false,\"timestamp\":\"2024-03-12T13:40:52.360000+00:00\",\"edited_timestamp\":null,\"flags\":0,\"components\":[]},{\"id\":\"1217105026795835514\",\"type\":0,\"content\":\"dvdfsd\",\"channel_id\":\"1008149320786251888\",\"author\":{\"id\":\"341165598606360577\",\"username\":\"bogac42\",\"avatar\":\"f8d6823978bfee9fb17e9a1e5127bd53\",\"discriminator\":\"0\",\"public_flags\":0,\"premium_type\":0,\"flags\":0,\"banner\":null,\"accent_color\":null,\"global_name\":\"bogac42\",\"avatar_decoration_data\":null,\"banner_color\":null},\"attachments\":[],\"embeds\":[],\"mentions\":[],\"mention_roles\":[],\"pinned\":false,\"mention_everyone\":false,\"tts\":false,\"timestamp\":\"2024-03-12T13:40:51.106000+00:00\",\"edited_timestamp\":null,\"flags\":0,\"components\":[]},{\"id\":\"1217105022010134608\",\"type\":0,\"content\":\"asdade\",\"channel_id\":\"1008149320786251888\",\"author\":{\"id\":\"341165598606360577\",\"username\":\"bogac42\",\"avatar\":\"f8d6823978bfee9fb17e9a1e5127bd53\",\"discriminator\":\"0\",\"public_flags\":0,\"premium_type\":0,\"flags\":0,\"banner\":null,\"accent_color\":null,\"global_name\":\"bogac42\",\"avatar_decoration_data\":null,\"banner_color\":null},\"attachments\":[],\"embeds\":[],\"mentions\":[],\"mention_roles\":[],\"pinned\":false,\"mention_everyone\":false,\"tts\":false,\"timestamp\":\"2024-03-12T13:40:49.965000+00:00\",\"edited_timestamp\":null,\"flags\":0,\"components\":[]},{\"id\":\"1217105017400463421\",\"type\":0,\"content\":\"sdfsde\",\"channel_id\":\"1008149320786251888\",\"author\":{\"id\":\"341165598606360577\",\"username\":\"bogac42\",\"avatar\":\"f8d6823978bfee9fb17e9a1e5127bd53\",\"discriminator\":\"0\",\"public_flags\":0,\"premium_type\":0,\"flags\":0,\"banner\":null,\"accent_color\":null,\"global_name\":\"bogac42\",\"avatar_decoration_data\":null,\"banner_color\":null},\"attachments\":[],\"embeds\":[],\"mentions\":[],\"mention_roles\":[],\"pinned\":false,\"mention_everyone\":false,\"tts\":false,\"timestamp\":\"2024-03-12T13:40:48.866000+00:00\",\"edited_timestamp\":null,\"flags\":0,\"components\":[]},{\"id\":\"1217105013298561044\",\"type\":0,\"content\":\"ada\",\"channel_id\":\"1008149320786251888\",\"author\":{\"id\":\"341165598606360577\",\"username\":\"bogac42\",\"avatar\":\"f8d6823978bfee9fb17e9a1e5127bd53\",\"discriminator\":\"0\",\"public_flags\":0,\"premium_type\":0,\"flags\":0,\"banner\":null,\"accent_color\":null,\"global_name\":\"bogac42\",\"avatar_decoration_data\":null,\"banner_color\":null},\"attachments\":[],\"embeds\":[],\"mentions\":[],\"mention_roles\":[],\"pinned\":false,\"mention_everyone\":false,\"tts\":false,\"timestamp\":\"2024-03-12T13:40:47.888000+00:00\",\"edited_timestamp\":null,\"flags\":0,\"components\":[]},{\"id\":\"1217105009972609054\",\"type\":0,\"content\":\"vv\",\"channel_id\":\"1008149320786251888\",\"author\":{\"id\":\"341165598606360577\",\"username\":\"bogac42\",\"avatar\":\"f8d6823978bfee9fb17e9a1e5127bd53\",\"discriminator\":\"0\",\"public_flags\":0,\"premium_type\":0,\"flags\":0,\"banner\":null,\"accent_color\":null,\"global_name\":\"bogac42\",\"avatar_decoration_data\":null,\"banner_color\":null},\"attachments\":[],\"embeds\":[],\"mentions\":[],\"mention_roles\":[],\"pinned\":false,\"mention_everyone\":false,\"tts\":false,\"timestamp\":\"2024-03-12T13:40:47.095000+00:00\",\"edited_timestamp\":null,\"flags\":0,\"components\":[]},{\"id\":\"1217105006885601432\",\"type\":0,\"content\":\"s\",\"channel_id\":\"1008149320786251888\",\"author\":{\"id\":\"341165598606360577\",\"username\":\"bogac42\",\"avatar\":\"f8d6823978bfee9fb17e9a1e5127bd53\",\"discriminator\":\"0\",\"public_flags\":0,\"premium_type\":0,\"flags\":0,\"banner\":null,\"accent_color\":null,\"global_name\":\"bogac42\",\"avatar_decoration_data\":null,\"banner_color\":null},\"attachments\":[],\"embeds\":[],\"mentions\":[],\"mention_roles\":[],\"pinned\":false,\"mention_everyone\":false,\"tts\":false,\"timestamp\":\"2024-03-12T13:40:46.359000+00:00\",\"edited_timestamp\":null,\"flags\":0,\"components\":[]},{\"id\":\"1217105004142268516\",\"type\":0,\"content\":\"erer\",\"channel_id\":\"1008149320786251888\",\"author\":{\"id\":\"341165598606360577\",\"username\":\"bogac42\",\"avatar\":\"f8d6823978bfee9fb17e9a1e5127bd53\",\"discriminator\":\"0\",\"public_flags\":0,\"premium_type\":0,\"flags\":0,\"banner\":null,\"accent_color\":null,\"global_name\":\"bogac42\",\"avatar_decoration_data\":null,\"banner_color\":null},\"attachments\":[],\"embeds\":[],\"mentions\":[],\"mention_roles\":[],\"pinned\":false,\"mention_everyone\":false,\"tts\":false,\"timestamp\":\"2024-03-12T13:40:45.705000+00:00\",\"edited_timestamp\":null,\"flags\":0,\"components\":[]},{\"id\":\"1217104998585077833\",\"type\":0,\"content\":\"f\",\"channel_id\":\"1008149320786251888\",\"author\":{\"id\":\"341165598606360577\",\"username\":\"bogac42\",\"avatar\":\"f8d6823978bfee9fb17e9a1e5127bd53\",\"discriminator\":\"0\",\"public_flags\":0,\"premium_type\":0,\"flags\":0,\"banner\":null,\"accent_color\":null,\"global_name\":\"bogac42\",\"avatar_decoration_data\":null,\"banner_color\":null},\"attachments\":[],\"embeds\":[],\"mentions\":[],\"mention_roles\":[],\"pinned\":false,\"mention_everyone\":false,\"tts\":false,\"timestamp\":\"2024-03-12T13:40:44.380000+00:00\",\"edited_timestamp\":null,\"flags\":0,\"components\":[]},{\"id\":\"1217104994956738610\",\"type\":0,\"content\":\"fdf\",\"channel_id\":\"1008149320786251888\",\"author\":{\"id\":\"341165598606360577\",\"username\":\"bogac42\",\"avatar\":\"f8d6823978bfee9fb17e9a1e5127bd53\",\"discriminator\":\"0\",\"public_flags\":0,\"premium_type\":0,\"flags\":0,\"banner\":null,\"accent_color\":null,\"global_name\":\"bogac42\",\"avatar_decoration_data\":null,\"banner_color\":null},\"attachments\":[],\"embeds\":[],\"mentions\":[],\"mention_roles\":[],\"pinned\":false,\"mention_everyone\":false,\"tts\":false,\"timestamp\":\"2024-03-12T13:40:43.515000+00:00\",\"edited_timestamp\":null,\"flags\":0,\"components\":[]},{\"id\":\"1217104993056981035\",\"type\":0,\"content\":\"sd\",\"channel_id\":\"1008149320786251888\",\"author\":{\"id\":\"341165598606360577\",\"username\":\"bogac42\",\"avatar\":\"f8d6823978bfee9fb17e9a1e5127bd53\",\"discriminator\":\"0\",\"public_flags\":0,\"premium_type\":0,\"flags\":0,\"banner\":null,\"accent_color\":null,\"global_name\":\"bogac42\",\"avatar_decoration_data\":null,\"banner_color\":null},\"attachments\":[],\"embeds\":[],\"mentions\":[],\"mention_roles\":[],\"pinned\":false,\"mention_everyone\":false,\"tts\":false,\"timestamp\":\"2024-03-12T13:40:43.062000+00:00\",\"edited_timestamp\":null,\"flags\":0,\"components\":[]},{\"id\":\"1217104988371947650\",\"type\":0,\"content\":\"dsf\",\"channel_id\":\"1008149320786251888\",\"author\":{\"id\":\"341165598606360577\",\"username\":\"bogac42\",\"avatar\":\"f8d6823978bfee9fb17e9a1e5127bd53\",\"discriminator\":\"0\",\"public_flags\":0,\"premium_type\":0,\"flags\":0,\"banner\":null,\"accent_color\":null,\"global_name\":\"bogac42\",\"avatar_decoration_data\":null,\"banner_color\":null},\"attachments\":[],\"embeds\":[],\"mentions\":[],\"mention_roles\":[],\"pinned\":false,\"mention_everyone\":false,\"tts\":false,\"timestamp\":\"2024-03-12T13:40:41.945000+00:00\",\"edited_timestamp\":null,\"flags\":0,\"components\":[]},{\"id\":\"1217104986874449950\",\"type\":0,\"content\":\"sd\",\"channel_id\":\"1008149320786251888\",\"author\":{\"id\":\"341165598606360577\",\"username\":\"bogac42\",\"avatar\":\"f8d6823978bfee9fb17e9a1e5127bd53\",\"discriminator\":\"0\",\"public_flags\":0,\"premium_type\":0,\"flags\":0,\"banner\":null,\"accent_color\":null,\"global_name\":\"bogac42\",\"avatar_decoration_data\":null,\"banner_color\":null},\"attachments\":[],\"embeds\":[],\"mentions\":[],\"mention_roles\":[],\"pinned\":false,\"mention_everyone\":false,\"tts\":false,\"timestamp\":\"2024-03-12T13:40:41.588000+00:00\",\"edited_timestamp\":null,\"flags\":0,\"components\":[]},{\"id\":\"1217104985083351111\",\"type\":0,\"content\":\"sd\",\"channel_id\":\"1008149320786251888\",\"author\":{\"id\":\"341165598606360577\",\"username\":\"bogac42\",\"avatar\":\"f8d6823978bfee9fb17e9a1e5127bd53\",\"discriminator\":\"0\",\"public_flags\":0,\"premium_type\":0,\"flags\":0,\"banner\":null,\"accent_color\":null,\"global_name\":\"bogac42\",\"avatar_decoration_data\":null,\"banner_color\":null},\"attachments\":[],\"embeds\":[],\"mentions\":[],\"mention_roles\":[],\"pinned\":false,\"mention_everyone\":false,\"tts\":false,\"timestamp\":\"2024-03-12T13:40:41.161000+00:00\",\"edited_timestamp\":null,\"flags\":0,\"components\":[]},{\"id\":\"1217104983166554142\",\"type\":0,\"content\":\"sd\",\"channel_id\":\"1008149320786251888\",\"author\":{\"id\":\"341165598606360577\",\"username\":\"bogac42\",\"avatar\":\"f8d6823978bfee9fb17e9a1e5127bd53\",\"discriminator\":\"0\",\"public_flags\":0,\"premium_type\":0,\"flags\":0,\"banner\":null,\"accent_color\":null,\"global_name\":\"bogac42\",\"avatar_decoration_data\":null,\"banner_color\":null},\"attachments\":[],\"embeds\":[],\"mentions\":[],\"mention_roles\":[],\"pinned\":false,\"mention_everyone\":false,\"tts\":false,\"timestamp\":\"2024-03-12T13:40:40.704000+00:00\",\"edited_timestamp\":null,\"flags\":0,\"components\":[]},{\"id\":\"1217104981656604752\",\"type\":0,\"content\":\"sd\",\"channel_id\":\"1008149320786251888\",\"author\":{\"id\":\"341165598606360577\",\"username\":\"bogac42\",\"avatar\":\"f8d6823978bfee9fb17e9a1e5127bd53\",\"discriminator\":\"0\",\"public_flags\":0,\"premium_type\":0,\"flags\":0,\"banner\":null,\"accent_color\":null,\"global_name\":\"bogac42\",\"avatar_decoration_data\":null,\"banner_color\":null},\"attachments\":[],\"embeds\":[],\"mentions\":[],\"mention_roles\":[],\"pinned\":false,\"mention_everyone\":false,\"tts\":false,\"timestamp\":\"2024-03-12T13:40:40.344000+00:00\",\"edited_timestamp\":null,\"flags\":0,\"components\":[]},{\"id\":\"1217104980171821189\",\"type\":0,\"content\":\"sd\",\"channel_id\":\"1008149320786251888\",\"author\":{\"id\":\"341165598606360577\",\"username\":\"bogac42\",\"avatar\":\"f8d6823978bfee9fb17e9a1e5127bd53\",\"discriminator\":\"0\",\"public_flags\":0,\"premium_type\":0,\"flags\":0,\"banner\":null,\"accent_color\":null,\"global_name\":\"bogac42\",\"avatar_decoration_data\":null,\"banner_color\":null},\"attachments\":[],\"embeds\":[],\"mentions\":[],\"mention_roles\":[],\"pinned\":false,\"mention_everyone\":false,\"tts\":false,\"timestamp\":\"2024-03-12T13:40:39.990000+00:00\",\"edited_timestamp\":null,\"flags\":0,\"components\":[]},{\"id\":\"1217104978079125594\",\"type\":0,\"content\":\"sd\",\"channel_id\":\"1008149320786251888\",\"author\":{\"id\":\"341165598606360577\",\"username\":\"bogac42\",\"avatar\":\"f8d6823978bfee9fb17e9a1e5127bd53\",\"discriminator\":\"0\",\"public_flags\":0,\"premium_type\":0,\"flags\":0,\"banner\":null,\"accent_color\":null,\"global_name\":\"bogac42\",\"avatar_decoration_data\":null,\"banner_color\":null},\"attachments\":[],\"embeds\":[],\"mentions\":[],\"mention_roles\":[],\"pinned\":false,\"mention_everyone\":false,\"tts\":false,\"timestamp\":\"2024-03-12T13:40:39.491000+00:00\",\"edited_timestamp\":null,\"flags\":0,\"components\":[]},{\"id\":\"1217104976443342949\",\"type\":0,\"content\":\"sd\",\"channel_id\":\"1008149320786251888\",\"author\":{\"id\":\"341165598606360577\",\"username\":\"bogac42\",\"avatar\":\"f8d6823978bfee9fb17e9a1e5127bd53\",\"discriminator\":\"0\",\"public_flags\":0,\"premium_type\":0,\"flags\":0,\"banner\":null,\"accent_color\":null,\"global_name\":\"bogac42\",\"avatar_decoration_data\":null,\"banner_color\":null},\"attachments\":[],\"embeds\":[],\"mentions\":[],\"mention_roles\":[],\"pinned\":false,\"mention_everyone\":false,\"tts\":false,\"timestamp\":\"2024-03-12T13:40:39.101000+00:00\",\"edited_timestamp\":null,\"flags\":0,\"components\":[]},{\"id\":\"1217104975205892096\",\"type\":0,\"content\":\"sd\",\"channel_id\":\"1008149320786251888\",\"author\":{\"id\":\"341165598606360577\",\"username\":\"bogac42\",\"avatar\":\"f8d6823978bfee9fb17e9a1e5127bd53\",\"discriminator\":\"0\",\"public_flags\":0,\"premium_type\":0,\"flags\":0,\"banner\":null,\"accent_color\":null,\"global_name\":\"bogac42\",\"avatar_decoration_data\":null,\"banner_color\":null},\"attachments\":[],\"embeds\":[],\"mentions\":[],\"mention_roles\":[],\"pinned\":false,\"mention_everyone\":false,\"tts\":false,\"timestamp\":\"2024-03-12T13:40:38.806000+00:00\",\"edited_timestamp\":null,\"flags\":0,\"components\":[]},{\"id\":\"1217104973855330314\",\"type\":0,\"content\":\"ada\",\"channel_id\":\"1008149320786251888\",\"author\":{\"id\":\"341165598606360577\",\"username\":\"bogac42\",\"avatar\":\"f8d6823978bfee9fb17e9a1e5127bd53\",\"discriminator\":\"0\",\"public_flags\":0,\"premium_type\":0,\"flags\":0,\"banner\":null,\"accent_color\":null,\"global_name\":\"bogac42\",\"avatar_decoration_data\":null,\"banner_color\":null},\"attachments\":[],\"embeds\":[],\"mentions\":[],\"mention_roles\":[],\"pinned\":false,\"mention_everyone\":false,\"tts\":false,\"timestamp\":\"2024-03-12T13:40:38.484000+00:00\",\"edited_timestamp\":null,\"flags\":0,\"components\":[]},{\"id\":\"1217104971653185648\",\"type\":0,\"content\":\"ds\",\"channel_id\":\"1008149320786251888\",\"author\":{\"id\":\"341165598606360577\",\"username\":\"bogac42\",\"avatar\":\"f8d6823978bfee9fb17e9a1e5127bd53\",\"discriminator\":\"0\",\"public_flags\":0,\"premium_type\":0,\"flags\":0,\"banner\":null,\"accent_color\":null,\"global_name\":\"bogac42\",\"avatar_decoration_data\":null,\"banner_color\":null},\"attachments\":[],\"embeds\":[],\"mentions\":[],\"mention_roles\":[],\"pinned\":false,\"mention_everyone\":false,\"tts\":false,\"timestamp\":\"2024-03-12T13:40:37.959000+00:00\",\"edited_timestamp\":null,\"flags\":0,\"components\":[]},{\"id\":\"1217104969451311185\",\"type\":0,\"content\":\"ds\",\"channel_id\":\"1008149320786251888\",\"author\":{\"id\":\"341165598606360577\",\"username\":\"bogac42\",\"avatar\":\"f8d6823978bfee9fb17e9a1e5127bd53\",\"discriminator\":\"0\",\"public_flags\":0,\"premium_type\":0,\"flags\":0,\"banner\":null,\"accent_color\":null,\"global_name\":\"bogac42\",\"avatar_decoration_data\":null,\"banner_color\":null},\"attachments\":[],\"embeds\":[],\"mentions\":[],\"mention_roles\":[],\"pinned\":false,\"mention_everyone\":false,\"tts\":false,\"timestamp\":\"2024-03-12T13:40:37.434000+00:00\",\"edited_timestamp\":null,\"flags\":0,\"components\":[]},{\"id\":\"1217104968218316951\",\"type\":0,\"content\":\"dsa\",\"channel_id\":\"1008149320786251888\",\"author\":{\"id\":\"341165598606360577\",\"username\":\"bogac42\",\"avatar\":\"f8d6823978bfee9fb17e9a1e5127bd53\",\"discriminator\":\"0\",\"public_flags\":0,\"premium_type\":0,\"flags\":0,\"banner\":null,\"accent_color\":null,\"global_name\":\"bogac42\",\"avatar_decoration_data\":null,\"banner_color\":null},\"attachments\":[],\"embeds\":[],\"mentions\":[],\"mention_roles\":[],\"pinned\":false,\"mention_everyone\":false,\"tts\":false,\"timestamp\":\"2024-03-12T13:40:37.140000+00:00\",\"edited_timestamp\":null,\"flags\":0,\"components\":[]},{\"id\":\"1217104966200725606\",\"type\":0,\"content\":\"sda\",\"channel_id\":\"1008149320786251888\",\"author\":{\"id\":\"341165598606360577\",\"username\":\"bogac42\",\"avatar\":\"f8d6823978bfee9fb17e9a1e5127bd53\",\"discriminator\":\"0\",\"public_flags\":0,\"premium_type\":0,\"flags\":0,\"banner\":null,\"accent_color\":null,\"global_name\":\"bogac42\",\"avatar_decoration_data\":null,\"banner_color\":null},\"attachments\":[],\"embeds\":[],\"mentions\":[],\"mention_roles\":[],\"pinned\":false,\"mention_everyone\":false,\"tts\":false,\"timestamp\":\"2024-03-12T13:40:36.659000+00:00\",\"edited_timestamp\":null,\"flags\":0,\"components\":[]},{\"id\":\"1217104964141191209\",\"type\":0,\"content\":\"a\",\"channel_id\":\"1008149320786251888\",\"author\":{\"id\":\"341165598606360577\",\"username\":\"bogac42\",\"avatar\":\"f8d6823978bfee9fb17e9a1e5127bd53\",\"discriminator\":\"0\",\"public_flags\":0,\"premium_type\":0,\"flags\":0,\"banner\":null,\"accent_color\":null,\"global_name\":\"bogac42\",\"avatar_decoration_data\":null,\"banner_color\":null},\"attachments\":[],\"embeds\":[],\"mentions\":[],\"mention_roles\":[],\"pinned\":false,\"mention_everyone\":false,\"tts\":false,\"timestamp\":\"2024-03-12T13:40:36.168000+00:00\",\"edited_timestamp\":null,\"flags\":0,\"components\":[]},{\"id\":\"1217104284458549279\",\"type\":0,\"content\":\"bfd\",\"channel_id\":\"1008149320786251888\",\"author\":{\"id\":\"341165598606360577\",\"username\":\"bogac42\",\"avatar\":\"f8d6823978bfee9fb17e9a1e5127bd53\",\"discriminator\":\"0\",\"public_flags\":0,\"premium_type\":0,\"flags\":0,\"banner\":null,\"accent_color\":null,\"global_name\":\"bogac42\",\"avatar_decoration_data\":null,\"banner_color\":null},\"attachments\":[],\"embeds\":[],\"mentions\":[],\"mention_roles\":[],\"pinned\":false,\"mention_everyone\":false,\"tts\":false,\"timestamp\":\"2024-03-12T13:37:54.119000+00:00\",\"edited_timestamp\":null,\"flags\":0,\"components\":[]},{\"id\":\"1217104277391151215\",\"type\":0,\"content\":\"axd\",\"channel_id\":\"1008149320786251888\",\"author\":{\"id\":\"341165598606360577\",\"username\":\"bogac42\",\"avatar\":\"f8d6823978bfee9fb17e9a1e5127bd53\",\"discriminator\":\"0\",\"public_flags\":0,\"premium_type\":0,\"flags\":0,\"banner\":null,\"accent_color\":null,\"global_name\":\"bogac42\",\"avatar_decoration_data\":null,\"banner_color\":null},\"attachments\":[],\"embeds\":[],\"mentions\":[],\"mention_roles\":[],\"pinned\":false,\"mention_everyone\":false,\"tts\":false,\"timestamp\":\"2024-03-12T13:37:52.434000+00:00\",\"edited_timestamp\":null,\"flags\":0,\"components\":[]},{\"id\":\"1217103814042325072\",\"type\":0,\"content\":\"b\",\"channel_id\":\"1008149320786251888\",\"author\":{\"id\":\"341165598606360577\",\"username\":\"bogac42\",\"avatar\":\"f8d6823978bfee9fb17e9a1e5127bd53\",\"discriminator\":\"0\",\"public_flags\":0,\"premium_type\":0,\"flags\":0,\"banner\":null,\"accent_color\":null,\"global_name\":\"bogac42\",\"avatar_decoration_data\":null,\"banner_color\":null},\"attachments\":[],\"embeds\":[],\"mentions\":[],\"mention_roles\":[],\"pinned\":false,\"mention_everyone\":false,\"tts\":false,\"timestamp\":\"2024-03-12T13:36:01.963000+00:00\",\"edited_timestamp\":null,\"flags\":0,\"components\":[]},{\"id\":\"1217103793368338493\",\"type\":0,\"content\":\"a\",\"channel_id\":\"1008149320786251888\",\"author\":{\"id\":\"341165598606360577\",\"username\":\"bogac42\",\"avatar\":\"f8d6823978bfee9fb17e9a1e5127bd53\",\"discriminator\":\"0\",\"public_flags\":0,\"premium_type\":0,\"flags\":0,\"banner\":null,\"accent_color\":null,\"global_name\":\"bogac42\",\"avatar_decoration_data\":null,\"banner_color\":null},\"attachments\":[],\"embeds\":[],\"mentions\":[],\"mention_roles\":[],\"pinned\":false,\"mention_everyone\":false,\"tts\":false,\"timestamp\":\"2024-03-12T13:35:57.034000+00:00\",\"edited_timestamp\":null,\"flags\":0,\"components\":[]},{\"id\":\"1217103245403488346\",\"type\":0,\"content\":\"5\",\"channel_id\":\"1008149320786251888\",\"author\":{\"id\":\"341165598606360577\",\"username\":\"bogac42\",\"avatar\":\"f8d6823978bfee9fb17e9a1e5127bd53\",\"discriminator\":\"0\",\"public_flags\":0,\"premium_type\":0,\"flags\":0,\"banner\":null,\"accent_color\":null,\"global_name\":\"bogac42\",\"avatar_decoration_data\":null,\"banner_color\":null},\"attachments\":[],\"embeds\":[],\"mentions\":[],\"mention_roles\":[],\"pinned\":false,\"mention_everyone\":false,\"tts\":false,\"timestamp\":\"2024-03-12T13:33:46.389000+00:00\",\"edited_timestamp\":null,\"flags\":0,\"components\":[]},{\"id\":\"1217103241003925595\",\"type\":0,\"content\":\"4\",\"channel_id\":\"1008149320786251888\",\"author\":{\"id\":\"341165598606360577\",\"username\":\"bogac42\",\"avatar\":\"f8d6823978bfee9fb17e9a1e5127bd53\",\"discriminator\":\"0\",\"public_flags\":0,\"premium_type\":0,\"flags\":0,\"banner\":null,\"accent_color\":null,\"global_name\":\"bogac42\",\"avatar_decoration_data\":null,\"banner_color\":null},\"attachments\":[],\"embeds\":[],\"mentions\":[],\"mention_roles\":[],\"pinned\":false,\"mention_everyone\":false,\"tts\":false,\"timestamp\":\"2024-03-12T13:33:45.340000+00:00\",\"edited_timestamp\":null,\"flags\":0,\"components\":[]},{\"id\":\"1217103239342723112\",\"type\":0,\"content\":\"3\",\"channel_id\":\"1008149320786251888\",\"author\":{\"id\":\"341165598606360577\",\"username\":\"bogac42\",\"avatar\":\"f8d6823978bfee9fb17e9a1e5127bd53\",\"discriminator\":\"0\",\"public_flags\":0,\"premium_type\":0,\"flags\":0,\"banner\":null,\"accent_color\":null,\"global_name\":\"bogac42\",\"avatar_decoration_data\":null,\"banner_color\":null},\"attachments\":[],\"embeds\":[],\"mentions\":[],\"mention_roles\":[],\"pinned\":false,\"mention_everyone\":false,\"tts\":false,\"timestamp\":\"2024-03-12T13:33:44.944000+00:00\",\"edited_timestamp\":null,\"flags\":0,\"components\":[]},{\"id\":\"1217103237740499066\",\"type\":0,\"content\":\"2\",\"channel_id\":\"1008149320786251888\",\"author\":{\"id\":\"341165598606360577\",\"username\":\"bogac42\",\"avatar\":\"f8d6823978bfee9fb17e9a1e5127bd53\",\"discriminator\":\"0\",\"public_flags\":0,\"premium_type\":0,\"flags\":0,\"banner\":null,\"accent_color\":null,\"global_name\":\"bogac42\",\"avatar_decoration_data\":null,\"banner_color\":null},\"attachments\":[],\"embeds\":[],\"mentions\":[],\"mention_roles\":[],\"pinned\":false,\"mention_everyone\":false,\"tts\":false,\"timestamp\":\"2024-03-12T13:33:44.562000+00:00\",\"edited_timestamp\":null,\"flags\":0,\"components\":[]},{\"id\":\"1217103226185322507\",\"type\":0,\"content\":\"1\",\"channel_id\":\"1008149320786251888\",\"author\":{\"id\":\"341165598606360577\",\"username\":\"bogac42\",\"avatar\":\"f8d6823978bfee9fb17e9a1e5127bd53\",\"discriminator\":\"0\",\"public_flags\":0,\"premium_type\":0,\"flags\":0,\"banner\":null,\"accent_color\":null,\"global_name\":\"bogac42\",\"avatar_decoration_data\":null,\"banner_color\":null},\"attachments\":[],\"embeds\":[],\"mentions\":[],\"mention_roles\":[],\"pinned\":false,\"mention_everyone\":false,\"tts\":false,\"timestamp\":\"2024-03-12T13:33:41.807000+00:00\",\"edited_timestamp\":null,\"flags\":0,\"components\":[]},{\"id\":\"1217103217314496596\",\"type\":0,\"content\":\"9\",\"channel_id\":\"1008149320786251888\",\"author\":{\"id\":\"341165598606360577\",\"username\":\"bogac42\",\"avatar\":\"f8d6823978bfee9fb17e9a1e5127bd53\",\"discriminator\":\"0\",\"public_flags\":0,\"premium_type\":0,\"flags\":0,\"banner\":null,\"accent_color\":null,\"global_name\":\"bogac42\",\"avatar_decoration_data\":null,\"banner_color\":null},\"attachments\":[],\"embeds\":[],\"mentions\":[],\"mention_roles\":[],\"pinned\":false,\"mention_everyone\":false,\"tts\":false,\"timestamp\":\"2024-03-12T13:33:39.692000+00:00\",\"edited_timestamp\":null,\"flags\":0,\"components\":[]},{\"id\":\"1217103213803601972\",\"type\":0,\"content\":\"8\",\"channel_id\":\"1008149320786251888\",\"author\":{\"id\":\"341165598606360577\",\"username\":\"bogac42\",\"avatar\":\"f8d6823978bfee9fb17e9a1e5127bd53\",\"discriminator\":\"0\",\"public_flags\":0,\"premium_type\":0,\"flags\":0,\"banner\":null,\"accent_color\":null,\"global_name\":\"bogac42\",\"avatar_decoration_data\":null,\"banner_color\":null},\"attachments\":[],\"embeds\":[],\"mentions\":[],\"mention_roles\":[],\"pinned\":false,\"mention_everyone\":false,\"tts\":false,\"timestamp\":\"2024-03-12T13:33:38.855000+00:00\",\"edited_timestamp\":null,\"flags\":0,\"components\":[]},{\"id\":\"1217103211689676941\",\"type\":0,\"content\":\"7\",\"channel_id\":\"1008149320786251888\",\"author\":{\"id\":\"341165598606360577\",\"username\":\"bogac42\",\"avatar\":\"f8d6823978bfee9fb17e9a1e5127bd53\",\"discriminator\":\"0\",\"public_flags\":0,\"premium_type\":0,\"flags\":0,\"banner\":null,\"accent_color\":null,\"global_name\":\"bogac42\",\"avatar_decoration_data\":null,\"banner_color\":null},\"attachments\":[],\"embeds\":[],\"mentions\":[],\"mention_roles\":[],\"pinned\":false,\"mention_everyone\":false,\"tts\":false,\"timestamp\":\"2024-03-12T13:33:38.351000+00:00\",\"edited_timestamp\":null,\"flags\":0,\"components\":[]},{\"id\":\"1217103209513091222\",\"type\":0,\"content\":\"6\",\"channel_id\":\"1008149320786251888\",\"author\":{\"id\":\"341165598606360577\",\"username\":\"bogac42\",\"avatar\":\"f8d6823978bfee9fb17e9a1e5127bd53\",\"discriminator\":\"0\",\"public_flags\":0,\"premium_type\":0,\"flags\":0,\"banner\":null,\"accent_color\":null,\"global_name\":\"bogac42\",\"avatar_decoration_data\":null,\"banner_color\":null},\"attachments\":[],\"embeds\":[],\"mentions\":[],\"mention_roles\":[],\"pinned\":false,\"mention_everyone\":false,\"tts\":false,\"timestamp\":\"2024-03-12T13:33:37.832000+00:00\",\"edited_timestamp\":null,\"flags\":0,\"components\":[]},{\"id\":\"1217103205926703145\",\"type\":0,\"content\":\"5\",\"channel_id\":\"1008149320786251888\",\"author\":{\"id\":\"341165598606360577\",\"username\":\"bogac42\",\"avatar\":\"f8d6823978bfee9fb17e9a1e5127bd53\",\"discriminator\":\"0\",\"public_flags\":0,\"premium_type\":0,\"flags\":0,\"banner\":null,\"accent_color\":null,\"global_name\":\"bogac42\",\"avatar_decoration_data\":null,\"banner_color\":null},\"attachments\":[],\"embeds\":[],\"mentions\":[],\"mention_roles\":[],\"pinned\":false,\"mention_everyone\":false,\"tts\":false,\"timestamp\":\"2024-03-12T13:33:36.977000+00:00\",\"edited_timestamp\":null,\"flags\":0,\"components\":[]},{\"id\":\"1217103204777722016\",\"type\":0,\"content\":\"4\",\"channel_id\":\"1008149320786251888\",\"author\":{\"id\":\"341165598606360577\",\"username\":\"bogac42\",\"avatar\":\"f8d6823978bfee9fb17e9a1e5127bd53\",\"discriminator\":\"0\",\"public_flags\":0,\"premium_type\":0,\"flags\":0,\"banner\":null,\"accent_color\":null,\"global_name\":\"bogac42\",\"avatar_decoration_data\":null,\"banner_color\":null},\"attachments\":[],\"embeds\":[],\"mentions\":[],\"mention_roles\":[],\"pinned\":false,\"mention_everyone\":false,\"tts\":false,\"timestamp\":\"2024-03-12T13:33:36.703000+00:00\",\"edited_timestamp\":null,\"flags\":0,\"components\":[]},{\"id\":\"1217103203494137906\",\"type\":0,\"content\":\"3\",\"channel_id\":\"1008149320786251888\",\"author\":{\"id\":\"341165598606360577\",\"username\":\"bogac42\",\"avatar\":\"f8d6823978bfee9fb17e9a1e5127bd53\",\"discriminator\":\"0\",\"public_flags\":0,\"premium_type\":0,\"flags\":0,\"banner\":null,\"accent_color\":null,\"global_name\":\"bogac42\",\"avatar_decoration_data\":null,\"banner_color\":null},\"attachments\":[],\"embeds\":[],\"mentions\":[],\"mention_roles\":[],\"pinned\":false,\"mention_everyone\":false,\"tts\":false,\"timestamp\":\"2024-03-12T13:33:36.397000+00:00\",\"edited_timestamp\":null,\"flags\":0,\"components\":[]},{\"id\":\"1217103050024550420\",\"type\":0,\"content\":\"2\",\"channel_id\":\"1008149320786251888\",\"author\":{\"id\":\"341165598606360577\",\"username\":\"bogac42\",\"avatar\":\"f8d6823978bfee9fb17e9a1e5127bd53\",\"discriminator\":\"0\",\"public_flags\":0,\"premium_type\":0,\"flags\":0,\"banner\":null,\"accent_color\":null,\"global_name\":\"bogac42\",\"avatar_decoration_data\":null,\"banner_color\":null},\"attachments\":[],\"embeds\":[],\"mentions\":[],\"mention_roles\":[],\"pinned\":false,\"mention_everyone\":false,\"tts\":false,\"timestamp\":\"2024-03-12T13:32:59.807000+00:00\",\"edited_timestamp\":null,\"flags\":0,\"components\":[]},{\"id\":\"1217103048283783228\",\"type\":0,\"content\":\"1\",\"channel_id\":\"1008149320786251888\",\"author\":{\"id\":\"341165598606360577\",\"username\":\"bogac42\",\"avatar\":\"f8d6823978bfee9fb17e9a1e5127bd53\",\"discriminator\":\"0\",\"public_flags\":0,\"premium_type\":0,\"flags\":0,\"banner\":null,\"accent_color\":null,\"global_name\":\"bogac42\",\"avatar_decoration_data\":null,\"banner_color\":null},\"attachments\":[],\"embeds\":[],\"mentions\":[],\"mention_roles\":[],\"pinned\":false,\"mention_everyone\":false,\"tts\":false,\"timestamp\":\"2024-03-12T13:32:59.392000+00:00\",\"edited_timestamp\":null,\"flags\":0,\"components\":[]},{\"id\":\"1217102921037254697\",\"type\":0,\"content\":\"z\",\"channel_id\":\"1008149320786251888\",\"author\":{\"id\":\"341165598606360577\",\"username\":\"bogac42\",\"avatar\":\"f8d6823978bfee9fb17e9a1e5127bd53\",\"discriminator\":\"0\",\"public_flags\":0,\"premium_type\":0,\"flags\":0,\"banner\":null,\"accent_color\":null,\"global_name\":\"bogac42\",\"avatar_decoration_data\":null,\"banner_color\":null},\"attachments\":[],\"embeds\":[],\"mentions\":[],\"mention_roles\":[],\"pinned\":false,\"mention_everyone\":false,\"tts\":false,\"timestamp\":\"2024-03-12T13:32:29.054000+00:00\",\"edited_timestamp\":null,\"flags\":0,\"components\":[]},{\"id\":\"1217102917664768100\",\"type\":0,\"content\":\"y\",\"channel_id\":\"1008149320786251888\",\"author\":{\"id\":\"341165598606360577\",\"username\":\"bogac42\",\"avatar\":\"f8d6823978bfee9fb17e9a1e5127bd53\",\"discriminator\":\"0\",\"public_flags\":0,\"premium_type\":0,\"flags\":0,\"banner\":null,\"accent_color\":null,\"global_name\":\"bogac42\",\"avatar_decoration_data\":null,\"banner_color\":null},\"attachments\":[],\"embeds\":[],\"mentions\":[],\"mention_roles\":[],\"pinned\":false,\"mention_everyone\":false,\"tts\":false,\"timestamp\":\"2024-03-12T13:32:28.250000+00:00\",\"edited_timestamp\":null,\"flags\":0,\"components\":[]}]\\n'"
      ]
     },
     "execution_count": 52,
     "metadata": {},
     "output_type": "execute_result"
    }
   ],
   "source": [
    "response.text"
   ]
  },
  {
   "cell_type": "code",
   "execution_count": 60,
   "metadata": {},
   "outputs": [
    {
     "name": "stdout",
     "output_type": "stream",
     "text": [
      "50\n",
      "bogac42: sefdsvwefs 1217105059033252011\n",
      "bogac42: sdfsdfs 1217105050913210489\n",
      "bogac42: vsrdsef 1217105044915097732\n",
      "bogac42: rvsdfs 1217105037155631105\n",
      "bogac42: asdarfasd 1217105032055492700\n",
      "bogac42: dvdfsd 1217105026795835514\n",
      "bogac42: asdade 1217105022010134608\n",
      "bogac42: sdfsde 1217105017400463421\n",
      "bogac42: ada 1217105013298561044\n",
      "bogac42: vv 1217105009972609054\n",
      "bogac42: s 1217105006885601432\n",
      "bogac42: erer 1217105004142268516\n",
      "bogac42: f 1217104998585077833\n",
      "bogac42: fdf 1217104994956738610\n",
      "bogac42: sd 1217104993056981035\n",
      "bogac42: dsf 1217104988371947650\n",
      "bogac42: sd 1217104986874449950\n",
      "bogac42: sd 1217104985083351111\n",
      "bogac42: sd 1217104983166554142\n",
      "bogac42: sd 1217104981656604752\n",
      "bogac42: sd 1217104980171821189\n",
      "bogac42: sd 1217104978079125594\n",
      "bogac42: sd 1217104976443342949\n",
      "bogac42: sd 1217104975205892096\n",
      "bogac42: ada 1217104973855330314\n",
      "bogac42: ds 1217104971653185648\n",
      "bogac42: ds 1217104969451311185\n",
      "bogac42: dsa 1217104968218316951\n",
      "bogac42: sda 1217104966200725606\n",
      "bogac42: a 1217104964141191209\n",
      "bogac42: bfd 1217104284458549279\n",
      "bogac42: axd 1217104277391151215\n",
      "bogac42: b 1217103814042325072\n",
      "bogac42: a 1217103793368338493\n",
      "bogac42: 5 1217103245403488346\n",
      "bogac42: 4 1217103241003925595\n",
      "bogac42: 3 1217103239342723112\n",
      "bogac42: 2 1217103237740499066\n",
      "bogac42: 1 1217103226185322507\n",
      "bogac42: 9 1217103217314496596\n",
      "bogac42: 8 1217103213803601972\n",
      "bogac42: 7 1217103211689676941\n",
      "bogac42: 6 1217103209513091222\n",
      "bogac42: 5 1217103205926703145\n",
      "bogac42: 4 1217103204777722016\n",
      "bogac42: 3 1217103203494137906\n",
      "bogac42: 2 1217103050024550420\n",
      "bogac42: 1 1217103048283783228\n",
      "bogac42: z 1217102921037254697\n",
      "bogac42: y 1217102917664768100\n"
     ]
    }
   ],
   "source": [
    "import json\n",
    "json_data=json.loads(response.text)\n",
    "text=json_data[0]\n",
    "print(len(json_data))\n",
    "for text in json_data:\n",
    "    print(text[\"author\"][\"username\"]+\": \"+text[\"content\"],text[\"id\"])\n",
    "    \n",
    "before=json_data[-1][\"id\"]\n"
   ]
  },
  {
   "cell_type": "code",
   "execution_count": 61,
   "metadata": {},
   "outputs": [
    {
     "name": "stdout",
     "output_type": "stream",
     "text": [
      "[{\"id\":\"1217102915798437958\",\"type\":0,\"content\":\"w\",\"channel_id\":\"1008149320786251888\",\"author\":{\"id\":\"341165598606360577\",\"username\":\"bogac42\",\"avatar\":\"f8d6823978bfee9fb17e9a1e5127bd53\",\"discriminator\":\"0\",\"public_flags\":0,\"premium_type\":0,\"flags\":0,\"banner\":null,\"accent_color\":null,\"global_name\":\"bogac42\",\"avatar_decoration_data\":null,\"banner_color\":null},\"attachments\":[],\"embeds\":[],\"mentions\":[],\"mention_roles\":[],\"pinned\":false,\"mention_everyone\":false,\"tts\":false,\"timestamp\":\"2024-03-12T13:32:27.805000+00:00\",\"edited_timestamp\":null,\"flags\":0,\"components\":[]},{\"id\":\"1217102910932910161\",\"type\":0,\"content\":\"u\",\"channel_id\":\"1008149320786251888\",\"author\":{\"id\":\"341165598606360577\",\"username\":\"bogac42\",\"avatar\":\"f8d6823978bfee9fb17e9a1e5127bd53\",\"discriminator\":\"0\",\"public_flags\":0,\"premium_type\":0,\"flags\":0,\"banner\":null,\"accent_color\":null,\"global_name\":\"bogac42\",\"avatar_decoration_data\":null,\"banner_color\":null},\"attachments\":[],\"embeds\":[],\"mentions\":[],\"mention_roles\":[],\"pinned\":false,\"mention_everyone\":false,\"tts\":false,\"timestamp\":\"2024-03-12T13:32:26.645000+00:00\",\"edited_timestamp\":null,\"flags\":0,\"components\":[]},{\"id\":\"1217102907057373326\",\"type\":0,\"content\":\"t\",\"channel_id\":\"1008149320786251888\",\"author\":{\"id\":\"341165598606360577\",\"username\":\"bogac42\",\"avatar\":\"f8d6823978bfee9fb17e9a1e5127bd53\",\"discriminator\":\"0\",\"public_flags\":0,\"premium_type\":0,\"flags\":0,\"banner\":null,\"accent_color\":null,\"global_name\":\"bogac42\",\"avatar_decoration_data\":null,\"banner_color\":null},\"attachments\":[],\"embeds\":[],\"mentions\":[],\"mention_roles\":[],\"pinned\":false,\"mention_everyone\":false,\"tts\":false,\"timestamp\":\"2024-03-12T13:32:25.721000+00:00\",\"edited_timestamp\":null,\"flags\":0,\"components\":[]},{\"id\":\"1217102899985911869\",\"type\":0,\"content\":\"s\",\"channel_id\":\"1008149320786251888\",\"author\":{\"id\":\"341165598606360577\",\"username\":\"bogac42\",\"avatar\":\"f8d6823978bfee9fb17e9a1e5127bd53\",\"discriminator\":\"0\",\"public_flags\":0,\"premium_type\":0,\"flags\":0,\"banner\":null,\"accent_color\":null,\"global_name\":\"bogac42\",\"avatar_decoration_data\":null,\"banner_color\":null},\"attachments\":[],\"embeds\":[],\"mentions\":[],\"mention_roles\":[],\"pinned\":false,\"mention_everyone\":false,\"tts\":false,\"timestamp\":\"2024-03-12T13:32:24.035000+00:00\",\"edited_timestamp\":null,\"flags\":0,\"components\":[]},{\"id\":\"1217102897876303943\",\"type\":0,\"content\":\"r\",\"channel_id\":\"1008149320786251888\",\"author\":{\"id\":\"341165598606360577\",\"username\":\"bogac42\",\"avatar\":\"f8d6823978bfee9fb17e9a1e5127bd53\",\"discriminator\":\"0\",\"public_flags\":0,\"premium_type\":0,\"flags\":0,\"banner\":null,\"accent_color\":null,\"global_name\":\"bogac42\",\"avatar_decoration_data\":null,\"banner_color\":null},\"attachments\":[],\"embeds\":[],\"mentions\":[],\"mention_roles\":[],\"pinned\":false,\"mention_everyone\":false,\"tts\":false,\"timestamp\":\"2024-03-12T13:32:23.532000+00:00\",\"edited_timestamp\":null,\"flags\":0,\"components\":[]},{\"id\":\"1217102894742900929\",\"type\":0,\"content\":\"p\",\"channel_id\":\"1008149320786251888\",\"author\":{\"id\":\"341165598606360577\",\"username\":\"bogac42\",\"avatar\":\"f8d6823978bfee9fb17e9a1e5127bd53\",\"discriminator\":\"0\",\"public_flags\":0,\"premium_type\":0,\"flags\":0,\"banner\":null,\"accent_color\":null,\"global_name\":\"bogac42\",\"avatar_decoration_data\":null,\"banner_color\":null},\"attachments\":[],\"embeds\":[],\"mentions\":[],\"mention_roles\":[],\"pinned\":false,\"mention_everyone\":false,\"tts\":false,\"timestamp\":\"2024-03-12T13:32:22.785000+00:00\",\"edited_timestamp\":null,\"flags\":0,\"components\":[]},{\"id\":\"1217102890565501058\",\"type\":0,\"content\":\"\\u00f6\",\"channel_id\":\"1008149320786251888\",\"author\":{\"id\":\"341165598606360577\",\"username\":\"bogac42\",\"avatar\":\"f8d6823978bfee9fb17e9a1e5127bd53\",\"discriminator\":\"0\",\"public_flags\":0,\"premium_type\":0,\"flags\":0,\"banner\":null,\"accent_color\":null,\"global_name\":\"bogac42\",\"avatar_decoration_data\":null,\"banner_color\":null},\"attachments\":[],\"embeds\":[],\"mentions\":[],\"mention_roles\":[],\"pinned\":false,\"mention_everyone\":false,\"tts\":false,\"timestamp\":\"2024-03-12T13:32:21.789000+00:00\",\"edited_timestamp\":null,\"flags\":0,\"components\":[]},{\"id\":\"1217102886698221629\",\"type\":0,\"content\":\"o\",\"channel_id\":\"1008149320786251888\",\"author\":{\"id\":\"341165598606360577\",\"username\":\"bogac42\",\"avatar\":\"f8d6823978bfee9fb17e9a1e5127bd53\",\"discriminator\":\"0\",\"public_flags\":0,\"premium_type\":0,\"flags\":0,\"banner\":null,\"accent_color\":null,\"global_name\":\"bogac42\",\"avatar_decoration_data\":null,\"banner_color\":null},\"attachments\":[],\"embeds\":[],\"mentions\":[],\"mention_roles\":[],\"pinned\":false,\"mention_everyone\":false,\"tts\":false,\"timestamp\":\"2024-03-12T13:32:20.867000+00:00\",\"edited_timestamp\":null,\"flags\":0,\"components\":[]},{\"id\":\"1217102883191783436\",\"type\":0,\"content\":\"n\",\"channel_id\":\"1008149320786251888\",\"author\":{\"id\":\"341165598606360577\",\"username\":\"bogac42\",\"avatar\":\"f8d6823978bfee9fb17e9a1e5127bd53\",\"discriminator\":\"0\",\"public_flags\":0,\"premium_type\":0,\"flags\":0,\"banner\":null,\"accent_color\":null,\"global_name\":\"bogac42\",\"avatar_decoration_data\":null,\"banner_color\":null},\"attachments\":[],\"embeds\":[],\"mentions\":[],\"mention_roles\":[],\"pinned\":false,\"mention_everyone\":false,\"tts\":false,\"timestamp\":\"2024-03-12T13:32:20.031000+00:00\",\"edited_timestamp\":null,\"flags\":0,\"components\":[]},{\"id\":\"1217102879865831554\",\"type\":0,\"content\":\"m\",\"channel_id\":\"1008149320786251888\",\"author\":{\"id\":\"341165598606360577\",\"username\":\"bogac42\",\"avatar\":\"f8d6823978bfee9fb17e9a1e5127bd53\",\"discriminator\":\"0\",\"public_flags\":0,\"premium_type\":0,\"flags\":0,\"banner\":null,\"accent_color\":null,\"global_name\":\"bogac42\",\"avatar_decoration_data\":null,\"banner_color\":null},\"attachments\":[],\"embeds\":[],\"mentions\":[],\"mention_roles\":[],\"pinned\":false,\"mention_everyone\":false,\"tts\":false,\"timestamp\":\"2024-03-12T13:32:19.238000+00:00\",\"edited_timestamp\":null,\"flags\":0,\"components\":[]},{\"id\":\"1217102875990167592\",\"type\":0,\"content\":\"l\",\"channel_id\":\"1008149320786251888\",\"author\":{\"id\":\"341165598606360577\",\"username\":\"bogac42\",\"avatar\":\"f8d6823978bfee9fb17e9a1e5127bd53\",\"discriminator\":\"0\",\"public_flags\":0,\"premium_type\":0,\"flags\":0,\"banner\":null,\"accent_color\":null,\"global_name\":\"bogac42\",\"avatar_decoration_data\":null,\"banner_color\":null},\"attachments\":[],\"embeds\":[],\"mentions\":[],\"mention_roles\":[],\"pinned\":false,\"mention_everyone\":false,\"tts\":false,\"timestamp\":\"2024-03-12T13:32:18.314000+00:00\",\"edited_timestamp\":null,\"flags\":0,\"components\":[]},{\"id\":\"1217102873779769364\",\"type\":0,\"content\":\"k\",\"channel_id\":\"1008149320786251888\",\"author\":{\"id\":\"341165598606360577\",\"username\":\"bogac42\",\"avatar\":\"f8d6823978bfee9fb17e9a1e5127bd53\",\"discriminator\":\"0\",\"public_flags\":0,\"premium_type\":0,\"flags\":0,\"banner\":null,\"accent_color\":null,\"global_name\":\"bogac42\",\"avatar_decoration_data\":null,\"banner_color\":null},\"attachments\":[],\"embeds\":[],\"mentions\":[],\"mention_roles\":[],\"pinned\":false,\"mention_everyone\":false,\"tts\":false,\"timestamp\":\"2024-03-12T13:32:17.787000+00:00\",\"edited_timestamp\":null,\"flags\":0,\"components\":[]},{\"id\":\"1217102871405924392\",\"type\":0,\"content\":\"j\",\"channel_id\":\"1008149320786251888\",\"author\":{\"id\":\"341165598606360577\",\"username\":\"bogac42\",\"avatar\":\"f8d6823978bfee9fb17e9a1e5127bd53\",\"discriminator\":\"0\",\"public_flags\":0,\"premium_type\":0,\"flags\":0,\"banner\":null,\"accent_color\":null,\"global_name\":\"bogac42\",\"avatar_decoration_data\":null,\"banner_color\":null},\"attachments\":[],\"embeds\":[],\"mentions\":[],\"mention_roles\":[],\"pinned\":false,\"mention_everyone\":false,\"tts\":false,\"timestamp\":\"2024-03-12T13:32:17.221000+00:00\",\"edited_timestamp\":null,\"flags\":0,\"components\":[]},{\"id\":\"1217102868398735380\",\"type\":0,\"content\":\"i\",\"channel_id\":\"1008149320786251888\",\"author\":{\"id\":\"341165598606360577\",\"username\":\"bogac42\",\"avatar\":\"f8d6823978bfee9fb17e9a1e5127bd53\",\"discriminator\":\"0\",\"public_flags\":0,\"premium_type\":0,\"flags\":0,\"banner\":null,\"accent_color\":null,\"global_name\":\"bogac42\",\"avatar_decoration_data\":null,\"banner_color\":null},\"attachments\":[],\"embeds\":[],\"mentions\":[],\"mention_roles\":[],\"pinned\":false,\"mention_everyone\":false,\"tts\":false,\"timestamp\":\"2024-03-12T13:32:16.504000+00:00\",\"edited_timestamp\":null,\"flags\":0,\"components\":[]},{\"id\":\"1217102861314297856\",\"type\":0,\"content\":\"h\",\"channel_id\":\"1008149320786251888\",\"author\":{\"id\":\"341165598606360577\",\"username\":\"bogac42\",\"avatar\":\"f8d6823978bfee9fb17e9a1e5127bd53\",\"discriminator\":\"0\",\"public_flags\":0,\"premium_type\":0,\"flags\":0,\"banner\":null,\"accent_color\":null,\"global_name\":\"bogac42\",\"avatar_decoration_data\":null,\"banner_color\":null},\"attachments\":[],\"embeds\":[],\"mentions\":[],\"mention_roles\":[],\"pinned\":false,\"mention_everyone\":false,\"tts\":false,\"timestamp\":\"2024-03-12T13:32:14.815000+00:00\",\"edited_timestamp\":null,\"flags\":0,\"components\":[]},{\"id\":\"1217102859468800080\",\"type\":0,\"content\":\"g\",\"channel_id\":\"1008149320786251888\",\"author\":{\"id\":\"341165598606360577\",\"username\":\"bogac42\",\"avatar\":\"f8d6823978bfee9fb17e9a1e5127bd53\",\"discriminator\":\"0\",\"public_flags\":0,\"premium_type\":0,\"flags\":0,\"banner\":null,\"accent_color\":null,\"global_name\":\"bogac42\",\"avatar_decoration_data\":null,\"banner_color\":null},\"attachments\":[],\"embeds\":[],\"mentions\":[],\"mention_roles\":[],\"pinned\":false,\"mention_everyone\":false,\"tts\":false,\"timestamp\":\"2024-03-12T13:32:14.375000+00:00\",\"edited_timestamp\":null,\"flags\":0,\"components\":[]},{\"id\":\"1217102856654426202\",\"type\":0,\"content\":\"f\",\"channel_id\":\"1008149320786251888\",\"author\":{\"id\":\"341165598606360577\",\"username\":\"bogac42\",\"avatar\":\"f8d6823978bfee9fb17e9a1e5127bd53\",\"discriminator\":\"0\",\"public_flags\":0,\"premium_type\":0,\"flags\":0,\"banner\":null,\"accent_color\":null,\"global_name\":\"bogac42\",\"avatar_decoration_data\":null,\"banner_color\":null},\"attachments\":[],\"embeds\":[],\"mentions\":[],\"mention_roles\":[],\"pinned\":false,\"mention_everyone\":false,\"tts\":false,\"timestamp\":\"2024-03-12T13:32:13.704000+00:00\",\"edited_timestamp\":null,\"flags\":0,\"components\":[]},{\"id\":\"1217102854154747964\",\"type\":0,\"content\":\"e\",\"channel_id\":\"1008149320786251888\",\"author\":{\"id\":\"341165598606360577\",\"username\":\"bogac42\",\"avatar\":\"f8d6823978bfee9fb17e9a1e5127bd53\",\"discriminator\":\"0\",\"public_flags\":0,\"premium_type\":0,\"flags\":0,\"banner\":null,\"accent_color\":null,\"global_name\":\"bogac42\",\"avatar_decoration_data\":null,\"banner_color\":null},\"attachments\":[],\"embeds\":[],\"mentions\":[],\"mention_roles\":[],\"pinned\":false,\"mention_everyone\":false,\"tts\":false,\"timestamp\":\"2024-03-12T13:32:13.108000+00:00\",\"edited_timestamp\":null,\"flags\":0,\"components\":[]},{\"id\":\"1217102852787536004\",\"type\":0,\"content\":\"d\",\"channel_id\":\"1008149320786251888\",\"author\":{\"id\":\"341165598606360577\",\"username\":\"bogac42\",\"avatar\":\"f8d6823978bfee9fb17e9a1e5127bd53\",\"discriminator\":\"0\",\"public_flags\":0,\"premium_type\":0,\"flags\":0,\"banner\":null,\"accent_color\":null,\"global_name\":\"bogac42\",\"avatar_decoration_data\":null,\"banner_color\":null},\"attachments\":[],\"embeds\":[],\"mentions\":[],\"mention_roles\":[],\"pinned\":false,\"mention_everyone\":false,\"tts\":false,\"timestamp\":\"2024-03-12T13:32:12.782000+00:00\",\"edited_timestamp\":null,\"flags\":0,\"components\":[]},{\"id\":\"1217102850841382932\",\"type\":0,\"content\":\"c\",\"channel_id\":\"1008149320786251888\",\"author\":{\"id\":\"341165598606360577\",\"username\":\"bogac42\",\"avatar\":\"f8d6823978bfee9fb17e9a1e5127bd53\",\"discriminator\":\"0\",\"public_flags\":0,\"premium_type\":0,\"flags\":0,\"banner\":null,\"accent_color\":null,\"global_name\":\"bogac42\",\"avatar_decoration_data\":null,\"banner_color\":null},\"attachments\":[],\"embeds\":[],\"mentions\":[],\"mention_roles\":[],\"pinned\":false,\"mention_everyone\":false,\"tts\":false,\"timestamp\":\"2024-03-12T13:32:12.318000+00:00\",\"edited_timestamp\":null,\"flags\":0,\"components\":[]},{\"id\":\"1217102849268256849\",\"type\":0,\"content\":\"b\",\"channel_id\":\"1008149320786251888\",\"author\":{\"id\":\"341165598606360577\",\"username\":\"bogac42\",\"avatar\":\"f8d6823978bfee9fb17e9a1e5127bd53\",\"discriminator\":\"0\",\"public_flags\":0,\"premium_type\":0,\"flags\":0,\"banner\":null,\"accent_color\":null,\"global_name\":\"bogac42\",\"avatar_decoration_data\":null,\"banner_color\":null},\"attachments\":[],\"embeds\":[],\"mentions\":[],\"mention_roles\":[],\"pinned\":false,\"mention_everyone\":false,\"tts\":false,\"timestamp\":\"2024-03-12T13:32:11.943000+00:00\",\"edited_timestamp\":null,\"flags\":0,\"components\":[]},{\"id\":\"1217102846726635581\",\"type\":0,\"content\":\"a\",\"channel_id\":\"1008149320786251888\",\"author\":{\"id\":\"341165598606360577\",\"username\":\"bogac42\",\"avatar\":\"f8d6823978bfee9fb17e9a1e5127bd53\",\"discriminator\":\"0\",\"public_flags\":0,\"premium_type\":0,\"flags\":0,\"banner\":null,\"accent_color\":null,\"global_name\":\"bogac42\",\"avatar_decoration_data\":null,\"banner_color\":null},\"attachments\":[],\"embeds\":[],\"mentions\":[],\"mention_roles\":[],\"pinned\":false,\"mention_everyone\":false,\"tts\":false,\"timestamp\":\"2024-03-12T13:32:11.337000+00:00\",\"edited_timestamp\":null,\"flags\":0,\"components\":[]}]\n",
      "\n"
     ]
    }
   ],
   "source": [
    "import requests\n",
    "\n",
    "url = f\"https://discord.com/api/v9/channels/1008149320786251888/messages?before={before}&limit=50\"\n",
    "\n",
    "payload = {}\n",
    "headers = {\n",
    "  'authority': 'discord.com',\n",
    "  'accept': '*/*',\n",
    "  'accept-language': 'tr-TR,tr;q=0.9,en-US;q=0.8,en;q=0.7',\n",
    "  'authorization': 'MzQxMTY1NTk4NjA2MzYwNTc3.GtYzYu.OV45tYnAEW3cybPVZp7rzn2AJ3iD6Uja4GYZYI',\n",
    "  'cookie': '__dcfduid=b767a82084a811ee9d179118d98b379f; __sdcfduid=b767a82184a811ee9d179118d98b379ff325e840820981ed3166b2282ab34af270ecd8c7df673488424e3a3de3c723d1; __cfruid=da2e96a835b592b3f9ad7aceb327d0984d304de3-1710249481; _cfuvid=XTW9s48QxHU_obEqKG923uN9l7GVfKOeFcer.2q8ASg-1710249481392-0.0.1.1-604800000; _gcl_au=1.1.1820746067.1710249484; OptanonConsent=isIABGlobal=false&datestamp=Tue+Mar+12+2024+16%3A18%3A03+GMT%2B0300+(GMT%2B03%3A00)&version=6.33.0&hosts=&landingPath=https%3A%2F%2Fdiscord.com%2F&groups=C0001%3A1%2CC0002%3A1%2CC0003%3A1; _ga=GA1.1.1526806074.1710249484; _ga_Q149DFWHT7=GS1.1.1710249484.1.0.1710249486.0.0.0; locale=en-GB; cf_clearance=jhazxEvgfL6c_7W4xCasWTX_pELLThg6etUaidNIvcY-1710249486-1.0.1.1-mo.WWoCYpA50CJAJQ_KmuJJdhVBh.5VPko8eI2bwONSfpo5D2ftirKWh5zbdtI07GWwIjpHTPvUV49owyvgWbg; __cfruid=f79a1bb8b95cab51eb0337c4b93ba69a82da8005-1710250400; _cfuvid=28CitLj_cAtGiy7KcGkXHvRmGklRPXGWSDTvMhG.1Lc-1710250400766-0.0.1.1-604800000',\n",
    "  'referer': 'https://discord.com/channels/1008149320157110373/1008149320786251888',\n",
    "  'sec-fetch-dest': 'empty',\n",
    "  'sec-fetch-mode': 'cors',\n",
    "  'sec-fetch-site': 'same-origin',\n",
    "  'user-agent': 'Mozilla/5.0 (Windows NT 10.0; Win64; x64) AppleWebKit/537.36 (KHTML, like Gecko) Chrome/121.0.6167.186 Safari/537.36',\n",
    "  'x-debug-options': 'bugReporterEnabled',\n",
    "  'x-discord-locale': 'en-GB',\n",
    "  'x-discord-timezone': 'Europe/Istanbul',\n",
    "  'x-super-properties': 'eyJvcyI6IldpbmRvd3MiLCJicm93c2VyIjoiQ2hyb21lIiwiZGV2aWNlIjoiIiwic3lzdGVtX2xvY2FsZSI6InRyLVRSIiwiYnJvd3Nlcl91c2VyX2FnZW50IjoiTW96aWxsYS81LjAgKFdpbmRvd3MgTlQgMTAuMDsgV2luNjQ7IHg2NCkgQXBwbGVXZWJLaXQvNTM3LjM2IChLSFRNTCwgbGlrZSBHZWNrbykgQ2hyb21lLzEyMS4wLjYxNjcuMTg2IFNhZmFyaS81MzcuMzYiLCJicm93c2VyX3ZlcnNpb24iOiIxMjEuMC42MTY3LjE4NiIsIm9zX3ZlcnNpb24iOiIxMCIsInJlZmVycmVyIjoiaHR0cHM6Ly93d3cuZ29vZ2xlLmNvbS8iLCJyZWZlcnJpbmdfZG9tYWluIjoid3d3Lmdvb2dsZS5jb20iLCJzZWFyY2hfZW5naW5lIjoiZ29vZ2xlIiwicmVmZXJyZXJfY3VycmVudCI6Imh0dHBzOi8vd3d3Lmdvb2dsZS5jb20vIiwicmVmZXJyaW5nX2RvbWFpbl9jdXJyZW50Ijoid3d3Lmdvb2dsZS5jb20iLCJzZWFyY2hfZW5naW5lX2N1cnJlbnQiOiJnb29nbGUiLCJyZWxlYXNlX2NoYW5uZWwiOiJzdGFibGUiLCJjbGllbnRfYnVpbGRfbnVtYmVyIjoyNzM4NTAsImNsaWVudF9ldmVudF9zb3VyY2UiOm51bGx9'\n",
    "}\n",
    "\n",
    "response = requests.request(\"GET\", url, headers=headers, data=payload)\n",
    "\n",
    "print(response.text)\n"
   ]
  },
  {
   "cell_type": "code",
   "execution_count": 62,
   "metadata": {},
   "outputs": [
    {
     "name": "stdout",
     "output_type": "stream",
     "text": [
      "22\n",
      "bogac42: w 1217102915798437958\n",
      "bogac42: u 1217102910932910161\n",
      "bogac42: t 1217102907057373326\n",
      "bogac42: s 1217102899985911869\n",
      "bogac42: r 1217102897876303943\n",
      "bogac42: p 1217102894742900929\n",
      "bogac42: ö 1217102890565501058\n",
      "bogac42: o 1217102886698221629\n",
      "bogac42: n 1217102883191783436\n",
      "bogac42: m 1217102879865831554\n",
      "bogac42: l 1217102875990167592\n",
      "bogac42: k 1217102873779769364\n",
      "bogac42: j 1217102871405924392\n",
      "bogac42: i 1217102868398735380\n",
      "bogac42: h 1217102861314297856\n",
      "bogac42: g 1217102859468800080\n",
      "bogac42: f 1217102856654426202\n",
      "bogac42: e 1217102854154747964\n",
      "bogac42: d 1217102852787536004\n",
      "bogac42: c 1217102850841382932\n",
      "bogac42: b 1217102849268256849\n",
      "bogac42: a 1217102846726635581\n"
     ]
    }
   ],
   "source": [
    "import json\n",
    "json_data=json.loads(response.text)\n",
    "text=json_data[0]\n",
    "print(len(json_data))\n",
    "for text in json_data:\n",
    "    print(text[\"author\"][\"username\"]+\": \"+text[\"content\"],text[\"id\"])\n",
    "    \n",
    "before=json_data[-1][\"id\"]\n"
   ]
  },
  {
   "cell_type": "code",
   "execution_count": 39,
   "metadata": {},
   "outputs": [
    {
     "name": "stdout",
     "output_type": "stream",
     "text": [
      "luisper: ses 1102689492256698498\n",
      "luisper: hoca uyansın diye 1102689489702355025\n"
     ]
    }
   ],
   "source": [
    "import json\n",
    "json_data=json.loads(response.text)\n",
    "text=json_data[0]\n",
    "\n",
    "for text in json_data:\n",
    "    print(text[\"author\"][\"username\"]+\": \"+text[\"content\"],text[\"id\"])\n"
   ]
  }
 ],
 "metadata": {
  "kernelspec": {
   "display_name": "Python 3",
   "language": "python",
   "name": "python3"
  },
  "language_info": {
   "codemirror_mode": {
    "name": "ipython",
    "version": 3
   },
   "file_extension": ".py",
   "mimetype": "text/x-python",
   "name": "python",
   "nbconvert_exporter": "python",
   "pygments_lexer": "ipython3",
   "version": "3.11.4"
  }
 },
 "nbformat": 4,
 "nbformat_minor": 2
}
